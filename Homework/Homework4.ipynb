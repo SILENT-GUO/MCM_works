{
 "cells": [
  {
   "cell_type": "markdown",
   "metadata": {},
   "source": [
    "![title](img/homework4p1.png)"
   ]
  },
  {
   "cell_type": "code",
   "execution_count": 1,
   "metadata": {},
   "outputs": [],
   "source": [
    "import numpy as np\n",
    "import matplotlib.pyplot as plt\n",
    "from scipy import optimize as op\n",
    "from scipy.optimize import minimize"
   ]
  },
  {
   "cell_type": "markdown",
   "metadata": {},
   "source": [
    "## Question 1: Use optimize.linprog method to solve an equation"
   ]
  },
  {
   "cell_type": "code",
   "execution_count": 2,
   "metadata": {},
   "outputs": [
    {
     "data": {
      "text/plain": [
       "           con: array([0.])\n",
       " crossover_nit: 0\n",
       "         eqlin:  marginals: array([-0.])\n",
       "  residual: array([0.])\n",
       "           fun: -26.0\n",
       "       ineqlin:  marginals: array([-1., -2.])\n",
       "  residual: array([0., 0.])\n",
       "         lower:  marginals: array([0., 0.])\n",
       "  residual: array([2., 6.])\n",
       "       message: 'Optimization terminated successfully. (HiGHS Status 7: Optimal)'\n",
       "           nit: 2\n",
       "         slack: array([0., 0.])\n",
       "        status: 0\n",
       "       success: True\n",
       "         upper:  marginals: array([0., 0.])\n",
       "  residual: array([inf, inf])\n",
       "             x: array([2., 6.])"
      ]
     },
     "execution_count": 2,
     "metadata": {},
     "output_type": "execute_result"
    }
   ],
   "source": [
    "## use optimize.linprog to solve the linear program\n",
    "def linear_programming(c,A,b,Aeq,beq,bounds):\n",
    "    res = op.linprog(c,A,b,Aeq,beq,bounds)\n",
    "    return res\n",
    "c= np.array([-4,-3])\n",
    "A= np.array([[2,1],[1,1]])\n",
    "b= np.array([10,8])\n",
    "A_eq=np.array([[0,0]])\n",
    "b_eq=np.array([0])\n",
    "bounds = ((0, None), (0, None))\n",
    "result = linear_programming(c,A,b,A_eq,b_eq,bounds)\n",
    "result"
   ]
  },
  {
   "cell_type": "markdown",
   "metadata": {},
   "source": [
    "#### For question 1, the max result is -1 * fun, the result of x is the last row of the output."
   ]
  },
  {
   "cell_type": "code",
   "execution_count": 3,
   "metadata": {},
   "outputs": [
    {
     "name": "stdout",
     "output_type": "stream",
     "text": [
      "     fun: 27.00000000000065\n",
      "     jac: array([6., 6., 6.])\n",
      " message: 'Optimization terminated successfully'\n",
      "    nfev: 13\n",
      "     nit: 3\n",
      "    njev: 3\n",
      "  status: 0\n",
      " success: True\n",
      "       x: array([3., 3., 3.])\n"
     ]
    }
   ],
   "source": [
    "# coding=utf-8\n",
    "def fun(args):\n",
    "    a,b,c=args\n",
    "    v=lambda x: a * x[0]**2+ b * x[1]**2+ c * x[2]**2\n",
    "    return v\n",
    "def con(args):\n",
    "    # constraints is divided into eq and ineq\n",
    "    cons = ({'type': 'ineq', 'fun': lambda x: x[0] + x[1] + x[2] - 9},\\\n",
    "              {'type': 'ineq', 'fun': lambda x: x[0]},\\\n",
    "                  {'type': 'ineq', 'fun': lambda x: x[1] },\\\n",
    "                      {'type': 'ineq', 'fun': lambda x: x[2] })\n",
    "    return cons\n",
    "## define args and constraints\n",
    "args = (1, 1, 1)  #a,b,c,d\n",
    "args1 = (1,1,1,1,1,1,1,1,1)## not used\n",
    "cons = con(args1)\n",
    "## x0 is the initial value(guessed)\n",
    "x0 = np.asarray((0.5,0.5,0.5))\n",
    "## use minimize to solve the problem\n",
    "res = minimize(fun(args), x0, method='SLSQP',constraints=cons)\n",
    "print(res)"
   ]
  },
  {
   "cell_type": "markdown",
   "metadata": {},
   "source": [
    "## Question 2: Solve real problems"
   ]
  },
  {
   "cell_type": "markdown",
   "metadata": {},
   "source": [
    "![title](img/homework4p2.png)"
   ]
  },
  {
   "cell_type": "markdown",
   "metadata": {},
   "source": [
    "- Analysis: assume x[i], y[i], z[i] be the occuption of rice, beans, and maizes on the level I field. Hence we have 9 unknown parameters.\n",
    "- We have equations and inequations:\n",
    "1. 11000 * x[0] + 9500 * x[1] + 9000 * x[2] >= 190000\n",
    "2. 8000 * y[0] + 6800 * y[1] + 6000 * y[2] >= 130000\n",
    "3. 14000 * z[0] + 12000 * z[1] + 10000 * z[2] >= 350000\n",
    "4. x[0] + y[0] + z[0] = 100\n",
    "5. x[1] + y[1] + z[1] = 300\n",
    "6. x[2] + y[2] + z[2] = 200\n",
    "7. all parameters >= 0\n",
    "\n",
    "- target:\n",
    "1. max z = 11000 * x[0] + 9500 * x[1] + 9000 * x[2] + 8000 * y[0] + 6800 * y[1] + 6000 * y[2] + 14000 * z[0] + 12000 * z[1] + 10000 * z[2]\n",
    "2. max z = 1.2*(11000 * x[0] + 9500 * x[1] + 9000 * x[2]) + 1.5*(8000 * y[0] + 6800 * y[1] + 6000 * y[2]) + 0.8 * (14000 * z[0] + 12000 * z[1] + 10000 * z[2])\n"
   ]
  },
  {
   "cell_type": "code",
   "execution_count": 8,
   "metadata": {},
   "outputs": [
    {
     "name": "stdout",
     "output_type": "stream",
     "text": [
      "===============The result of question 1 is ================\n",
      "           con: array([0., 0., 0.])\n",
      " crossover_nit: 0\n",
      "         eqlin:  marginals: array([-14000., -12000., -10000.])\n",
      "  residual: array([0., 0., 0.])\n",
      "           fun: -6892222.222222222\n",
      "       ineqlin:  marginals: array([-0.11111111, -0.66666667, -0.        ])\n",
      "  residual: array([      0.        ,       0.        , 6222222.22222222])\n",
      "         lower:  marginals: array([1777.77777778, 1444.44444444,    0.        ,  666.66666667,\n",
      "        666.66666667,    0.        ,    0.        ,    0.        ,\n",
      "          0.        ])\n",
      "  residual: array([  0.        ,   0.        ,  21.11111111,   0.        ,\n",
      "         0.        ,  21.66666667, 100.        , 300.        ,\n",
      "       157.22222222])\n",
      "       message: 'Optimization terminated successfully. (HiGHS Status 7: Optimal)'\n",
      "           nit: 5\n",
      "         slack: array([      0.        ,       0.        , 6222222.22222222])\n",
      "        status: 0\n",
      "       success: True\n",
      "         upper:  marginals: array([0., 0., 0., 0., 0., 0., 0., 0., 0.])\n",
      "  residual: array([inf, inf, inf, inf, inf, inf, inf, inf, inf])\n",
      "             x: array([  0.        ,   0.        ,  21.11111111,   0.        ,\n",
      "         0.        ,  21.66666667, 100.        , 300.        ,\n",
      "       157.22222222])\n",
      "===============The result of question 2 is ================\n",
      "           con: array([0., 0., 0.])\n",
      " crossover_nit: 0\n",
      "         eqlin:  marginals: array([-13200., -11400., -10800.])\n",
      "  residual: array([0., 0., 0.])\n",
      "           fun: -6830500.0\n",
      "       ineqlin:  marginals: array([-0.        , -0.15      , -0.14285714])\n",
      "  residual: array([5106250.,       0.,       0.])\n",
      "         lower:  marginals: array([   0.        ,    0.        ,    0.        ,    0.        ,\n",
      "        180.        ,  900.        ,    0.        ,   85.71428571,\n",
      "       1371.42857143])\n",
      "  residual: array([ 58.75, 300.  , 200.  ,  16.25,   0.  ,   0.  ,  25.  ,   0.  ,\n",
      "         0.  ])\n",
      "       message: 'Optimization terminated successfully. (HiGHS Status 7: Optimal)'\n",
      "           nit: 5\n",
      "         slack: array([5106250.,       0.,       0.])\n",
      "        status: 0\n",
      "       success: True\n",
      "         upper:  marginals: array([0., 0., 0., 0., 0., 0., 0., 0., 0.])\n",
      "  residual: array([inf, inf, inf, inf, inf, inf, inf, inf, inf])\n",
      "             x: array([ 58.75, 300.  , 200.  ,  16.25,   0.  ,   0.  ,  25.  ,   0.  ,\n",
      "         0.  ])\n"
     ]
    }
   ],
   "source": [
    "# use linear programming to solve the problem\n",
    "\n",
    "c = np.array([-11000, -9500, -9000, -8000, -6800, -6000, -14000, -12000, -10000])\n",
    "A = np.array([[-11000, -9500, -9000, 0,0,0,0,0,0],\\\n",
    "                [0,0,0,-8000, -6800, -6000,0,0,0],\\\n",
    "                    [0,0,0,0,0,0,-14000, -12000, -10000]])\n",
    "b = np.array([-190000, -130000, -350000])\n",
    "A_eq = np.array([[1,0,0,1,0,0,1,0,0],\\\n",
    "                    [0,1,0,0,1,0,0,1,0],\\\n",
    "                        [0,0,1,0,0,1,0,0,1]])\n",
    "b_eq = np.array([100, 300, 200])\n",
    "bounds = ((0, None), (0, None), (0, None), (0, None), (0, None), (0, None), (0, None), (0, None), (0, None))\n",
    "result = linear_programming(c,A,b,A_eq,b_eq,bounds)\n",
    "print(f'===============The result of question 1 is ================')\n",
    "print(result)\n",
    "print(f'===============The result of question 2 is ================')\n",
    "c_ = np.array([-11000*1.2, -9500*1.2, -9000*1.2, -8000*1.5, -6800*1.5, -6000*1.5, -14000*0.8, -12000*0.8, -10000*0.8])\n",
    "result2 = linear_programming(c_,A,b,A_eq,b_eq,bounds)\n",
    "print(result2)"
   ]
  }
 ],
 "metadata": {
  "kernelspec": {
   "display_name": "Python 3.10.6 ('SILENT')",
   "language": "python",
   "name": "python3"
  },
  "language_info": {
   "codemirror_mode": {
    "name": "ipython",
    "version": 3
   },
   "file_extension": ".py",
   "mimetype": "text/x-python",
   "name": "python",
   "nbconvert_exporter": "python",
   "pygments_lexer": "ipython3",
   "version": "3.10.6"
  },
  "orig_nbformat": 4,
  "vscode": {
   "interpreter": {
    "hash": "33a00747c7c616a6e1f951908c7a8e16aa8bdee44e4bbac794a20c5a719e4c26"
   }
  }
 },
 "nbformat": 4,
 "nbformat_minor": 2
}
