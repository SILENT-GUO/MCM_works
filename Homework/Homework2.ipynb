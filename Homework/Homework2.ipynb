{
 "cells": [
  {
   "cell_type": "code",
   "execution_count": 11,
   "metadata": {},
   "outputs": [
    {
     "name": "stdout",
     "output_type": "stream",
     "text": [
      "The maximum eigenvalue is 3.0055351117384985 at index 0\n",
      "The consistency ratio is 0.00477164805042976\n"
     ]
    }
   ],
   "source": [
    "import numpy as np\n",
    "A=[[1,2,5],[1/2,1,2],[1/5,1/2,1]]\n",
    "RI_list = [0,0,0.58,0.9,1.12,1.24,1.32,1.41,1.45]\n",
    "### find the eigenvalues and eigenvectors of A\n",
    "def find_consistency(A, RI_list):\n",
    "    eigval, eigvec = np.linalg.eig(A)\n",
    "    ### find the maximum eigenvalue\n",
    "    eigval_max = np.max(abs(eigval))\n",
    "    idx = np.where(eigval==eigval_max)\n",
    "    print(\"The maximum eigenvalue is {} at index {}\".format(eigval_max, idx[0][0]))\n",
    "    eigvec_max = eigvec[:,idx[0][0]]/np.sum(eigvec[:,idx[0][0]])\n",
    "\n",
    "    RI = RI_list[len(A)-1]\n",
    "    CI = (eigval_max-len(A))/(len(A)-1)\n",
    "    CR = CI/RI\n",
    "    print(\"The consistency ratio is {}\".format(CR))\n",
    "\n",
    "find_consistency(A, RI_list)\n"
   ]
  }
 ],
 "metadata": {
  "kernelspec": {
   "display_name": "Python 3.10.6 ('SILENT')",
   "language": "python",
   "name": "python3"
  },
  "language_info": {
   "codemirror_mode": {
    "name": "ipython",
    "version": 3
   },
   "file_extension": ".py",
   "mimetype": "text/x-python",
   "name": "python",
   "nbconvert_exporter": "python",
   "pygments_lexer": "ipython3",
   "version": "3.10.6"
  },
  "orig_nbformat": 4,
  "vscode": {
   "interpreter": {
    "hash": "33a00747c7c616a6e1f951908c7a8e16aa8bdee44e4bbac794a20c5a719e4c26"
   }
  }
 },
 "nbformat": 4,
 "nbformat_minor": 2
}
