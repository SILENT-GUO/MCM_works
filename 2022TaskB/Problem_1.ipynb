{
 "cells": [
  {
   "cell_type": "code",
   "execution_count": 100,
   "metadata": {},
   "outputs": [],
   "source": [
    "import pandas as pd\n",
    "import numpy as np\n",
    "import matplotlib.pyplot as plt\n",
    "from sklearn import linear_model"
   ]
  },
  {
   "cell_type": "code",
   "execution_count": 101,
   "metadata": {},
   "outputs": [
    {
     "data": {
      "text/plain": [
       "1000.0"
      ]
     },
     "execution_count": 101,
     "metadata": {},
     "output_type": "execute_result"
    }
   ],
   "source": [
    "1e3"
   ]
  },
  {
   "cell_type": "code",
   "execution_count": 102,
   "metadata": {},
   "outputs": [],
   "source": [
    "df = pd.read_csv('./water_usage.csv')\n",
    "df.drop(['unit'], axis=1, inplace=True)\n",
    "df.head()\n",
    "A = np.sum(df['Total'])/1e3\n",
    "lamb = 0.1\n",
    "\n",
    "df_elec = pd.read_csv('./elec_usage.csv')\n",
    "B = np.sum(df_elec['Elec Consumption(in billion kwh)'])\n"
   ]
  },
  {
   "cell_type": "code",
   "execution_count": 103,
   "metadata": {},
   "outputs": [
    {
     "name": "stdout",
     "output_type": "stream",
     "text": [
      "[6258.2061496  5144.8870527  4082.23584303 3241.30453949 3438.28680179\n",
      " 3859.02616495 3904.97057573 4253.48108913 4728.07088604 4794.42895247\n",
      " 5090.98969699 4805.52045459 3703.51215477 3653.3714878  3880.11171688\n",
      " 3985.6463543  4401.06072766 3969.32403213 3767.97379233 3836.54664005\n",
      " 2663.32320012]\n",
      "[6821.85674296 5877.41822132 5225.7159793  4738.20830848 5012.08978395\n",
      " 4734.87684993 4280.68050616 4061.60386997 3743.73534595 3505.86777159\n",
      " 3935.2622797  4496.1643546  4140.09289008 3564.96205927 3281.68772148\n",
      " 3188.34334188 3345.64494807 3305.40970056 3411.61525672 3505.49760953\n",
      " 3106.13543126]\n"
     ]
    }
   ],
   "source": [
    "elec = eval(\"\"\"[3933.683204\n",
    "3577.119783\n",
    "3566.349395\n",
    "3335.213361\n",
    "3299.099057\n",
    "3468.3302\n",
    "3401.3622\n",
    "3840.8015\n",
    "3614.9732\n",
    "3581.9664\n",
    "3591.23499\n",
    "3481.2981\n",
    "3179.3055\n",
    "3180.7328\n",
    "3577.755\n",
    "3707.779\n",
    "3638.8383\n",
    "3603.821\n",
    "3466.0974\n",
    "3155.0505\n",
    "2729.5634]\"\"\".replace('\\n', ', '))\n",
    "\n",
    "waterG = eval(\"\"\"[19205972\n",
    "15789278\n",
    "12528080\n",
    "9947324\n",
    "10551848\n",
    "11843066\n",
    "11984066\n",
    "13053619\n",
    "14510100\n",
    "14713748\n",
    "15623871\n",
    "14747787\n",
    "11365805\n",
    "11211927\n",
    "11907776\n",
    "12231654\n",
    "13506530\n",
    "12181562\n",
    "11563633\n",
    "11774078\n",
    "8173542]\"\"\".replace('\\n', ', '))\n",
    "\n",
    "levelG = eval(\"\"\"[3665.32\n",
    "3637.85\n",
    "3607.89\n",
    "3579.88\n",
    "3585.86\n",
    "3600.83\n",
    "3602.38\n",
    "3612.42\n",
    "3626.56\n",
    "3628.63\n",
    "3635.90 \n",
    "3628.87\n",
    "3595.83\n",
    "3593.79\n",
    "3610.47\n",
    "3604.74\n",
    "3616.94\n",
    "3604.11\n",
    "3596.95\n",
    "3600.11\n",
    "3557.57]\"\"\".replace('\\n', ', '))\n",
    "\n",
    "waterH = eval(\"\"\"[20935774\n",
    "18037362\n",
    "16037336\n",
    "14541211\n",
    "15381733\n",
    "14530987\n",
    "13137092\n",
    "12464762\n",
    "11489247\n",
    "10759249\n",
    "12077029\n",
    "13798396\n",
    "12705639\n",
    "10940605\n",
    "10071257\n",
    "9784790\n",
    "10267537\n",
    "10144058\n",
    "10469995\n",
    "10758113\n",
    "9532500]\"\"\".replace('\\n', ', '))\n",
    "\n",
    "levelH = eval(\"\"\"[1185.78\n",
    "1163.17\n",
    "1145.93\n",
    "1131.76\n",
    "1139.87\n",
    "1131.66\n",
    "1118\n",
    "1109.64\n",
    "1099.72\n",
    "1091.56\n",
    "1106.12\n",
    "1121.91\n",
    "1110.9\n",
    "1090.76\n",
    "1080.68\n",
    "1077.22\n",
    "1083.06\n",
    "1081.57\n",
    "1085.46\n",
    "1088.78\n",
    "1074.01]\"\"\".replace('\\n', ', '))\n",
    "\n",
    "elec = np.array(elec)\n",
    "elec = elec / 1e2\n",
    "\n",
    "def water_convert(water):\n",
    "    water = np.array(water)\n",
    "    water = water * 325846.885 / 1e9\n",
    "    return water\n",
    "\n",
    "waterG = water_convert(waterG)\n",
    "print(waterG)\n",
    "\n",
    "waterH = water_convert(waterH)\n",
    "print(waterH)"
   ]
  },
  {
   "cell_type": "code",
   "execution_count": 104,
   "metadata": {},
   "outputs": [
    {
     "name": "stderr",
     "output_type": "stream",
     "text": [
      "C:\\Users\\Sycamore\\AppData\\Local\\Temp\\ipykernel_6936\\2169521912.py:9: FutureWarning: Support for multi-dimensional indexing (e.g. `obj[:, None]`) is deprecated and will be removed in a future version.  Convert to a numpy array before indexing instead.\n",
      "  modelG.fit(df['waterG'][:,np.newaxis], df['elec'][:,np.newaxis])\n",
      "C:\\Users\\Sycamore\\AppData\\Local\\Temp\\ipykernel_6936\\2169521912.py:16: FutureWarning: Support for multi-dimensional indexing (e.g. `obj[:, None]`) is deprecated and will be removed in a future version.  Convert to a numpy array before indexing instead.\n",
      "  modelH.fit(df['waterH'][:,np.newaxis], df['elec'][:,np.newaxis])\n"
     ]
    },
    {
     "data": {
      "image/png": "[encoded data removed]",
      "text/plain": [
       "<Figure size 1200x300 with 1 Axes>"
      ]
     },
     "metadata": {},
     "output_type": "display_data"
    },
    {
     "data": {
      "image/png": "[encoded data removed]",
      "text/plain": [
       "<Figure size 1200x300 with 1 Axes>"
      ]
     },
     "metadata": {},
     "output_type": "display_data"
    }
   ],
   "source": [
    "df = pd.DataFrame(elec, columns=['elec'])\n",
    "df['waterG'] = waterG\n",
    "df['waterH'] = waterH\n",
    "fig = plt.figure(figsize =(12,3))\n",
    "plt.scatter(df['waterG'],df['elec'],marker = '.',color = 'k')\n",
    "plt.grid(True)\n",
    "# elec = a * water + b\n",
    "modelG = linear_model.LinearRegression()\n",
    "modelG.fit(df['waterG'][:,np.newaxis], df['elec'][:,np.newaxis])\n",
    "\n",
    "fig = plt.figure(figsize =(12,3))\n",
    "plt.scatter(df['waterH'],df['elec'],marker = '.',color = 'k')\n",
    "plt.grid(True)\n",
    "# elec = a * water + b\n",
    "modelH = linear_model.LinearRegression()\n",
    "modelH.fit(df['waterH'][:,np.newaxis], df['elec'][:,np.newaxis])\n",
    "\n",
    "plt.show()"
   ]
  },
  {
   "cell_type": "code",
   "execution_count": 105,
   "metadata": {},
   "outputs": [
    {
     "name": "stdout",
     "output_type": "stream",
     "text": [
      "Fitting for dam G\n",
      "---------------------\n",
      "slope: 0.0025\n",
      "intercept: 24.1174\n",
      "The linear regression function: y = 0.0025x + 24.1174\n",
      "Fitting for dam H\n",
      "---------------------\n",
      "slope: 0.0009\n",
      "intercept: 31.0267\n",
      "The linear regression function: y = 0.0009x + 31.0267\n"
     ]
    }
   ],
   "source": [
    "print(\"Fitting for dam G\")\n",
    "print(\"---------------------\")\n",
    "print('slope: %.4f' % modelG.coef_[0])\n",
    "print('intercept: %.4f' % modelG.intercept_)\n",
    "print('The linear regression function: y = %.4fx + %.4f' %\n",
    "      (modelG.coef_[0], modelG.intercept_))\n",
    "\n",
    "print(\"Fitting for dam H\")\n",
    "print(\"---------------------\")\n",
    "print('slope: %.4f' % modelH.coef_[0])\n",
    "print('intercept: %.4f' % modelH.intercept_)\n",
    "print('The linear regression function: y = %.4fx + %.4f' %\n",
    "      (modelH.coef_[0], modelH.intercept_))\n"
   ]
  },
  {
   "cell_type": "code",
   "execution_count": 106,
   "metadata": {},
   "outputs": [],
   "source": [
    "### here mu is the slope\n",
    "mu_G = modelG.coef_[0]\n",
    "### K = B/mu\n",
    "K = B / mu_G / 365\n",
    "\n",
    "### here mu is the slope\n",
    "mu_H = modelH.coef_[0]\n",
    "### K = B/mu\n",
    "K = B / mu_H / 365\n"
   ]
  },
  {
   "cell_type": "code",
   "execution_count": 107,
   "metadata": {},
   "outputs": [
    {
     "name": "stdout",
     "output_type": "stream",
     "text": [
      "All the parameters are:\n",
      "A =  44.26947 with the unit of billion gallons per day\n",
      "B =  1191.00234464 with the unit of billion kwh\n",
      "lambda =  0.1\n",
      "K =  [3663.45809724] with the unit of billion gallons\n",
      "mu for dam G =  [0.00254783]\n",
      "mu for dam H =  [0.00089069]\n"
     ]
    }
   ],
   "source": [
    "print(\"All the parameters are:\")\n",
    "print(\"A = \", A, \"with the unit of billion gallons per day\")\n",
    "print(\"B = \", B, \"with the unit of billion kwh\")\n",
    "print(\"lambda = \", lamb)\n",
    "print(\"K = \", K, \"with the unit of billion gallons\")\n",
    "print(\"mu for dam G = \", mu_G)\n",
    "print(\"mu for dam H = \", mu_H)"
   ]
  },
  {
   "cell_type": "code",
   "execution_count": 108,
   "metadata": {},
   "outputs": [
    {
     "name": "stderr",
     "output_type": "stream",
     "text": [
      "C:\\Users\\Sycamore\\AppData\\Local\\Temp\\ipykernel_6936\\2274953697.py:9: FutureWarning: Support for multi-dimensional indexing (e.g. `obj[:, None]`) is deprecated and will be removed in a future version.  Convert to a numpy array before indexing instead.\n",
      "  levelG2waterG.fit(df2['levelG'][:,np.newaxis], df2['waterG'][:,np.newaxis])\n"
     ]
    },
    {
     "data": {
      "text/plain": [
       "LinearRegression()"
      ]
     },
     "execution_count": 108,
     "metadata": {},
     "output_type": "execute_result"
    },
    {
     "data": {
      "image/png": "[encoded data removed]",
      "text/plain": [
       "<Figure size 1200x300 with 1 Axes>"
      ]
     },
     "metadata": {},
     "output_type": "display_data"
    }
   ],
   "source": [
    "# water = a * level + b\n",
    "df2 = pd.DataFrame(levelG, columns=['levelG'])\n",
    "df2['waterG'] = waterG\n",
    "fig = plt.figure(figsize =(12,3))\n",
    "plt.scatter(df2['levelG'],df2['waterG'],marker = '.',color = 'k')\n",
    "plt.grid(True)\n",
    "\n",
    "levelG2waterG = linear_model.LinearRegression()\n",
    "levelG2waterG.fit(df2['levelG'][:,np.newaxis], df2['waterG'][:,np.newaxis])"
   ]
  },
  {
   "cell_type": "code",
   "execution_count": 109,
   "metadata": {},
   "outputs": [
    {
     "name": "stdout",
     "output_type": "stream",
     "text": [
      "slope: 33.2906\n",
      "intercept: -115987.1261\n",
      "The linear regression function: y = 33.2906x + -115987.1261\n"
     ]
    }
   ],
   "source": [
    "print('slope: %.4f' % levelG2waterG.coef_[0])\n",
    "print('intercept: %.4f' % levelG2waterG.intercept_)\n",
    "print('The linear regression function: y = %.4fx + %.4f' %(levelG2waterG.coef_[0], levelG2waterG.intercept_))"
   ]
  },
  {
   "cell_type": "code",
   "execution_count": 110,
   "metadata": {},
   "outputs": [
    {
     "name": "stderr",
     "output_type": "stream",
     "text": [
      "C:\\Users\\Sycamore\\AppData\\Local\\Temp\\ipykernel_6936\\3986053116.py:9: FutureWarning: Support for multi-dimensional indexing (e.g. `obj[:, None]`) is deprecated and will be removed in a future version.  Convert to a numpy array before indexing instead.\n",
      "  levelH2waterH.fit(df2['levelH'][:,np.newaxis], df2['waterH'][:,np.newaxis])\n"
     ]
    },
    {
     "data": {
      "text/plain": [
       "LinearRegression()"
      ]
     },
     "execution_count": 110,
     "metadata": {},
     "output_type": "execute_result"
    },
    {
     "data": {
      "image/png": "[encoded data removed]",
      "text/plain": [
       "<Figure size 1200x300 with 1 Axes>"
      ]
     },
     "metadata": {},
     "output_type": "display_data"
    }
   ],
   "source": [
    "# water = a * level + b\n",
    "df2 = pd.DataFrame(levelH, columns=['levelH'])\n",
    "df2['waterH'] = waterH\n",
    "fig = plt.figure(figsize =(12,3))\n",
    "plt.scatter(df2['levelH'],df2['waterH'],marker = '.',color = 'r')\n",
    "plt.grid(True)\n",
    "\n",
    "levelH2waterH = linear_model.LinearRegression()\n",
    "levelH2waterH.fit(df2['levelH'][:,np.newaxis], df2['waterH'][:,np.newaxis])"
   ]
  },
  {
   "cell_type": "code",
   "execution_count": 111,
   "metadata": {},
   "outputs": [
    {
     "name": "stdout",
     "output_type": "stream",
     "text": [
      "slope: 31.7852\n",
      "intercept: -31136.6688\n",
      "The linear regression function: y = 31.7852x + -31136.6688\n"
     ]
    }
   ],
   "source": [
    "print('slope: %.4f' % levelH2waterH.coef_[0])\n",
    "print('intercept: %.4f' % levelH2waterH.intercept_)\n",
    "print('The linear regression function: y = %.4fx + %.4f' %(levelH2waterH.coef_[0], levelH2waterH.intercept_))"
   ]
  }
 ],
 "metadata": {
  "kernelspec": {
   "display_name": "base",
   "language": "python",
   "name": "python3"
  },
  "language_info": {
   "codemirror_mode": {
    "name": "ipython",
    "version": 3
   },
   "file_extension": ".py",
   "mimetype": "text/x-python",
   "name": "python",
   "nbconvert_exporter": "python",
   "pygments_lexer": "ipython3",
   "version": "3.9.13"
  },
  "orig_nbformat": 4,
  "vscode": {
   "interpreter": {
    "hash": "19f09cf2eddec64482a34667392e5f7909b14c50127e00aaec2a5f5b7afabf58"
   }
  }
 },
 "nbformat": 4,
 "nbformat_minor": 2
}
