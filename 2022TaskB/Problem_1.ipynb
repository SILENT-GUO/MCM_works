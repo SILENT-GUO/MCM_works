{
 "cells": [
  {
   "cell_type": "code",
   "execution_count": 231,
   "metadata": {},
   "outputs": [],
   "source": [
    "import pandas as pd\n",
    "import numpy as np\n",
    "import matplotlib.pyplot as plt\n",
    "from sklearn import linear_model\n",
    "import time"
   ]
  },
  {
   "cell_type": "code",
   "execution_count": 232,
   "metadata": {},
   "outputs": [],
   "source": [
    "start_time = time.time()"
   ]
  },
  {
   "cell_type": "code",
   "execution_count": 233,
   "metadata": {},
   "outputs": [],
   "source": [
    "df = pd.read_csv('./water_usage.csv')\n",
    "df.drop(['unit'], axis=1, inplace=True)\n",
    "df.head()\n",
    "A = np.sum(df['Total'])/1e3\n",
    "lamb = 0.1\n",
    "\n",
    "df_elec = pd.read_csv('./elec_usage.csv')\n",
    "B = np.sum(df_elec['Elec Consumption(in billion kwh)'])/365 ### calculate the average daily electricity consumption\n"
   ]
  },
  {
   "cell_type": "code",
   "execution_count": 234,
   "metadata": {},
   "outputs": [
    {
     "name": "stdout",
     "output_type": "stream",
     "text": [
      "[6258.2061496  5144.8870527  4082.23584303 3241.30453949 3438.28680179\n",
      " 3859.02616495 3904.97057573 4253.48108913 4728.07088604 4794.42895247\n",
      " 5090.98969699 4805.52045459 3703.51215477 3653.3714878  3880.11171688\n",
      " 3985.6463543  4401.06072766 3969.32403213 3767.97379233 3836.54664005\n",
      " 2663.32320012]\n",
      "[6821.85674296 5877.41822132 5225.7159793  4738.20830848 5012.08978395\n",
      " 4734.87684993 4280.68050616 4061.60386997 3743.73534595 3505.86777159\n",
      " 3935.2622797  4496.1643546  4140.09289008 3564.96205927 3281.68772148\n",
      " 3188.34334188 3345.64494807 3305.40970056 3411.61525672 3505.49760953\n",
      " 3106.13543126]\n"
     ]
    }
   ],
   "source": [
    "elec = eval(\"\"\"[3933.683204\n",
    "3577.119783\n",
    "3566.349395\n",
    "3335.213361\n",
    "3299.099057\n",
    "3468.3302\n",
    "3401.3622\n",
    "3840.8015\n",
    "3614.9732\n",
    "3581.9664\n",
    "3591.23499\n",
    "3481.2981\n",
    "3179.3055\n",
    "3180.7328\n",
    "3577.755\n",
    "3707.779\n",
    "3638.8383\n",
    "3603.821\n",
    "3466.0974\n",
    "3155.0505\n",
    "2729.5634]\"\"\".replace('\\n', ', '))\n",
    "\n",
    "waterG = eval(\"\"\"[19205972\n",
    "15789278\n",
    "12528080\n",
    "9947324\n",
    "10551848\n",
    "11843066\n",
    "11984066\n",
    "13053619\n",
    "14510100\n",
    "14713748\n",
    "15623871\n",
    "14747787\n",
    "11365805\n",
    "11211927\n",
    "11907776\n",
    "12231654\n",
    "13506530\n",
    "12181562\n",
    "11563633\n",
    "11774078\n",
    "8173542]\"\"\".replace('\\n', ', '))\n",
    "\n",
    "levelG = eval(\"\"\"[3665.32\n",
    "3637.85\n",
    "3607.89\n",
    "3579.88\n",
    "3585.86\n",
    "3600.83\n",
    "3602.38\n",
    "3612.42\n",
    "3626.56\n",
    "3628.63\n",
    "3635.90 \n",
    "3628.87\n",
    "3595.83\n",
    "3593.79\n",
    "3610.47\n",
    "3604.74\n",
    "3616.94\n",
    "3604.11\n",
    "3596.95\n",
    "3600.11\n",
    "3557.57]\"\"\".replace('\\n', ', '))\n",
    "\n",
    "waterH = eval(\"\"\"[20935774\n",
    "18037362\n",
    "16037336\n",
    "14541211\n",
    "15381733\n",
    "14530987\n",
    "13137092\n",
    "12464762\n",
    "11489247\n",
    "10759249\n",
    "12077029\n",
    "13798396\n",
    "12705639\n",
    "10940605\n",
    "10071257\n",
    "9784790\n",
    "10267537\n",
    "10144058\n",
    "10469995\n",
    "10758113\n",
    "9532500]\"\"\".replace('\\n', ', '))\n",
    "\n",
    "levelH = eval(\"\"\"[1185.78\n",
    "1163.17\n",
    "1145.93\n",
    "1131.76\n",
    "1139.87\n",
    "1131.66\n",
    "1118\n",
    "1109.64\n",
    "1099.72\n",
    "1091.56\n",
    "1106.12\n",
    "1121.91\n",
    "1110.9\n",
    "1090.76\n",
    "1080.68\n",
    "1077.22\n",
    "1083.06\n",
    "1081.57\n",
    "1085.46\n",
    "1088.78\n",
    "1074.01]\"\"\".replace('\\n', ', '))\n",
    "\n",
    "elec = np.array(elec)\n",
    "elec = elec / 1e2\n",
    "\n",
    "def water_convert(water):\n",
    "    water = np.array(water)\n",
    "    water = water * 325846.885 / 1e9\n",
    "    return water\n",
    "\n",
    "waterG = water_convert(waterG)\n",
    "print(waterG)\n",
    "\n",
    "waterH = water_convert(waterH)\n",
    "print(waterH)"
   ]
  },
  {
   "cell_type": "code",
   "execution_count": 235,
   "metadata": {},
   "outputs": [
    {
     "name": "stderr",
     "output_type": "stream",
     "text": [
      "/var/folders/hs/hk_yx7yd6g1dvcsdd3rksqk40000gn/T/ipykernel_72339/2169521912.py:9: FutureWarning: Support for multi-dimensional indexing (e.g. `obj[:, None]`) is deprecated and will be removed in a future version.  Convert to a numpy array before indexing instead.\n",
      "  modelG.fit(df['waterG'][:,np.newaxis], df['elec'][:,np.newaxis])\n",
      "/var/folders/hs/hk_yx7yd6g1dvcsdd3rksqk40000gn/T/ipykernel_72339/2169521912.py:16: FutureWarning: Support for multi-dimensional indexing (e.g. `obj[:, None]`) is deprecated and will be removed in a future version.  Convert to a numpy array before indexing instead.\n",
      "  modelH.fit(df['waterH'][:,np.newaxis], df['elec'][:,np.newaxis])\n"
     ]
    },
    {
     "data": {
      "image/png": "[encoded data removed]",
      "text/plain": [
       "<Figure size 1200x300 with 1 Axes>"
      ]
     },
     "metadata": {},
     "output_type": "display_data"
    },
    {
     "data": {
      "image/png": "[encoded data removed]",
      "text/plain": [
       "<Figure size 1200x300 with 1 Axes>"
      ]
     },
     "metadata": {},
     "output_type": "display_data"
    }
   ],
   "source": [
    "df = pd.DataFrame(elec, columns=['elec'])\n",
    "df['waterG'] = waterG\n",
    "df['waterH'] = waterH\n",
    "fig = plt.figure(figsize =(12,3))\n",
    "plt.scatter(df['waterG'],df['elec'],marker = '.',color = 'k')\n",
    "plt.grid(True)\n",
    "# elec = a * water + b\n",
    "modelG = linear_model.LinearRegression()\n",
    "modelG.fit(df['waterG'][:,np.newaxis], df['elec'][:,np.newaxis])\n",
    "\n",
    "fig = plt.figure(figsize =(12,3))\n",
    "plt.scatter(df['waterH'],df['elec'],marker = '.',color = 'k')\n",
    "plt.grid(True)\n",
    "# elec = a * water + b\n",
    "modelH = linear_model.LinearRegression()\n",
    "modelH.fit(df['waterH'][:,np.newaxis], df['elec'][:,np.newaxis])\n",
    "\n",
    "plt.show()"
   ]
  },
  {
   "cell_type": "code",
   "execution_count": 236,
   "metadata": {},
   "outputs": [
    {
     "name": "stdout",
     "output_type": "stream",
     "text": [
      "Fitting for dam G\n",
      "---------------------\n",
      "slope: 0.0025\n",
      "intercept: 24.1174\n",
      "The linear regression function: y = 0.0025x + 24.1174\n",
      "Fitting for dam H\n",
      "---------------------\n",
      "slope: 0.0009\n",
      "intercept: 31.0267\n",
      "The linear regression function: y = 0.0009x + 31.0267\n"
     ]
    }
   ],
   "source": [
    "print(\"Fitting for dam G\")\n",
    "print(\"---------------------\")\n",
    "print('slope: %.4f' % modelG.coef_[0])\n",
    "print('intercept: %.4f' % modelG.intercept_)\n",
    "print('The linear regression function: y = %.4fx + %.4f' %\n",
    "      (modelG.coef_[0], modelG.intercept_))\n",
    "\n",
    "print(\"Fitting for dam H\")\n",
    "print(\"---------------------\")\n",
    "print('slope: %.4f' % modelH.coef_[0])\n",
    "print('intercept: %.4f' % modelH.intercept_)\n",
    "print('The linear regression function: y = %.4fx + %.4f' %\n",
    "      (modelH.coef_[0], modelH.intercept_))\n"
   ]
  },
  {
   "cell_type": "code",
   "execution_count": 237,
   "metadata": {},
   "outputs": [],
   "source": [
    "### here mu is the slope\n",
    "mu_G = modelG.coef_[0]\n",
    "### here mu is the slope\n",
    "mu_H = modelH.coef_[0]"
   ]
  },
  {
   "cell_type": "code",
   "execution_count": 238,
   "metadata": {},
   "outputs": [
    {
     "name": "stderr",
     "output_type": "stream",
     "text": [
      "/var/folders/hs/hk_yx7yd6g1dvcsdd3rksqk40000gn/T/ipykernel_72339/2274953697.py:9: FutureWarning: Support for multi-dimensional indexing (e.g. `obj[:, None]`) is deprecated and will be removed in a future version.  Convert to a numpy array before indexing instead.\n",
      "  levelG2waterG.fit(df2['levelG'][:,np.newaxis], df2['waterG'][:,np.newaxis])\n"
     ]
    },
    {
     "data": {
      "text/html": [
       "<style>#sk-container-id-28 {color: black;background-color: white;}#sk-container-id-28 pre{padding: 0;}#sk-container-id-28 div.sk-toggleable {background-color: white;}#sk-container-id-28 label.sk-toggleable__label {cursor: pointer;display: block;width: 100%;margin-bottom: 0;padding: 0.3em;box-sizing: border-box;text-align: center;}#sk-container-id-28 label.sk-toggleable__label-arrow:before {content: \"▸\";float: left;margin-right: 0.25em;color: #696969;}#sk-container-id-28 label.sk-toggleable__label-arrow:hover:before {color: black;}#sk-container-id-28 div.sk-estimator:hover label.sk-toggleable__label-arrow:before {color: black;}#sk-container-id-28 div.sk-toggleable__content {max-height: 0;max-width: 0;overflow: hidden;text-align: left;background-color: #f0f8ff;}#sk-container-id-28 div.sk-toggleable__content pre {margin: 0.2em;color: black;border-radius: 0.25em;background-color: #f0f8ff;}#sk-container-id-28 input.sk-toggleable__control:checked~div.sk-toggleable__content {max-height: 200px;max-width: 100%;overflow: auto;}#sk-container-id-28 input.sk-toggleable__control:checked~label.sk-toggleable__label-arrow:before {content: \"▾\";}#sk-container-id-28 div.sk-estimator input.sk-toggleable__control:checked~label.sk-toggleable__label {background-color: #d4ebff;}#sk-container-id-28 div.sk-label input.sk-toggleable__control:checked~label.sk-toggleable__label {background-color: #d4ebff;}#sk-container-id-28 input.sk-hidden--visually {border: 0;clip: rect(1px 1px 1px 1px);clip: rect(1px, 1px, 1px, 1px);height: 1px;margin: -1px;overflow: hidden;padding: 0;position: absolute;width: 1px;}#sk-container-id-28 div.sk-estimator {font-family: monospace;background-color: #f0f8ff;border: 1px dotted black;border-radius: 0.25em;box-sizing: border-box;margin-bottom: 0.5em;}#sk-container-id-28 div.sk-estimator:hover {background-color: #d4ebff;}#sk-container-id-28 div.sk-parallel-item::after {content: \"\";width: 100%;border-bottom: 1px solid gray;flex-grow: 1;}#sk-container-id-28 div.sk-label:hover label.sk-toggleable__label {background-color: #d4ebff;}#sk-container-id-28 div.sk-serial::before {content: \"\";position: absolute;border-left: 1px solid gray;box-sizing: border-box;top: 0;bottom: 0;left: 50%;z-index: 0;}#sk-container-id-28 div.sk-serial {display: flex;flex-direction: column;align-items: center;background-color: white;padding-right: 0.2em;padding-left: 0.2em;position: relative;}#sk-container-id-28 div.sk-item {position: relative;z-index: 1;}#sk-container-id-28 div.sk-parallel {display: flex;align-items: stretch;justify-content: center;background-color: white;position: relative;}#sk-container-id-28 div.sk-item::before, #sk-container-id-28 div.sk-parallel-item::before {content: \"\";position: absolute;border-left: 1px solid gray;box-sizing: border-box;top: 0;bottom: 0;left: 50%;z-index: -1;}#sk-container-id-28 div.sk-parallel-item {display: flex;flex-direction: column;z-index: 1;position: relative;background-color: white;}#sk-container-id-28 div.sk-parallel-item:first-child::after {align-self: flex-end;width: 50%;}#sk-container-id-28 div.sk-parallel-item:last-child::after {align-self: flex-start;width: 50%;}#sk-container-id-28 div.sk-parallel-item:only-child::after {width: 0;}#sk-container-id-28 div.sk-dashed-wrapped {border: 1px dashed gray;margin: 0 0.4em 0.5em 0.4em;box-sizing: border-box;padding-bottom: 0.4em;background-color: white;}#sk-container-id-28 div.sk-label label {font-family: monospace;font-weight: bold;display: inline-block;line-height: 1.2em;}#sk-container-id-28 div.sk-label-container {text-align: center;}#sk-container-id-28 div.sk-container {/* jupyter's `normalize.less` sets `[hidden] { display: none; }` but bootstrap.min.css set `[hidden] { display: none !important; }` so we also need the `!important` here to be able to override the default hidden behavior on the sphinx rendered scikit-learn.org. See: https://github.com/scikit-learn/scikit-learn/issues/21755 */display: inline-block !important;position: relative;}#sk-container-id-28 div.sk-text-repr-fallback {display: none;}</style><div id=\"sk-container-id-28\" class=\"sk-top-container\"><div class=\"sk-text-repr-fallback\"><pre>LinearRegression()</pre><b>In a Jupyter environment, please rerun this cell to show the HTML representation or trust the notebook. <br />On GitHub, the HTML representation is unable to render, please try loading this page with nbviewer.org.</b></div><div class=\"sk-container\" hidden><div class=\"sk-item\"><div class=\"sk-estimator sk-toggleable\"><input class=\"sk-toggleable__control sk-hidden--visually\" id=\"sk-estimator-id-28\" type=\"checkbox\" checked><label for=\"sk-estimator-id-28\" class=\"sk-toggleable__label sk-toggleable__label-arrow\">LinearRegression</label><div class=\"sk-toggleable__content\"><pre>LinearRegression()</pre></div></div></div></div></div>"
      ],
      "text/plain": [
       "LinearRegression()"
      ]
     },
     "execution_count": 238,
     "metadata": {},
     "output_type": "execute_result"
    },
    {
     "data": {
      "image/png": "[encoded data removed]",
      "text/plain": [
       "<Figure size 1200x300 with 1 Axes>"
      ]
     },
     "metadata": {},
     "output_type": "display_data"
    }
   ],
   "source": [
    "# water = a * level + b\n",
    "df2 = pd.DataFrame(levelG, columns=['levelG'])\n",
    "df2['waterG'] = waterG\n",
    "fig = plt.figure(figsize =(12,3))\n",
    "plt.scatter(df2['levelG'],df2['waterG'],marker = '.',color = 'k')\n",
    "plt.grid(True)\n",
    "\n",
    "levelG2waterG = linear_model.LinearRegression()\n",
    "levelG2waterG.fit(df2['levelG'][:,np.newaxis], df2['waterG'][:,np.newaxis])"
   ]
  },
  {
   "cell_type": "code",
   "execution_count": 239,
   "metadata": {},
   "outputs": [
    {
     "name": "stdout",
     "output_type": "stream",
     "text": [
      "slope: 33.2906\n",
      "intercept: -115987.1261\n",
      "The linear regression function: y = 33.2906x + -115987.1261\n"
     ]
    }
   ],
   "source": [
    "print('slope: %.4f' % levelG2waterG.coef_[0])\n",
    "print('intercept: %.4f' % levelG2waterG.intercept_)\n",
    "print('The linear regression function: y = %.4fx + %.4f' %(levelG2waterG.coef_[0], levelG2waterG.intercept_))"
   ]
  },
  {
   "cell_type": "code",
   "execution_count": 240,
   "metadata": {},
   "outputs": [
    {
     "name": "stdout",
     "output_type": "stream",
     "text": [
      "The transformation from level to water volumn for dam G is: volume = 33.2906 * level + -115987.1261\n"
     ]
    }
   ],
   "source": [
    "print('The transformation from level to water volumn for dam G is: volume = %.4f * level + %.4f' %(levelG2waterG.coef_[0], levelG2waterG.intercept_))"
   ]
  },
  {
   "cell_type": "code",
   "execution_count": 241,
   "metadata": {},
   "outputs": [
    {
     "name": "stderr",
     "output_type": "stream",
     "text": [
      "/var/folders/hs/hk_yx7yd6g1dvcsdd3rksqk40000gn/T/ipykernel_72339/3986053116.py:9: FutureWarning: Support for multi-dimensional indexing (e.g. `obj[:, None]`) is deprecated and will be removed in a future version.  Convert to a numpy array before indexing instead.\n",
      "  levelH2waterH.fit(df2['levelH'][:,np.newaxis], df2['waterH'][:,np.newaxis])\n"
     ]
    },
    {
     "data": {
      "text/html": [
       "<style>#sk-container-id-29 {color: black;background-color: white;}#sk-container-id-29 pre{padding: 0;}#sk-container-id-29 div.sk-toggleable {background-color: white;}#sk-container-id-29 label.sk-toggleable__label {cursor: pointer;display: block;width: 100%;margin-bottom: 0;padding: 0.3em;box-sizing: border-box;text-align: center;}#sk-container-id-29 label.sk-toggleable__label-arrow:before {content: \"▸\";float: left;margin-right: 0.25em;color: #696969;}#sk-container-id-29 label.sk-toggleable__label-arrow:hover:before {color: black;}#sk-container-id-29 div.sk-estimator:hover label.sk-toggleable__label-arrow:before {color: black;}#sk-container-id-29 div.sk-toggleable__content {max-height: 0;max-width: 0;overflow: hidden;text-align: left;background-color: #f0f8ff;}#sk-container-id-29 div.sk-toggleable__content pre {margin: 0.2em;color: black;border-radius: 0.25em;background-color: #f0f8ff;}#sk-container-id-29 input.sk-toggleable__control:checked~div.sk-toggleable__content {max-height: 200px;max-width: 100%;overflow: auto;}#sk-container-id-29 input.sk-toggleable__control:checked~label.sk-toggleable__label-arrow:before {content: \"▾\";}#sk-container-id-29 div.sk-estimator input.sk-toggleable__control:checked~label.sk-toggleable__label {background-color: #d4ebff;}#sk-container-id-29 div.sk-label input.sk-toggleable__control:checked~label.sk-toggleable__label {background-color: #d4ebff;}#sk-container-id-29 input.sk-hidden--visually {border: 0;clip: rect(1px 1px 1px 1px);clip: rect(1px, 1px, 1px, 1px);height: 1px;margin: -1px;overflow: hidden;padding: 0;position: absolute;width: 1px;}#sk-container-id-29 div.sk-estimator {font-family: monospace;background-color: #f0f8ff;border: 1px dotted black;border-radius: 0.25em;box-sizing: border-box;margin-bottom: 0.5em;}#sk-container-id-29 div.sk-estimator:hover {background-color: #d4ebff;}#sk-container-id-29 div.sk-parallel-item::after {content: \"\";width: 100%;border-bottom: 1px solid gray;flex-grow: 1;}#sk-container-id-29 div.sk-label:hover label.sk-toggleable__label {background-color: #d4ebff;}#sk-container-id-29 div.sk-serial::before {content: \"\";position: absolute;border-left: 1px solid gray;box-sizing: border-box;top: 0;bottom: 0;left: 50%;z-index: 0;}#sk-container-id-29 div.sk-serial {display: flex;flex-direction: column;align-items: center;background-color: white;padding-right: 0.2em;padding-left: 0.2em;position: relative;}#sk-container-id-29 div.sk-item {position: relative;z-index: 1;}#sk-container-id-29 div.sk-parallel {display: flex;align-items: stretch;justify-content: center;background-color: white;position: relative;}#sk-container-id-29 div.sk-item::before, #sk-container-id-29 div.sk-parallel-item::before {content: \"\";position: absolute;border-left: 1px solid gray;box-sizing: border-box;top: 0;bottom: 0;left: 50%;z-index: -1;}#sk-container-id-29 div.sk-parallel-item {display: flex;flex-direction: column;z-index: 1;position: relative;background-color: white;}#sk-container-id-29 div.sk-parallel-item:first-child::after {align-self: flex-end;width: 50%;}#sk-container-id-29 div.sk-parallel-item:last-child::after {align-self: flex-start;width: 50%;}#sk-container-id-29 div.sk-parallel-item:only-child::after {width: 0;}#sk-container-id-29 div.sk-dashed-wrapped {border: 1px dashed gray;margin: 0 0.4em 0.5em 0.4em;box-sizing: border-box;padding-bottom: 0.4em;background-color: white;}#sk-container-id-29 div.sk-label label {font-family: monospace;font-weight: bold;display: inline-block;line-height: 1.2em;}#sk-container-id-29 div.sk-label-container {text-align: center;}#sk-container-id-29 div.sk-container {/* jupyter's `normalize.less` sets `[hidden] { display: none; }` but bootstrap.min.css set `[hidden] { display: none !important; }` so we also need the `!important` here to be able to override the default hidden behavior on the sphinx rendered scikit-learn.org. See: https://github.com/scikit-learn/scikit-learn/issues/21755 */display: inline-block !important;position: relative;}#sk-container-id-29 div.sk-text-repr-fallback {display: none;}</style><div id=\"sk-container-id-29\" class=\"sk-top-container\"><div class=\"sk-text-repr-fallback\"><pre>LinearRegression()</pre><b>In a Jupyter environment, please rerun this cell to show the HTML representation or trust the notebook. <br />On GitHub, the HTML representation is unable to render, please try loading this page with nbviewer.org.</b></div><div class=\"sk-container\" hidden><div class=\"sk-item\"><div class=\"sk-estimator sk-toggleable\"><input class=\"sk-toggleable__control sk-hidden--visually\" id=\"sk-estimator-id-29\" type=\"checkbox\" checked><label for=\"sk-estimator-id-29\" class=\"sk-toggleable__label sk-toggleable__label-arrow\">LinearRegression</label><div class=\"sk-toggleable__content\"><pre>LinearRegression()</pre></div></div></div></div></div>"
      ],
      "text/plain": [
       "LinearRegression()"
      ]
     },
     "execution_count": 241,
     "metadata": {},
     "output_type": "execute_result"
    },
    {
     "data": {
      "image/png": "[encoded data removed]",
      "text/plain": [
       "<Figure size 1200x300 with 1 Axes>"
      ]
     },
     "metadata": {},
     "output_type": "display_data"
    }
   ],
   "source": [
    "# water = a * level + b\n",
    "df2 = pd.DataFrame(levelH, columns=['levelH'])\n",
    "df2['waterH'] = waterH\n",
    "fig = plt.figure(figsize =(12,3))\n",
    "plt.scatter(df2['levelH'],df2['waterH'],marker = '.',color = 'r')\n",
    "plt.grid(True)\n",
    "\n",
    "levelH2waterH = linear_model.LinearRegression()\n",
    "levelH2waterH.fit(df2['levelH'][:,np.newaxis], df2['waterH'][:,np.newaxis])"
   ]
  },
  {
   "cell_type": "code",
   "execution_count": 242,
   "metadata": {},
   "outputs": [
    {
     "name": "stdout",
     "output_type": "stream",
     "text": [
      "slope: 31.7852\n",
      "intercept: -31136.6688\n",
      "The linear regression function: y = 31.7852x + -31136.6688\n"
     ]
    }
   ],
   "source": [
    "print('slope: %.4f' % levelH2waterH.coef_[0])\n",
    "print('intercept: %.4f' % levelH2waterH.intercept_)\n",
    "print('The linear regression function: y = %.4fx + %.4f' %(levelH2waterH.coef_[0], levelH2waterH.intercept_))"
   ]
  },
  {
   "cell_type": "code",
   "execution_count": 243,
   "metadata": {},
   "outputs": [
    {
     "name": "stdout",
     "output_type": "stream",
     "text": [
      "The transformation from level to water volumn for dam H is: volume = 31.7852 * level + -31136.6688\n"
     ]
    }
   ],
   "source": [
    "print('The transformation from level to water volumn for dam H is: volume = %.4f * level + %.4f' %(levelH2waterH.coef_[0], levelH2waterH.intercept_))"
   ]
  },
  {
   "attachments": {},
   "cell_type": "markdown",
   "metadata": {},
   "source": [
    "$\\mathrm{H}$ 坝水位为 $\\mathrm{M}, \\mathrm{G}$ 坝水位是 $\\mathrm{P}$，对应的水量分别为 $\\mathrm{M}_v, \\mathrm{P}_v$ 。假设 $\\mathrm{H}$ 坝中的 $\\lambda$ 比例出水会进入 $\\mathrm{G}$ 坝, $\\mathrm{H}$ 坝出水速率为 $x$ ， $\\mathrm{G}$ 坝出水速率为 $y$. 所有单位时间水需求量是 $A=a_1+a_2+a_3+a_4+a_5$, 单位时间电需求量是 $B=b_1+b_2+b_3+b_4+b_5$, 两个大坝的最低水量之和为 $K$, 分别为 $M_{\\min v}, P_{\\min v}$ ，提供电力和水量关系系数分别是 $\\mu_1, \\mu_2$. 两个大坝的最长持续时间是 $T$ 那么满足以下公式:\n",
    "已知数据: $M, P, A, B, \\mu, \\lambda$ 要求: $x, y, T$\n",
    "- $M_v - x * T=M_{\\min v}$\n",
    "- $P_v + \\lambda * x * T-y * T=P_{\\min v}$\n",
    "- $A=y+(1-\\lambda) * x$\n",
    "- $B=\\mu_1 * M_{\\min v} + \\mu_2 * P_{\\min v}$\n",
    "- \n",
    "解为:\n",
    "$$\n",
    "\\begin{aligned}\n",
    "& x=\\frac{M_v}{P_v + M_v} * A \\\\\n",
    "& y=\\frac{P_v+\\lambda * M_v}{P_v + M_v } * A \\\\\n",
    "& T=\\frac{P_v + M_v - M_{\\min v} - P_{\\min v}}{A}\n",
    "\\end{aligned}\n",
    "$$"
   ]
  },
  {
   "cell_type": "code",
   "execution_count": 244,
   "metadata": {},
   "outputs": [
    {
     "name": "stdout",
     "output_type": "stream",
     "text": [
      "Assume M and P is 3557.57 and 1074.01, respectively (2021 data)\n",
      "All the pre-known parameters known from data are:\n",
      "------------------------------------------------\n",
      "A =  44.26947 with the unit of billion gallons per day\n",
      "B =  3.26302012230137 with the unit of billion kwh per day\n",
      "lambda =  0.1\n",
      "mu_1 =  [0.00089069]\n",
      "mu_2 =  [0.00254783]\n",
      "\n",
      "The further calculated parameters are:\n",
      "------------------------------------------------\n",
      "M_v is : volume = 33.2906 * level + -115987.1261 = 2446.5517\n",
      "P_v is : volume = 31.7852 * level + -31136.6688 = 3000.9357\n",
      "Assume M_v / P_v = M_min v / P_min v = 0.8152629718941737\n",
      "P_min v is 996.6516\n",
      "M_min v is 812.5332\n",
      "\n",
      "The final result is:\n",
      "------------------------------------------------\n",
      "x = 19.8821\n",
      "y = 26.3756\n",
      "T = 82.1854\n"
     ]
    }
   ],
   "source": [
    "print(\"Assume M and P is 3557.57 and 1074.01, respectively (2021 data)\")\n",
    "M, P =3557.57, 1074.01\n",
    "print(\"All the pre-known parameters known from data are:\")\n",
    "print(\"------------------------------------------------\")\n",
    "print(\"A = \", A, \"with the unit of billion gallons per day\")\n",
    "print(\"B = \", B, \"with the unit of billion kwh per day\")\n",
    "print(\"lambda = \", lamb)\n",
    "print(\"mu_1 = \", mu_H)\n",
    "print(\"mu_2 = \", mu_G)\n",
    "print()\n",
    "print(\"The further calculated parameters are:\")\n",
    "print(\"------------------------------------------------\")\n",
    "print('M_v is : volume = %.4f * level + %.4f = %.4f' %(levelG2waterG.coef_[0], levelG2waterG.intercept_, levelG2waterG.coef_[0]*M + levelG2waterG.intercept_))\n",
    "M_v = levelG2waterG.coef_[0]*M + levelG2waterG.intercept_\n",
    "print('P_v is : volume = %.4f * level + %.4f = %.4f' %(levelH2waterH.coef_[0], levelH2waterH.intercept_, levelH2waterH.coef_[0]*P + levelH2waterH.intercept_))\n",
    "P_v = levelH2waterH.coef_[0]*P + levelH2waterH.intercept_\n",
    "print(\"Assume M_v / P_v = M_min v / P_min v = {}\".format(M_v.squeeze()/P_v.squeeze()))\n",
    "ratio = M_v.squeeze()/P_v.squeeze()\n",
    "print(\"P_min v is %.4f\" %(B/(ratio * mu_H + mu_G)))\n",
    "print(\"M_min v is %.4f\" %(B/(ratio * mu_H + mu_G) * ratio))\n",
    "M_min, P_min = B/(ratio * mu_H + mu_G) * ratio, B/(ratio * mu_H + mu_G)\n",
    "print()\n",
    "print(\"The final result is:\")\n",
    "print(\"------------------------------------------------\")\n",
    "print(\"x = %.4f\" %(M_v.squeeze() / (M_v.squeeze() + P_v.squeeze()) * A))\n",
    "x = M_v.squeeze() / (M_v.squeeze() + P_v.squeeze()) * A\n",
    "print(\"y = %.4f\" %((P_v.squeeze() + lamb * M_v.squeeze())  / (M_v.squeeze() + P_v.squeeze()) * A))\n",
    "y = (P_v.squeeze() + lamb * M_v.squeeze())  / (M_v.squeeze() + P_v.squeeze()) * A\n",
    "print(\"T = %.4f\" %((P_v.squeeze() + M_v.squeeze() - M_min - P_min)/A))\n",
    "T = (P_v.squeeze() + M_v.squeeze() - M_min - P_min)/A\n"
   ]
  },
  {
   "cell_type": "code",
   "execution_count": 245,
   "metadata": {},
   "outputs": [
    {
     "name": "stdout",
     "output_type": "stream",
     "text": [
      "The total time is: 1.2181 seconds\n"
     ]
    }
   ],
   "source": [
    "end_time = time.time()\n",
    "print(\"The total time is: %.4f seconds\" %(end_time - start_time))"
   ]
  }
 ],
 "metadata": {
  "kernelspec": {
   "display_name": "base",
   "language": "python",
   "name": "python3"
  },
  "language_info": {
   "codemirror_mode": {
    "name": "ipython",
    "version": 3
   },
   "file_extension": ".py",
   "mimetype": "text/x-python",
   "name": "python",
   "nbconvert_exporter": "python",
   "pygments_lexer": "ipython3",
   "version": "3.9.13"
  },
  "orig_nbformat": 4,
  "vscode": {
   "interpreter": {
    "hash": "19f09cf2eddec64482a34667392e5f7909b14c50127e00aaec2a5f5b7afabf58"
   }
  }
 },
 "nbformat": 4,
 "nbformat_minor": 2
}
