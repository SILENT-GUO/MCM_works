{
 "cells": [
  {
   "cell_type": "code",
   "execution_count": 103,
   "metadata": {},
   "outputs": [],
   "source": [
    "import pandas as pd\n",
    "import numpy as np\n",
    "import matplotlib.pyplot as plt\n",
    "from sklearn import linear_model"
   ]
  },
  {
   "cell_type": "code",
   "execution_count": 104,
   "metadata": {},
   "outputs": [
    {
     "data": {
      "text/plain": [
       "1000.0"
      ]
     },
     "execution_count": 104,
     "metadata": {},
     "output_type": "execute_result"
    }
   ],
   "source": [
    "1e3"
   ]
  },
  {
   "cell_type": "code",
   "execution_count": 105,
   "metadata": {},
   "outputs": [],
   "source": [
    "df = pd.read_csv('./water_usage.csv')\n",
    "df.drop(['unit'], axis=1, inplace=True)\n",
    "df.head()\n",
    "A = np.sum(df['Total'])/1e3\n",
    "lamb = 0.1\n",
    "\n",
    "df_elec = pd.read_csv('./elec_usage.csv')\n",
    "B = np.sum(df_elec['Elec Consumption(in billion kwh)'])\n"
   ]
  },
  {
   "cell_type": "code",
   "execution_count": 106,
   "metadata": {},
   "outputs": [
    {
     "name": "stdout",
     "output_type": "stream",
     "text": [
      "[6258.2061496  5144.8870527  4082.23584303 3241.30453949 3438.28680179\n",
      " 3859.02616495 3904.97057573 4253.48108913 4728.07088604 4794.42895247\n",
      " 5090.98969699 4805.52045459 3703.51215477 3653.3714878  3880.11171688\n",
      " 3985.6463543  4401.06072766 3969.32403213 3767.97379233 3836.54664005\n",
      " 2663.32320012]\n"
     ]
    }
   ],
   "source": [
    "elec = eval(\"\"\"[3933.683204\n",
    "3577.119783\n",
    "3566.349395\n",
    "3335.213361\n",
    "3299.099057\n",
    "3468.3302\n",
    "3401.3622\n",
    "3840.8015\n",
    "3614.9732\n",
    "3581.9664\n",
    "3591.23499\n",
    "3481.2981\n",
    "3179.3055\n",
    "3180.7328\n",
    "3577.755\n",
    "3707.779\n",
    "3638.8383\n",
    "3603.821\n",
    "3466.0974\n",
    "3155.0505\n",
    "2729.5634]\"\"\".replace('\\n', ', '))\n",
    "\n",
    "\n",
    "water = eval(\"\"\"[19205972\n",
    "15789278\n",
    "12528080\n",
    "9947324\n",
    "10551848\n",
    "11843066\n",
    "11984066\n",
    "13053619\n",
    "14510100\n",
    "14713748\n",
    "15623871\n",
    "14747787\n",
    "11365805\n",
    "11211927\n",
    "11907776\n",
    "12231654\n",
    "13506530\n",
    "12181562\n",
    "11563633\n",
    "11774078\n",
    "8173542]\"\"\".replace('\\n', ', '))\n",
    "### convert elec and level to np array\n",
    "elec, water = np.array(water), np.array(water)\n",
    "elec = elec / 1e2\n",
    "water = water * 325846.885 / 1e9\n",
    "print(water)"
   ]
  },
  {
   "cell_type": "code",
   "execution_count": 107,
   "metadata": {},
   "outputs": [
    {
     "name": "stderr",
     "output_type": "stream",
     "text": [
      "/var/folders/hs/hk_yx7yd6g1dvcsdd3rksqk40000gn/T/ipykernel_72339/1994109502.py:8: FutureWarning: Support for multi-dimensional indexing (e.g. `obj[:, None]`) is deprecated and will be removed in a future version.  Convert to a numpy array before indexing instead.\n",
      "  model.fit(df['water'][:,np.newaxis], df['elec'][:,np.newaxis])\n"
     ]
    },
    {
     "data": {
      "text/html": [
       "<style>#sk-container-id-12 {color: black;background-color: white;}#sk-container-id-12 pre{padding: 0;}#sk-container-id-12 div.sk-toggleable {background-color: white;}#sk-container-id-12 label.sk-toggleable__label {cursor: pointer;display: block;width: 100%;margin-bottom: 0;padding: 0.3em;box-sizing: border-box;text-align: center;}#sk-container-id-12 label.sk-toggleable__label-arrow:before {content: \"▸\";float: left;margin-right: 0.25em;color: #696969;}#sk-container-id-12 label.sk-toggleable__label-arrow:hover:before {color: black;}#sk-container-id-12 div.sk-estimator:hover label.sk-toggleable__label-arrow:before {color: black;}#sk-container-id-12 div.sk-toggleable__content {max-height: 0;max-width: 0;overflow: hidden;text-align: left;background-color: #f0f8ff;}#sk-container-id-12 div.sk-toggleable__content pre {margin: 0.2em;color: black;border-radius: 0.25em;background-color: #f0f8ff;}#sk-container-id-12 input.sk-toggleable__control:checked~div.sk-toggleable__content {max-height: 200px;max-width: 100%;overflow: auto;}#sk-container-id-12 input.sk-toggleable__control:checked~label.sk-toggleable__label-arrow:before {content: \"▾\";}#sk-container-id-12 div.sk-estimator input.sk-toggleable__control:checked~label.sk-toggleable__label {background-color: #d4ebff;}#sk-container-id-12 div.sk-label input.sk-toggleable__control:checked~label.sk-toggleable__label {background-color: #d4ebff;}#sk-container-id-12 input.sk-hidden--visually {border: 0;clip: rect(1px 1px 1px 1px);clip: rect(1px, 1px, 1px, 1px);height: 1px;margin: -1px;overflow: hidden;padding: 0;position: absolute;width: 1px;}#sk-container-id-12 div.sk-estimator {font-family: monospace;background-color: #f0f8ff;border: 1px dotted black;border-radius: 0.25em;box-sizing: border-box;margin-bottom: 0.5em;}#sk-container-id-12 div.sk-estimator:hover {background-color: #d4ebff;}#sk-container-id-12 div.sk-parallel-item::after {content: \"\";width: 100%;border-bottom: 1px solid gray;flex-grow: 1;}#sk-container-id-12 div.sk-label:hover label.sk-toggleable__label {background-color: #d4ebff;}#sk-container-id-12 div.sk-serial::before {content: \"\";position: absolute;border-left: 1px solid gray;box-sizing: border-box;top: 0;bottom: 0;left: 50%;z-index: 0;}#sk-container-id-12 div.sk-serial {display: flex;flex-direction: column;align-items: center;background-color: white;padding-right: 0.2em;padding-left: 0.2em;position: relative;}#sk-container-id-12 div.sk-item {position: relative;z-index: 1;}#sk-container-id-12 div.sk-parallel {display: flex;align-items: stretch;justify-content: center;background-color: white;position: relative;}#sk-container-id-12 div.sk-item::before, #sk-container-id-12 div.sk-parallel-item::before {content: \"\";position: absolute;border-left: 1px solid gray;box-sizing: border-box;top: 0;bottom: 0;left: 50%;z-index: -1;}#sk-container-id-12 div.sk-parallel-item {display: flex;flex-direction: column;z-index: 1;position: relative;background-color: white;}#sk-container-id-12 div.sk-parallel-item:first-child::after {align-self: flex-end;width: 50%;}#sk-container-id-12 div.sk-parallel-item:last-child::after {align-self: flex-start;width: 50%;}#sk-container-id-12 div.sk-parallel-item:only-child::after {width: 0;}#sk-container-id-12 div.sk-dashed-wrapped {border: 1px dashed gray;margin: 0 0.4em 0.5em 0.4em;box-sizing: border-box;padding-bottom: 0.4em;background-color: white;}#sk-container-id-12 div.sk-label label {font-family: monospace;font-weight: bold;display: inline-block;line-height: 1.2em;}#sk-container-id-12 div.sk-label-container {text-align: center;}#sk-container-id-12 div.sk-container {/* jupyter's `normalize.less` sets `[hidden] { display: none; }` but bootstrap.min.css set `[hidden] { display: none !important; }` so we also need the `!important` here to be able to override the default hidden behavior on the sphinx rendered scikit-learn.org. See: https://github.com/scikit-learn/scikit-learn/issues/21755 */display: inline-block !important;position: relative;}#sk-container-id-12 div.sk-text-repr-fallback {display: none;}</style><div id=\"sk-container-id-12\" class=\"sk-top-container\"><div class=\"sk-text-repr-fallback\"><pre>LinearRegression()</pre><b>In a Jupyter environment, please rerun this cell to show the HTML representation or trust the notebook. <br />On GitHub, the HTML representation is unable to render, please try loading this page with nbviewer.org.</b></div><div class=\"sk-container\" hidden><div class=\"sk-item\"><div class=\"sk-estimator sk-toggleable\"><input class=\"sk-toggleable__control sk-hidden--visually\" id=\"sk-estimator-id-12\" type=\"checkbox\" checked><label for=\"sk-estimator-id-12\" class=\"sk-toggleable__label sk-toggleable__label-arrow\">LinearRegression</label><div class=\"sk-toggleable__content\"><pre>LinearRegression()</pre></div></div></div></div></div>"
      ],
      "text/plain": [
       "LinearRegression()"
      ]
     },
     "execution_count": 107,
     "metadata": {},
     "output_type": "execute_result"
    },
    {
     "data": {
      "image/png": "[encoded data removed]",
      "text/plain": [
       "<Figure size 1200x300 with 1 Axes>"
      ]
     },
     "metadata": {},
     "output_type": "display_data"
    }
   ],
   "source": [
    "df = pd.DataFrame(elec, columns=['elec'])\n",
    "df['water'] = water\n",
    "fig = plt.figure(figsize =(12,3))\n",
    "plt.scatter(df['water'],df['elec'],marker = '.',color = 'k')\n",
    "plt.grid(True)\n",
    "# elec = a * level + b\n",
    "model = linear_model.LinearRegression()\n",
    "model.fit(df['water'][:,np.newaxis], df['elec'][:,np.newaxis])"
   ]
  },
  {
   "cell_type": "code",
   "execution_count": 108,
   "metadata": {},
   "outputs": [
    {
     "name": "stdout",
     "output_type": "stream",
     "text": [
      "slope: 30.6893\n",
      "intercept: -0.0000\n",
      "The linear regression function: y = 30.6893x + -0.0000\n"
     ]
    }
   ],
   "source": [
    "print('slope: %.4f' % model.coef_[0])\n",
    "print('intercept: %.4f' % model.intercept_)\n",
    "print('The linear regression function: y = %.4fx + %.4f' %\n",
    "      (model.coef_[0], model.intercept_))"
   ]
  },
  {
   "cell_type": "code",
   "execution_count": 109,
   "metadata": {},
   "outputs": [],
   "source": [
    "### here mu is the slope\n",
    "mu = model.coef_[0]\n",
    "### K = B/mu\n",
    "K = B / mu\n"
   ]
  },
  {
   "cell_type": "code",
   "execution_count": 110,
   "metadata": {},
   "outputs": [
    {
     "name": "stdout",
     "output_type": "stream",
     "text": [
      "All the parameters are:\n",
      "A =  44.26947 with the unit of billion gallons\n",
      "B =  1191.00234464 with the unit of billion kwh\n",
      "lambda =  0.1\n",
      "K =  [38.8084404] with the unit of billion gallons\n",
      "mu =  [30.68926069]\n"
     ]
    }
   ],
   "source": [
    "print(\"All the parameters are:\")\n",
    "print(\"A = \", A, \"with the unit of billion gallons\")\n",
    "print(\"B = \", B, \"with the unit of billion kwh\")\n",
    "print(\"lambda = \", lamb)\n",
    "print(\"K = \", K, \"with the unit of billion gallons\")\n",
    "print(\"mu = \", mu)"
   ]
  },
  {
   "cell_type": "code",
   "execution_count": null,
   "metadata": {},
   "outputs": [],
   "source": []
  }
 ],
 "metadata": {
  "kernelspec": {
   "display_name": "SILENT",
   "language": "python",
   "name": "python3"
  },
  "language_info": {
   "codemirror_mode": {
    "name": "ipython",
    "version": 3
   },
   "file_extension": ".py",
   "mimetype": "text/x-python",
   "name": "python",
   "nbconvert_exporter": "python",
   "pygments_lexer": "ipython3",
   "version": "3.10.6"
  },
  "orig_nbformat": 4,
  "vscode": {
   "interpreter": {
    "hash": "33a00747c7c616a6e1f951908c7a8e16aa8bdee44e4bbac794a20c5a719e4c26"
   }
  }
 },
 "nbformat": 4,
 "nbformat_minor": 2
}
