{
 "cells": [
  {
   "cell_type": "code",
   "execution_count": 191,
   "metadata": {},
   "outputs": [],
   "source": [
    "import pandas as pd\n",
    "import numpy as np\n",
    "import matplotlib.pyplot as plt\n",
    "from sklearn import linear_model\n",
    "import time\n",
    "import random\n",
    "import copy\n"
   ]
  },
  {
   "cell_type": "code",
   "execution_count": 192,
   "metadata": {},
   "outputs": [
    {
     "data": {
      "text/plain": [
       "7420"
      ]
     },
     "execution_count": 192,
     "metadata": {},
     "output_type": "execute_result"
    }
   ],
   "source": [
    "# 现在要对5个州做一个总的用水用电的水分配方案（分别给多少水，给多少电 -> 存多少水）\n",
    "# ai = 5个州的分别的总用水需求，bi = 5个州分别的用电需求 -> 转化为5个州的存水需求 wi\n",
    "# 求最优的ai、wi，再计算得到最优的ai、bi\n",
    "# 最优的评判：满足总和小于等于 M_v + P_v 的前提下，得分score()最高\n",
    "# Ai = 实际总用水， Bi = 实际总用电\n",
    "# (2015 data)\n",
    "M_v = 4207.6251\n",
    "P_v = 3212.9429\n",
    "N = int(M_v + P_v)\n",
    "Ai = eval(\"\"\"[4632.39\n",
    "20171.5\n",
    "7849.86\n",
    "2203.23\n",
    "9412.49]\"\"\".replace('\\n', ','))\n",
    "Bi = eval(\"\"\"316.5298945\n",
    "480.7151231\n",
    "147.2743259\n",
    "94.57796014\n",
    "151.905041\"\"\".replace('\\n', ','))\n",
    "Ai, Bi = np.array(Ai), np.array(Bi)\n",
    "Ai = Ai / 1e3\n",
    "Bi = Bi / 365\n",
    "N"
   ]
  },
  {
   "cell_type": "code",
   "execution_count": 193,
   "metadata": {},
   "outputs": [],
   "source": [
    "# 因为目前只有两个水坝分别的水电转换的关系式，应该需要再拟合一个总的：y = 0.0010x + 26.2830\n",
    "def w2e(x): return 0.0010 * x + 26.2830\n",
    "def e2w(y): return (y - 26.2830) / 0.0010\n",
    "\n",
    "m=1\n",
    "def score(a, a_prime, m):\n",
    "    return m / a_prime - m / a\n"
   ]
  },
  {
   "cell_type": "code",
   "execution_count": 194,
   "metadata": {},
   "outputs": [
    {
     "name": "stdout",
     "output_type": "stream",
     "text": [
      "[0.86720519 1.31702773 0.4034913  0.2591177  0.41617819] [-25415.79480959 -24965.97226548 -25879.50869616 -26023.88230099\n",
      " -25866.82180548]\n",
      "[ 4.63239    20.1715      7.84986     2.20323     9.41249     0.86720519\n",
      "  1.31702773  0.4034913   0.2591177   0.41617819]\n"
     ]
    }
   ],
   "source": [
    "print(Bi, e2w(Bi))\n",
    "Ai = np.append(Ai, Bi)\n",
    "\n",
    "print(Ai)\n"
   ]
  },
  {
   "cell_type": "code",
   "execution_count": 195,
   "metadata": {},
   "outputs": [],
   "source": [
    "def init_random():\n",
    "    x, tmp = [], []\n",
    "    for i in range(9):\n",
    "        ran = random.randint(0, N)\n",
    "        if ran not in tmp and ran != 0 and ran != N:\n",
    "            tmp.append(ran)\n",
    "    x.append(tmp[0])\n",
    "    for i in range(1, 9):\n",
    "        x.append(tmp[i]-tmp[i-1])\n",
    "    x.append()\n",
    "    return x\n",
    "\n",
    "def swap(x):\n",
    "    new_x = [] * len(x)\n",
    "    x2 = copy.copy(x)\n",
    "    np.random.shuffle(x)\n",
    "    bitlength = N.bit_length()\n",
    "    for i in range(0, len(x)-1, 2):\n",
    "        s = random.randint(0, bitlength)\n",
    "        new_x[x2.index(x[i])] = bin(x[i])[2:].zfill(bitlength)[:s] + bin(x[i+1])[2:].zfill(bitlength)[s:]\n",
    "        new_x[x2.index(x[i+1])] = bin(x[i+1])[2:].zfill(bitlength)[:s] + bin(x[i])[2:].zfill(bitlength)[s:]\n"
   ]
  },
  {
   "cell_type": "code",
   "execution_count": 196,
   "metadata": {},
   "outputs": [
    {
     "name": "stdout",
     "output_type": "stream",
     "text": [
      "[3708, 4977, 2726, 915, 4060, 6979, 6978, 2670, 4488]\n",
      "1101101000011 1101101000010\n",
      "1101101000010 1101101000011\n",
      "0001110010011 1000110001000\n",
      "0001110011000 1000110000011\n",
      "1001101110001 0111111011100\n",
      "1001101011100 0111111110001\n",
      "0111001111100 0101010100110\n",
      "0111010100110 0101001111100\n"
     ]
    }
   ],
   "source": [
    "x = init_random()\n",
    "print(x)\n",
    "swap(x)"
   ]
  },
  {
   "cell_type": "code",
   "execution_count": null,
   "metadata": {},
   "outputs": [],
   "source": []
  }
 ],
 "metadata": {
  "kernelspec": {
   "display_name": "base",
   "language": "python",
   "name": "python3"
  },
  "language_info": {
   "codemirror_mode": {
    "name": "ipython",
    "version": 3
   },
   "file_extension": ".py",
   "mimetype": "text/x-python",
   "name": "python",
   "nbconvert_exporter": "python",
   "pygments_lexer": "ipython3",
   "version": "3.9.13"
  },
  "orig_nbformat": 4,
  "vscode": {
   "interpreter": {
    "hash": "19f09cf2eddec64482a34667392e5f7909b14c50127e00aaec2a5f5b7afabf58"
   }
  }
 },
 "nbformat": 4,
 "nbformat_minor": 2
}
