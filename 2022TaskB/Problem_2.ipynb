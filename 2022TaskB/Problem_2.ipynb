{
 "cells": [
  {
   "cell_type": "code",
   "execution_count": 513,
   "metadata": {},
   "outputs": [],
   "source": [
    "import pandas as pd\n",
    "import numpy as np\n",
    "import matplotlib.pyplot as plt\n",
    "from sklearn import linear_model\n",
    "import time\n",
    "import random\n",
    "import copy\n",
    "import math\n"
   ]
  },
  {
   "cell_type": "code",
   "execution_count": 514,
   "metadata": {},
   "outputs": [],
   "source": [
    "# 现在要对5个州做一个总的用水用电的水分配方案（分别给多少水，给多少电 -> 存多少水）\n",
    "# a = 5个州的分别的总用水需求，b = 5个州分别的用电需求 -> 转化为5个州的存水需求 w\n",
    "# 求最优的a、w，再计算得到最优的a、b\n",
    "# 最优的评判：满足总和小于等于 M_v + P_v 的前提下，得分score()最高\n",
    "# A = 5州分别实际总用水， B = 5州分别实际总用电\n",
    "# (2019 data)\n",
    "M_v = 4207.6251 - 0.402866840525917\n",
    "P_v = 3212.9429 - 192.830940038404\n",
    "N = int((M_v*1e4 + P_v*1e4)/166.0947)\n",
    "bitlength = N.bit_length()\n",
    "A = eval(\"\"\"[4632.39\n",
    "20171.5\n",
    "7849.86\n",
    "2203.23\n",
    "9412.49]\"\"\".replace('\\n', ','))\n",
    "B = eval(\"\"\"316.5298945\n",
    "480.7151231\n",
    "147.2743259\n",
    "94.57796014\n",
    "151.905041\"\"\".replace('\\n', ','))\n",
    "A, B = np.array(A), np.array(B)\n",
    "A = A / 1e3 * 1e4\n",
    "B = B / 365\n",
    "\n",
    "N_GENERATIONS=10000"
   ]
  },
  {
   "cell_type": "code",
   "execution_count": 518,
   "metadata": {},
   "outputs": [
    {
     "name": "stdout",
     "output_type": "stream",
     "text": [
      "the corresponding water storage to meet elec requirement is 313.7679698096622\n",
      "[  4.63239     20.1715       7.84986      2.20323      9.41249\n",
      "  83.38937604 126.64375424  38.79922357  24.91643671  40.01917925]\n",
      "44.6767\n",
      "358.03743980966215\n"
     ]
    }
   ],
   "source": [
    "# 因为目前只有两个水坝分别的水电转换的关系式，应该需要再拟合一个总的： y = 9.6416 * lnx + -52.1632\n",
    "def w2e(x): return 9.6416 * np.log(x) + -52.1632\n",
    "def e2w(y): return np.exp((y + 52.1632) / 9.6416)\n",
    "print(\"the corresponding water storage to meet elec requirement is\", e2w(np.sum(B)))\n",
    "ratio = B/sum(B)\n",
    "a_prime = np.append(A, e2w(np.sum(B)) * 1e4 * ratio)\n",
    "print(a_prime/1e4)\n",
    "print(N / 1e4)\n",
    "print(sum(a_prime)/1e4)\n",
    "m=1\n",
    "def score(ai, a_primei, m):\n",
    "    value = m / a_primei - m / ai\n",
    "    return value\n",
    "\n",
    "def evaluate(a, a_prime, m):\n",
    "    product = 0\n",
    "    for i in range(len(a)):\n",
    "        product = product + score(a[i], a_prime[i], m)\n",
    "    return product / len(a)\n"
   ]
  },
  {
   "cell_type": "code",
   "execution_count": 516,
   "metadata": {},
   "outputs": [],
   "source": [
    "def init_random():\n",
    "    x, tmp = [], []\n",
    "    while len(tmp) < 9:\n",
    "        r = random.randint(0, N)\n",
    "        if r not in tmp and r != 0 and r != N:\n",
    "            tmp.append(r)\n",
    "    tmp.sort()\n",
    "    x.append(tmp[0])\n",
    "    for i in range(1, 9):\n",
    "        x.append(tmp[i]-tmp[i-1])\n",
    "    x.append(N-tmp[-1])\n",
    "    return x\n",
    "\n",
    "def swap(x):\n",
    "    new_x = copy.copy(x)\n",
    "    x_copy = copy.copy(x)\n",
    "    x = list(x)\n",
    "    np.random.shuffle(x_copy)\n",
    "    bitlength = N.bit_length()\n",
    "    s = random.randint(0, bitlength-1)\n",
    "    new_x[x.index(x_copy[0])] = int((bin(x_copy[0])[2:]).zfill(bitlength)[:s] + bin(x_copy[1])[2:].zfill(bitlength)[s:],2)\n",
    "    new_x[x.index(x_copy[1])] = int(bin(x_copy[1])[2:].zfill(bitlength)[:s] + bin(x_copy[0])[2:].zfill(bitlength)[s:],2)\n",
    "    return new_x\n",
    "\n",
    "def mutation(x):\n",
    "    new_x = copy.copy(x)\n",
    "    x_copy = copy.copy(x)\n",
    "    ridx = random.randint(0, len(x_copy)-1)\n",
    "    r = random.randint(0, bitlength-1)\n",
    "    x_copy_bin = (bin(x_copy[ridx])[2:]).zfill(bitlength)\n",
    "    x_copy_bin = x_copy_bin[:r] + str((int(x_copy_bin[r])+1) % 2) + x_copy_bin[r+1:]\n",
    "    new_x[ridx] = int(x_copy_bin, 2)\n",
    "    return new_x\n",
    "\n",
    "def legal(x):\n",
    "    if 0 in x:\n",
    "        return False\n",
    "    s = sum(x)\n",
    "    if s > N:\n",
    "        return False\n",
    "    else:\n",
    "        return True"
   ]
  },
  {
   "cell_type": "code",
   "execution_count": 517,
   "metadata": {},
   "outputs": [
    {
     "name": "stdout",
     "output_type": "stream",
     "text": [
      "[3.9802 4.1536 3.6863 6.5536 3.9802 3.6863 6.5536 3.891  3.2767 4.9152] -0.1292864635735624\n",
      "[-0.03537236719497889, -0.1911801124311265, -0.14388391293904587, 0.30129118691116286, -0.1450018433573778, -0.2592827846349375, -0.14469172546459316, -0.2312296294076371, -0.2650509450967298, -0.17846250212036047]\n",
      "0.0\n"
     ]
    }
   ],
   "source": [
    "best_score = -999999\n",
    "best = []\n",
    "next_x = init_random()\n",
    "for _ in range(N_GENERATIONS):\n",
    "    x = next_x\n",
    "    x_score = evaluate(x, a_prime, m)\n",
    "    if x_score > best_score:\n",
    "        best_score = x_score\n",
    "        best = x\n",
    "    y = swap(x)\n",
    "    if not legal(y):\n",
    "        y = x\n",
    "    y_score = evaluate(y, a_prime, m)\n",
    "    if y_score > best_score:\n",
    "        best_score = y_score\n",
    "        best = y\n",
    "    z = mutation(y)\n",
    "    if not legal(z):\n",
    "        z = y\n",
    "    z_score = evaluate(z, a_prime, m)\n",
    "    if z_score > best_score:\n",
    "        best_score = z_score\n",
    "        best = z\n",
    "    next_x = best\n",
    "best = np.array(best)\n",
    "print(best/1e4, best_score * 1e4)\n",
    "print([score(best[i], a_prime[i], m) * 1e4 for i in range(len(best))])\n",
    "print(abs(np.sum(best) - N)/1e4)"
   ]
  }
 ],
 "metadata": {
  "kernelspec": {
   "display_name": "base",
   "language": "python",
   "name": "python3"
  },
  "language_info": {
   "codemirror_mode": {
    "name": "ipython",
    "version": 3
   },
   "file_extension": ".py",
   "mimetype": "text/x-python",
   "name": "python",
   "nbconvert_exporter": "python",
   "pygments_lexer": "ipython3",
   "version": "3.9.13"
  },
  "orig_nbformat": 4,
  "vscode": {
   "interpreter": {
    "hash": "19f09cf2eddec64482a34667392e5f7909b14c50127e00aaec2a5f5b7afabf58"
   }
  }
 },
 "nbformat": 4,
 "nbformat_minor": 2
}
