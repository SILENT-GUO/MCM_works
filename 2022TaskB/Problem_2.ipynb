{
 "cells": [
  {
   "cell_type": "code",
   "execution_count": 259,
   "metadata": {},
   "outputs": [],
   "source": [
    "import pandas as pd\n",
    "import numpy as np\n",
    "import matplotlib.pyplot as plt\n",
    "from sklearn import linear_model\n",
    "import time\n",
    "import random\n",
    "import copy\n",
    "import math\n"
   ]
  },
  {
   "cell_type": "code",
   "execution_count": 260,
   "metadata": {},
   "outputs": [],
   "source": [
    "# 现在要对5个州做一个总的用水用电的水分配方案（分别给多少水，给多少电 -> 存多少水）\n",
    "# a = 5个州的分别的总用水需求，b = 5个州分别的用电需求 -> 转化为5个州的存水需求 w\n",
    "# 求最优的a、w，再计算得到最优的a、b\n",
    "# 最优的评判：满足总和小于等于 M_v + P_v 的前提下，得分score()最高\n",
    "# A = 5州分别实际总用水， B = 5州分别实际总用电\n",
    "# (2015 data)\n",
    "M_v = 4207.6251\n",
    "P_v = 3212.9429\n",
    "N = int(M_v + P_v)\n",
    "bitlength = N.bit_length()\n",
    "A = eval(\"\"\"[4632.39\n",
    "20171.5\n",
    "7849.86\n",
    "2203.23\n",
    "9412.49]\"\"\".replace('\\n', ','))\n",
    "B = eval(\"\"\"316.5298945\n",
    "480.7151231\n",
    "147.2743259\n",
    "94.57796014\n",
    "151.905041\"\"\".replace('\\n', ','))\n",
    "A, B = np.array(A), np.array(B)\n",
    "A = A / 1e3\n",
    "B = B / 365\n",
    "\n",
    "N_GENERATIONS=100"
   ]
  },
  {
   "cell_type": "code",
   "execution_count": 261,
   "metadata": {},
   "outputs": [],
   "source": [
    "# 因为目前只有两个水坝分别的水电转换的关系式，应该需要再拟合一个总的：y = 0.0010x + 26.2830\n",
    "def w2e(x): return 0.0010 * x + 26.2830\n",
    "def e2w(y): return (y - 26.2830) / 0.0010\n",
    "\n",
    "a_prime = np.append(A, A+1)\n",
    "lamb = 1e-7\n",
    "m=1\n",
    "def score(ai, a_primei, m):\n",
    "    value = m / a_primei - m / ai\n",
    "    if value == 0:\n",
    "        value += lamb\n",
    "    else:\n",
    "        value -= lamb\n",
    "    return value\n",
    "\n",
    "\n",
    "def evaluate(a, a_prime, m):\n",
    "    product = 1\n",
    "    for i in range(len(a)):\n",
    "        product = product + score(a[i], a_prime[i], m)\n",
    "    return math.pow(product, 0.5)\n"
   ]
  },
  {
   "cell_type": "code",
   "execution_count": 262,
   "metadata": {},
   "outputs": [],
   "source": [
    "def init_random():\n",
    "    x, tmp = [], []\n",
    "    for i in range(9):\n",
    "        r = random.randint(0, N)\n",
    "        if r not in tmp and r != 0 and r != N:\n",
    "            tmp.append(r)\n",
    "    tmp.sort()\n",
    "    x.append(tmp[0])\n",
    "    for i in range(1, 9):\n",
    "        x.append(tmp[i]-tmp[i-1])\n",
    "    x.append(N-tmp[-1])\n",
    "    return x\n",
    "\n",
    "def swap(x):\n",
    "    new_x = [0] * len(x)\n",
    "    x_copy = copy.copy(x)\n",
    "    np.random.shuffle(x_copy)\n",
    "    bitlength = N.bit_length()\n",
    "    for i in range(0, len(x_copy), 2):\n",
    "        s = random.randint(0, bitlength-1)\n",
    "        new_x[x.index(x_copy[i])] = int((bin(x_copy[i])[2:]).zfill(bitlength)[:s] + (bin(x_copy[i+1])[2:]).zfill(bitlength)[s:],2)\n",
    "        new_x[x.index(x_copy[i+1])] = int(bin(x_copy[i+1])[2:].zfill(bitlength)[:s] + bin(x_copy[i])[2:].zfill(bitlength)[s:],2)\n",
    "    return new_x\n",
    "\n",
    "def mutation(x):\n",
    "    new_x = [0] * len(x)\n",
    "    x_copy = copy.copy(x)\n",
    "    for i in range(len(x_copy)):\n",
    "        r = random.randint(0, bitlength-1)\n",
    "        x_copy_bin = (bin(x_copy[i])[2:]).zfill(bitlength)\n",
    "        x_copy_bin = x_copy_bin[:r] + str((int(x_copy_bin[r])+1) % 2) + x_copy_bin[r+1:]\n",
    "        new_x[i] = int(x_copy_bin, 2)\n",
    "    return new_x\n",
    "\n",
    "def check(x):\n",
    "    if 0 in x:\n",
    "        return False\n",
    "    s = sum(x)\n",
    "    if s > N:\n",
    "        return False\n",
    "    else:\n",
    "        return True"
   ]
  },
  {
   "cell_type": "code",
   "execution_count": 263,
   "metadata": {},
   "outputs": [
    {
     "name": "stdout",
     "output_type": "stream",
     "text": [
      "[470, 437, 449, 569, 646, 144, 281, 2169, 295, 920]\n"
     ]
    }
   ],
   "source": [
    "best_score = 0\n",
    "next_x = init_random()\n",
    "for _ in range(N_GENERATIONS):\n",
    "    x = next_x\n",
    "    x_score = evaluate(x, a_prime, m)\n",
    "    if x_score > best_score:\n",
    "        best_score = x_score\n",
    "        best = x\n",
    "    y = swap(x)\n",
    "    if not check(y):\n",
    "        y = x\n",
    "    y_score = evaluate(y, a_prime, m)\n",
    "    if y_score > best_score:\n",
    "        best_score = y_score\n",
    "        best = y\n",
    "    z = mutation(y)\n",
    "    if not check(z):\n",
    "        z = y\n",
    "    z_score = evaluate(z, a_prime, m)\n",
    "    if x_score > best_score:\n",
    "        best_score = z_score\n",
    "        best = z\n",
    "    next_x = z\n",
    "print(best)"
   ]
  }
 ],
 "metadata": {
  "kernelspec": {
   "display_name": "base",
   "language": "python",
   "name": "python3"
  },
  "language_info": {
   "codemirror_mode": {
    "name": "ipython",
    "version": 3
   },
   "file_extension": ".py",
   "mimetype": "text/x-python",
   "name": "python",
   "nbconvert_exporter": "python",
   "pygments_lexer": "ipython3",
   "version": "3.9.13"
  },
  "orig_nbformat": 4,
  "vscode": {
   "interpreter": {
    "hash": "19f09cf2eddec64482a34667392e5f7909b14c50127e00aaec2a5f5b7afabf58"
   }
  }
 },
 "nbformat": 4,
 "nbformat_minor": 2
}
