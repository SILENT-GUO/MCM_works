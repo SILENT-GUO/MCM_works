{
 "cells": [
  {
   "attachments": {},
   "cell_type": "markdown",
   "metadata": {},
   "source": [
    "$$\n",
    "P(k)=\\frac{\\lambda^k}{k !} e^{-\\lambda}\n",
    "$$\n",
    "这就是我们熟悉的泊松分布公式，其中 $\\lambda$ 的物理意义就是单位时间内顾客到达的数量，也就是平均到达率，是一个常数。"
   ]
  },
  {
   "attachments": {},
   "cell_type": "markdown",
   "metadata": {},
   "source": [
    "在一个满足马尔科夫过程的排队系统中，随机变量 $X$ (单位时间内顾客到达数)，满足泊松分布: $X \\sim P(X)$ ，概率分布函 数为\n",
    "$$\n",
    "P(x=k)=\\frac{\\lambda^k}{k !} e^{-\\lambda}\n",
    "$$\n",
    "注意: 泊松分布中的 $\\lambda$ ，表征的是单位时间内平均到达的顾客数。\n",
    "在一个满足马尔科夫过程的排队系统中，随机变量 $T$ (顾客相继到达时间间隔)，满足负指数分布，\n",
    "$$\n",
    "T \\sim f(t)=\\lambda e^{-\\lambda t}\n",
    "$$\n",
    "注意: 负指数分布中的 $\\lambda$ ，表征也的是单位时间内平均到达的顾客数。有时候，为了方便起见，我们常常做如下变换\n",
    "$$\n",
    "\\begin{aligned}\n",
    "& T \\sim f(t)=\\frac{1}{\\mu} e^{-\\frac{1}{\\mu} t} \\\\\n",
    "&\n",
    "\\end{aligned}\n",
    "$$\n",
    "我们可以这么理解：泊松分布和负指数分布，是从两个角度，对同一个现象进行的描述。\n",
    "- 泊松分布关注的是单位时间内到达 (或者离去) 的顾客个数\n",
    "- 负指数分布关注的是顾客到达 (或者离去) 的时间间隔"
   ]
  },
  {
   "cell_type": "code",
   "execution_count": null,
   "metadata": {},
   "outputs": [],
   "source": []
  }
 ],
 "metadata": {
  "language_info": {
   "name": "python"
  },
  "orig_nbformat": 4
 },
 "nbformat": 4,
 "nbformat_minor": 2
}
