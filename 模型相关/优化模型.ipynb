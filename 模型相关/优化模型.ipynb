{
 "cells": [
  {
   "attachments": {},
   "cell_type": "markdown",
   "metadata": {},
   "source": [
    "## 模拟退火算法(simulated annealing algorithm)"
   ]
  },
  {
   "attachments": {},
   "cell_type": "markdown",
   "metadata": {},
   "source": [
    "这是一种优化模型。即在有限的时间里找到最优解（或者近似最优解）  \n",
    "在介绍SA算法之前，先介绍爬山算法。"
   ]
  },
  {
   "attachments": {},
   "cell_type": "markdown",
   "metadata": {},
   "source": [
    "### 爬山算法\n",
    "爬山算法是一种比较简单的greedy算法(https://www.geeksforgeeks.org/greedy-algorithms/)。该算法每次从当前解的临近解空间中选择一个最优解作为当前解，直到达到一个局部最优解。问题是容易达到局部最优而不是全局最优。比如在下图中从 C 点出发，爬山算法只会取到A点，因为A点已经达到局部最优。"
   ]
  },
  {
   "attachments": {},
   "cell_type": "markdown",
   "metadata": {},
   "source": [
    "![](https://cdn.mathpix.com/snip/images/0X7H87W-v_KtKEbCfOM6UCvJUyhoXRyet2tSZqsUlnM.original.fullsize.png)"
   ]
  },
  {
   "attachments": {},
   "cell_type": "markdown",
   "metadata": {},
   "source": [
    "### 模拟退火思想\n",
    "模拟退火是一种不完全的greedy算法，它的搜索过程引入了随机因素。模拟退火算法以**来接受一个比当前解要差的解**, 因此有可能会跳出这个局部的最优解, 达到全局的最优解。以上图为例, 模拟退火算法在搜索到局部最优解A后，会以一定的概率接受到E的移动。也许经过几次这样的不是局部最优的移动后会到达D点，于是就跳出了局部最大值A。"
   ]
  },
  {
   "attachments": {},
   "cell_type": "markdown",
   "metadata": {},
   "source": [
    "根据热力学的原理, 在温度为 $T$ 时, 出现能量差为 $d E$ 的降温的概率为 $P(\\mathrm{dE})$, 表示为:\n",
    "$$\n",
    "P(d E)=\\exp (d E /(k T))\n",
    "$$\n",
    "其中k是一个常数, exp表示自然指数, 且 $\\mathrm(E)<0$ 。这条公式说白了就是: 温度越高, 出现一次能量差为 $\\mathrm(dE)$ 的降温的概率就越大; 温度越低, 则出现降温的概率就越小。又由于 $\\mathrm(dE)$ 总是小于0（否则就不叫退火 了）, 因此 $d E / k T<0$, 所以 $P(d E)$ 的函数取值范围是 $(0,1)$ 。\n",
    "随着温度 $T$ 的降低, $P(\\mathrm(dE))$ 会逐渐降低。\n",
    "我们将一次向较差解的移动看做一次温度跳变过程, 我们以概率 $P(\\mathrm(dE))$ 来接受这样的移动。"
   ]
  },
  {
   "attachments": {},
   "cell_type": "markdown",
   "metadata": {},
   "source": [
    "```  python\n",
    "# 伪代码\n",
    "# J(y)：在状态y时的评价函数值\n",
    "# Y(i)：表示当前状态\n",
    "# Y(i+1)：表示新的状态\n",
    "# r： 用于控制降温的快慢\n",
    "# T： 系统的温度，系统初始应该要处于一个高温的状态\n",
    "# T_min ：温度的下限，若温度T达到T_min，则停止搜索\n",
    "while( T > T_min ):\n",
    "　　dE = J( Y(i+1) ) - J( Y(i) ) \n",
    "　　if ( dE >=0 ):\n",
    "        Y(i+1) = Y(i)\n",
    "　　else\n",
    "        # 函数exp( dE/T )的取值范围是(0,1) ，dE/T越大，则exp( dE/T )也\n",
    "        if ( exp( dE/T ) > random( 0 , 1 ) ):\n",
    "            Y(i+1) = Y(i) ; //接受从Y(i)到Y(i+1)的移动\n",
    "　　T = r * T ; //降温退火 ，0<r<1 。r越大，降温越慢；r越小，降温越快\n",
    "　　i ++ ;\n",
    ")\n",
    "```\n"
   ]
  },
  {
   "attachments": {},
   "cell_type": "markdown",
   "metadata": {},
   "source": [
    "### 范例1: 寻找polynomial function的最值"
   ]
  },
  {
   "cell_type": "code",
   "execution_count": 17,
   "metadata": {},
   "outputs": [],
   "source": [
    "import numpy as np\n",
    "import matplotlib.pyplot as plt"
   ]
  },
  {
   "cell_type": "code",
   "execution_count": 18,
   "metadata": {},
   "outputs": [
    {
     "data": {
      "image/png": "[encoded data removed]",
      "text/plain": [
       "<Figure size 500x300 with 1 Axes>"
      ]
     },
     "metadata": {},
     "output_type": "display_data"
    }
   ],
   "source": [
    "\n",
    "def x_function(x):\n",
    "    return 3*x**2 - 60*x + 9\n",
    "\n",
    "x = [i for i in np.linspace(0, 100)]\n",
    "y = map(x_function, x)\n",
    "plt.figure(figsize=(5, 3))\n",
    "plt.plot(x, list(y))\n",
    "plt.show()"
   ]
  },
  {
   "attachments": {},
   "cell_type": "markdown",
   "metadata": {},
   "source": [
    "定义域为[1,100], 最小值在x=10处取到"
   ]
  },
  {
   "cell_type": "code",
   "execution_count": 19,
   "metadata": {},
   "outputs": [
    {
     "name": "stdout",
     "output_type": "stream",
     "text": [
      "10.000394725954749 -290.9999995325743\n"
     ]
    }
   ],
   "source": [
    "T = 1\n",
    "# The initial temperature\n",
    "x = np.random.uniform(0, 100)\n",
    "# The final temperature\n",
    "std = 0.00000001\n",
    "# The cooling rate\n",
    "a = 0.999\n",
    "while T > std:\n",
    "    y = x_function(x)\n",
    "    # Generate a new x by random\n",
    "    x_new = x + np.random.uniform(-1, 1)\n",
    "    if 0 <= x_new <= 100:\n",
    "        y_new = x_function(x_new)\n",
    "        # If the new x is better, then replace the old x\n",
    "        if y_new < y:\n",
    "            x = x_new\n",
    "        else:\n",
    "            # If the new x is worse, then calculate the probability\n",
    "            p = np.exp((y - y_new) / T)\n",
    "            r = np.random.uniform(0, 1)\n",
    "            if p > r:\n",
    "                x = x_new\n",
    "    # Cooling\n",
    "    T = T * a\n",
    "print(x, x_function(x))"
   ]
  },
  {
   "attachments": {},
   "cell_type": "markdown",
   "metadata": {},
   "source": [
    "### 范例2: 旅行商最短路径问题\n",
    "问题定义：https://en.wikipedia.org/wiki/Travelling_salesman_problem"
   ]
  },
  {
   "cell_type": "code",
   "execution_count": 20,
   "metadata": {},
   "outputs": [
    {
     "name": "stdout",
     "output_type": "stream",
     "text": [
      "(31, 2)\n",
      "41191.226581899624\n",
      "This is the best path:\n",
      "[4263 2931]->[4029 2838]->[3676 2578]->[3429 1908]->[3326 1556]->[3488 1535]->[3918 2179]->[4177 2244]->[4061 2370]->[3780 2212]->[3507 2367]->[3394 2643]->[3007 1970]->[2545 2357]->[2562 1756]->[2381 1676]->[2788 1491]->[3238 1229]->[4386  570]->[4312  790]->[4196 1004]->[3639 1315]->[3712 1399]->[3715 1678]->[3439 3201]->[3140 3550]->[2935 3240]->[2778 2826]->[2370 2975]->[1304 2312]->[1332  695]\n",
      "The distance is:\n",
      "16183.773391096309\n"
     ]
    }
   ],
   "source": [
    "### Use the simulated annealing algorithm to solve traveling salesman problem\n",
    "### step 1: create data\n",
    "### Cr. https://cloud.tencent.com/developer/article/1424760\n",
    "### Cr. https://www.cnblogs.com/heaad/archive/2010/12/20/1911614.html\n",
    "import numpy as np\n",
    "city = [(1304,2312),(3639,1315),(4177,2244),(3712,1399),\\\n",
    "    (3488,1535),(3326,1556),(3238,1229),(4196,1004),\\\n",
    "    (4312,790),(4386,570),(3007,1970),(2562,1756),\\\n",
    "    (2788,1491),(2381,1676),(1332,695),\\\n",
    "    (3715,1678),(3918,2179),(4061,2370),\\\n",
    "    (3780,2212),(3676,2578),(4029,2838),\\\n",
    "    (4263,2931),(3429,1908),(3507,2367),\\\n",
    "    (3394,2643),(3439,3201),(2935,3240),\\\n",
    "    (3140,3550),(2545,2357),(2778,2826),\\\n",
    "    (2370,2975)]\n",
    "city = np.array(city)\n",
    "print(city.shape)\n",
    "### define the distance by Euclidean distance\n",
    "def distance(a, b):\n",
    "    return np.sqrt(np.sum((a-b)**2))\n",
    "def path_distance(path):\n",
    "    dis = 0\n",
    "    for i in range(len(path)-1):\n",
    "        dis += distance(city[path[i]], city[path[i+1]])\n",
    "    return dis\n",
    "def init_path():\n",
    "    path = [i for i in range(len(city))]\n",
    "    np.random.shuffle(path)\n",
    "    return path\n",
    "def change_path(path):\n",
    "    new_path = path.copy()\n",
    "    a = np.random.randint(0, len(city))\n",
    "    b = np.random.randint(0, len(city))\n",
    "    new_path[a], new_path[b] = new_path[b], new_path[a]\n",
    "    return new_path\n",
    "if __name__ == \"__main__\":\n",
    "    path = init_path()\n",
    "    print(path_distance(path))\n",
    "    T = 1000\n",
    "    std = 0.00000001\n",
    "    a = 0.999\n",
    "    while T > std:\n",
    "        new_path = change_path(path)\n",
    "        new_dis = path_distance(new_path)\n",
    "        old_dis = path_distance(path)\n",
    "        if new_dis < old_dis:\n",
    "            path = new_path\n",
    "        else:\n",
    "            p = np.exp((old_dis - new_dis) / T)\n",
    "            r = np.random.uniform(0, 1)\n",
    "            if p > r:\n",
    "                path = new_path\n",
    "        T = T * a\n",
    "    print(\"This is the best path:\")\n",
    "    for i in path:\n",
    "        if(i == path[-1]):\n",
    "            print(city[i])\n",
    "        else:\n",
    "            print(city[i], end=\"->\")\n",
    "    print(\"The distance is:\")\n",
    "    print(path_distance(path))"
   ]
  }
 ],
 "metadata": {
  "kernelspec": {
   "display_name": "SILENT",
   "language": "python",
   "name": "python3"
  },
  "language_info": {
   "codemirror_mode": {
    "name": "ipython",
    "version": 3
   },
   "file_extension": ".py",
   "mimetype": "text/x-python",
   "name": "python",
   "nbconvert_exporter": "python",
   "pygments_lexer": "ipython3",
   "version": "3.10.6"
  },
  "orig_nbformat": 4,
  "vscode": {
   "interpreter": {
    "hash": "33a00747c7c616a6e1f951908c7a8e16aa8bdee44e4bbac794a20c5a719e4c26"
   }
  }
 },
 "nbformat": 4,
 "nbformat_minor": 2
}
