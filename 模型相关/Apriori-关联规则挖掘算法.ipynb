{
 "cells": [
  {
   "attachments": {},
   "cell_type": "markdown",
   "metadata": {},
   "source": [
    "# Apriori-关联规则挖掘算法\n",
    "Apriori是一种用于挖掘数据集内部关联规则的算法，用先验知识来预测数据的关联规则。"
   ]
  }
 ],
 "metadata": {
  "language_info": {
   "name": "python"
  },
  "orig_nbformat": 4
 },
 "nbformat": 4,
 "nbformat_minor": 2
}
