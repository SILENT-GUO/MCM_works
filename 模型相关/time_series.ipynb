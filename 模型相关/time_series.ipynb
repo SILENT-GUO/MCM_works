{
 "cells": [
  {
   "attachments": {},
   "cell_type": "markdown",
   "metadata": {},
   "source": [
    "假设两个随机变量 $X$ 和 $Y$ 满足末知的概率分布（可以是同分布也可以是不同的分布）。 。 $\\mathrm{E}[\\cdot]$ 为 求解数学期望的运算符。 $X$ 和 $Y$ 的总体协方差 (population covariance) 为：\n",
    "$$\n",
    "\\operatorname{Cov}(X, Y)=\\mathrm{E}\\left[\\left(X-\\mu_X\\right)\\left(Y-\\mu_Y\\right)\\right]\n",
    "$$\n",
    "其中, $\\mu_X$ 和 $\\mu_Y$ 分别为 $X$ 和 $Y$ 的总体均值 (population mean)。\n",
    "协方差告诉我们两个随机变量是如何一起移动的, 即两个系数的相关性。但是协方差受到量纲影响，即其表现出来的相关性收到数字大小的影响。于是我们引入令 $\\rho$ 表示 $X$ 和 $Y$ 的总体相关系数 (population correlation), 它的定义为：\n",
    "$$\n",
    "\\rho(X, Y)=\\frac{\\mathrm{E}\\left[\\left(X-\\mu_X\\right)\\left(Y-\\mu_Y\\right)\\right]}{\\sigma_X \\sigma_Y}=\\frac{\\operatorname{Cov}(X, Y)}{\\sigma_X \\sigma_Y}\n",
    "$$\n",
    "其中 $\\sigma_X$ 和 $\\sigma_Y$ 分别为 $X$ 和 $Y$ 的总体标准差（population standard deviation）。通过使用 $X$ 和 $Y$ 的标准差对它们的协方差归一化, $\\rho$ 的取值范围在 $-1$ 到 +1 之间, 即 $[-1,+1]$ :\n",
    "- $\\rho(X, Y)=1$ 表示 $X$ 和 $Y$ 之间存在确切的线性正相关;\n",
    "- $\\rho(X, Y)=0$ 表示 $X$ 和 $Y$ 之间不存在任何线性相关性;\n",
    "- $\\rho(X, Y)=-1$ 表示 $X$ 和 $Y$ 之间存在确切的线性负相关。\n",
    "\n",
    "在实际应用中，\n",
    "$$\n",
    "\\hat{\\rho}(X, Y)=\\frac{\\sum_{i=1}^n\\left(X_i-\\bar{X}\\right)\\left(Y_i-\\bar{Y}\\right)}{\\sqrt{\\sum_{i=1}^n\\left(X_i-\\bar{X}\\right)^2 \\sum_{i=1}^n\\left(Y_i-\\bar{Y}\\right)^2}}\n",
    "$$"
   ]
  },
  {
   "attachments": {},
   "cell_type": "markdown",
   "metadata": {},
   "source": [
    "平稳性（stationarity）是时间序列分析的基础。\n",
    "\n",
    "为了通俗的理解平稳性，来看下面这个类比（这是我能想到的最好的例子）。假如某股票的日收益率由转轮盘赌决定：转到不同数字就对应不同的收益率。在每个时刻  ，我们都转同一个轮盘赌并确定收益率  。只要这个轮盘不变，那么对于所有的  ，  的概率分布都是一样的、不随时间变化。这样的时间序列  就是（严格）平稳的。如果从某个时刻  开始，轮盘发生了变化（比如轮盘上面的数字变多了），那么显然从  开始，  的分布就便随之发生变化，因此时间序列  就不是平稳的。\n",
    "\n",
    "在数学上，时间序列的严平稳（strictly stationary）有着更精确的定义：它要求时间序列中任意给定长度的两段子序列都满足相同的联合分布。这是一个很强的条件，在实际中几乎不可能被满足。因此我们还有弱平稳（weakly stationary）的定义，它要求时间序列满足均值平稳性（stationary in mean）和二阶平稳性（secondary order stationary）。\n",
    "\n"
   ]
  },
  {
   "attachments": {},
   "cell_type": "markdown",
   "metadata": {},
   "source": [
    "如果一个时间序列 $\\left\\{r_t\\right\\}$ 满足以下两个条件, 则它是弱平稳的:\n",
    "1. 对于所有的时刻 $t$, 有 $\\mathrm{E}\\left[r_t\\right]=\\mu$, 其中 $\\mu$ 是一个常数。\n",
    "2. 对于所有的时刻 $t$ 和任意的间隔 $k, r_t$ 和 $r_{t-k}$ 的协方差 $\\sigma\\left(r_t, r_{t-k}\\right)=\\gamma_k$, 其中 $\\gamma_k$ 与时间 $t$ 无关, 它仅仅依赖于间隔 $k$ 。特别的, 当 $k=0$ 时, 这个特性意味着 $\\sigma\\left(r_t, r_t\\right)-r_t$ 的方 差 - 不随时间变化, 等于一个与时间 $t$ 无关的常数 $\\gamma_0$, 这称为方差平稳性 (stationary in variance) 。\n",
    "3. 假设我们有弱平稳的投资品收益率序列 $\\left\\{r_t\\right\\}$ 。自相关性考察的是 $t$ 时刻的收益率 $r_t$ 和距当前任 意间隔 $k$ 时刻的收益率 $r_{t-k}$ 之间的线性相依关系（ $k$ 的取值是所有 $\\geq 0$ 的整数）。由于 $r_t$ 和 $r_{t-k}$ 来自同一个时间序列, 因此我们将相关系数的概念应用到 $r_t$ 和 $r_{t-k}$ 上, 便推广出自相关系数 (autocorrelation)。"
   ]
  },
  {
   "attachments": {},
   "cell_type": "markdown",
   "metadata": {},
   "source": [
    "在弱平稳假设下, 这个间隔为 $k$ 的自相关系数与时间 $t$ 无关, 而仅仅与间隔 $k$ 有关, 由 $\\rho_k$ 表示。 由相关系数的定义可知：\n",
    "$$\n",
    "\\rho_k=\\frac{\\operatorname{Cov}\\left(r_t, r_{t-k}\\right)}{\\sigma_{r_t} \\sigma_{r_{t-k}}}=\\frac{\\operatorname{Cov}\\left(r_t, r_{t-k}\\right)}{\\sigma_{r_t} \\sigma_{r_t}}=\\frac{\\gamma_k}{\\gamma_0}\n",
    "$$\n",
    "上面的推导中用到了弱平稳的性质, 即协方差和方差平稳性（换句话说, 二阶平稳性）。从这个定 义不难看出, 当 $k=0$ 时有:\n",
    "$$\n",
    "\\rho_0=\\frac{\\gamma_0}{\\gamma_0}=1\n",
    "$$\n",
    "这表示 $r_t$ 的间隔为 0 的自相关系数恒定为 1 。此外, $\\rho_k$ 还有如下的性质:\n",
    "$$\n",
    "\\begin{aligned}\n",
    "& \\rho_k=\\rho_{-k} \\\\\n",
    "& -1 \\leq \\rho_k \\leq 1\n",
    "\\end{aligned}\n",
    "$$"
   ]
  },
  {
   "attachments": {},
   "cell_type": "markdown",
   "metadata": {},
   "source": [
    "上面定义的 $\\rho_k$ 是总体的统计特性。实际中, 我们仍然只能通过有限的样本数据来 计算样本的统计特性。令 $\\zeta_k$ 为与 $\\rho_k$ 对应的样本统计量, 则有:\n",
    "$$\n",
    "\\begin{aligned}\n",
    "\\zeta_k & =\\frac{c_k}{c_0} \\\\\n",
    "c_k & =\\frac{1}{n} \\sum_{t=1}^{n-k}\\left(r_t-\\bar{r}\\right)\\left(r_{t+k}-\\bar{r}\\right)\n",
    "\\end{aligned}\n",
    "$$\n",
    "上式中, $c_k$ 是 $r_t$ 的间隔为 $k$ 的样本自协方差 (sample autocovariance of lag $k$ ) ; $\\zeta_k$ 为 $r_t$ 的间隔为 $k$ 的样本自相关系数 (sample autocorrelation of lag $k$ ) 。\n",
    "如果把 $\\zeta_k$ 看作是 $k$ 的方程, 则它通常被称为样本自相关方程 (sample autocorrelation function; 同样的, $\\rho_k$ 为总体自相关方程），它刻画了时间序列的重要特性。利用相关图 (correlogram) 可以清晰地看到 $\\zeta_k$ 是如何随间隔 $k$ 变化的。\n",
    "自相关模型最重要的就是挖掘出该序列中的不同间隔的自相关性。相关图可以帮助我们判断模型是否合适。这是因为金融时间序列的特征中往往包括相关性和随机噪声。如果模型很好的捕捉了自相关性，那么原始时间序列与模型拟合的时间序列之间的残差应该近似的等于随机噪声。（即位于置信区间）"
   ]
  },
  {
   "attachments": {},
   "cell_type": "markdown",
   "metadata": {},
   "source": [
    "假设原始时间序列为 $\\left\\{y_t\\right\\}$, 模型拟合出来的序列为 $\\left\\{p_t\\right\\}$, 则残差序列 $\\left\\{e_t\\right\\}$ 定义为原始序列和拟 合序列的差值：\n",
    "$$\n",
    "e_t=y_t-p_t\n",
    "$$\n",
    "如果模型很好的捕捉了原始时间序列的自相关性, 那么残差序列 $\\left\\{e_t\\right\\}$ 应该近似的为白噪声, 对任 何非零间隔 $k$, 该残差序列的自相关系数 $\\rho_k$ 都应该在统计意义上不显著的偏离 0 。当然, 这仅仅 是我们说该模型是个优秀模型的充分条件, 因为一个好模型最关键的还是能产生赚钱的交易信号。 因此, 模型的检验最终还要看它在样本外预测的准确性。  \n",
    "\n",
    "之前指出, 对于收益率来说, 白噪声 (white noise) 并不是一个十分有效的模型。那么为 什么我们还要研究它呢? 这是因为它有一个重要的特性, 即序列不相关: 一个白噪声序列中的每一 个点都独立的来自某个末知的分布, 它们满足独立同分布 (independent and identically distributed) 。\n",
    "一个 (离散) 白噪声的定义如下:\n",
    "考虑时间序列 $\\left\\{w_t: t=1, \\cdots, n\\right\\}$ 。如果该序列的成分 $w_t$ 满足均值为 0 , 方差 $\\sigma^2$, 且对于任 意的 $k \\geq 1$, 自相关系数 $\\rho_k$ 均为 0 , 则称该时间序列为一个离散的白噪声。\n",
    "上面的定义并没有假设 $w_t$ 来自正态分布。事实上, 白噪声对分布没有要求。当 $w_t$ 来自正态分布 时, 该序列又称为高斯白噪声 (Gaussian white noise)。\n",
    "根据白噪声的定义, 一个白噪声序列显然满足平稳性要求。它的均值和二阶统计量为:\n",
    "$$\n",
    "\\begin{aligned}\n",
    "\\mu_w & =0 \\\\\n",
    "\\rho_k & =\\left\\{\\begin{array}{lll}\n",
    "1 & \\text { if } & k=0 \\\\\n",
    "0 & \\text { if } & k \\neq 0\n",
    "\\end{array}\\right.\n",
    "\\end{aligned}\n",
    "$$"
   ]
  },
  {
   "attachments": {},
   "cell_type": "markdown",
   "metadata": {},
   "source": [
    "将白噪声模型进行一步延伸, 便得到随机游走 (random walk) 模型, 它的定义如下:\n",
    "对于时间序列 $\\left\\{x_t\\right\\}$, 如果它满足 $x_t=x_{t-1}+w_t$, 其中 $w_t$ 是一个均值为 0 、方差为 $\\sigma^2$ 的白 噪声, 则序列 $\\left\\{x_t\\right\\}$ 为一个随机游走。\n",
    "由定义可知, 在任意 $t$ 时刻的 $x_t$ 都是不超过 $t$ 时刻的所有历史白噪声序列的总和, 即:\n",
    "$$\n",
    "x_t=w_t+w_{t-1}+w_{t-2}+\\cdots+w_0\n",
    "$$\n",
    "随机游走的序列均值和方差为:\n",
    "$$\n",
    "\\begin{aligned}\n",
    "\\mu_{x_t} & =0 \\\\\n",
    "\\operatorname{Var}\\left(x_t\\right) & =\\operatorname{Var}\\left(w_t\\right)+\\operatorname{Var}\\left(w_{t-1}\\right)+\\cdots+\\operatorname{Var}\\left(w_0\\right) \\\\\n",
    "& =t \\times \\operatorname{Var}\\left(w_t\\right) \\\\\n",
    "& =t \\sigma^2\n",
    "\\end{aligned}\n",
    "$$"
   ]
  },
  {
   "attachments": {},
   "cell_type": "markdown",
   "metadata": {},
   "source": [
    "上述推导中使用了独立随机变量的方差可加性。有了自协方差和方差, 便可以方便的求出随机游走 的自相关函数：\n",
    "$$\n",
    "\\begin{aligned}\n",
    "\\rho_k(t) & =\\frac{\\operatorname{Cov}\\left(x_t, x_{t+k}\\right)}{\\sqrt{\\operatorname{Var}\\left(x_t\\right)} \\sqrt{\\operatorname{Var}\\left(x_{t+k}\\right)}} \\\\\n",
    "& =\\frac{t \\sigma^2}{\\sqrt{t \\sigma^2} \\sqrt{(t+k) \\sigma^2}} \\\\\n",
    "& =\\frac{1}{\\sqrt{1+k / t}}\n",
    "\\end{aligned}\n",
    "$$\n",
    "显然, 自相关系数既是时间 $t$ 又是间隔 $k$ 的函数。 $\\rho$ 的表达式说明, 对于一个足够长的随机游走 时间序列 ( $t$ 很大），当考察的自相关间隔 $k$ 很小时，自相关系数近似为 1 。这是随机游走的一 个非常重要的特性, 不熟悉它往往容易造成不必要的错误。\n",
    "举个例子。我们通常假设股价的对数收益率符合正态分布, 因此股价对数是一个布朗运动（随机游 走的一种特殊形式）。如果当前的（对数）股价是 $x_t$, 由随机游走的特性可知, $t+1$ 时刻的股 价的条件期望为 $\\mathrm{E}\\left[x_{t+1} \\mid x_t\\right]=x_t$, 即我们对下一时点的股价的最好的猜测就是当前的价格。随 机游走是一个鞅 (martingale)。\n",
    "\n",
    "假如我们有一个预测股价的模型, 而该模型就是用 $t$ 时刻的股价作为对 $t+1$ 时刻的股价的预测, 则该模型的预测值和实际值之间的相关系数就等于股价序列的间隔为 1 的自相关系数。如果股价 近似的为随机游走, 那么由它的性质可知, 间隔为 1 的自相关系数非常接近 1 。因此我们的股价 预测模型一一用今天的价格作为明天的价格的预测一一的预测值和实际值之间的相关系数也非常接 近 1 。这会给我们造成错觉：这个模型相当准确。不幸的是, 这个模型猜测的收益率在任何时刻 都为 0 , 因此它对于我们构建交易信号毫无作用。\n",
    "\n",
    "在实际生活中，大部分时间序列中都存在某种自相关性，不满足白噪声模型。"
   ]
  },
  {
   "attachments": {},
   "cell_type": "markdown",
   "metadata": {},
   "source": [
    "对于 A 股的收益率, 人们往往有这样的感受:\n",
    "- 在大牛市的时候，股票天天涨（每个交易日的收益率都是正的、鲜有回调）, 万民欢腾;\n",
    "- 在大熊市的时候，股票日日跌（每个交易日的收益率都是负的、拒绝反弹），戾气冲天;\n",
    "- 在震荡市的时候, 股票时涨时跌, 一买就跌, 一卖就涨, 颇有价格在某个区间内震荡、收益率呈 现均值回复之意。\n",
    "这些感受给我们的启发是, 收益率序列的前后观测点之间往往不是独立的, 而是以某种自相关性联 系在一起。因此, 一个很自然的问题就是：能不能用过去的收益率序列对末来的收益率建模? 答案 是肯定的。这便引出了自回归模型（autoregressive model）。\n",
    "数学上, 满足如下关系的时间序列 $\\left\\{r_t\\right\\}$ 被称为一个 $p$ 阶的自回归模型, 记为 $\\operatorname{AR}(p)$ 模型：\n",
    "$$\n",
    "\\begin{aligned}\n",
    "r_t & =\\alpha_1 r_{t-1}+\\alpha_2 r_{t-2}+\\cdots+\\alpha_p r_{t-p}+w_t \\\\\n",
    "& =\\sum_{i=1}^p \\alpha_i r_{t-i}+w_t\n",
    "\\end{aligned}\n",
    "$$\n",
    "这是一个典型的线性回归模型。它和传统线性回归的不同之处在于自变量是序列自身（历史观测 值）, 而非其他变量, 这就是自回归中\"自\"的由来。另外, $p$ 阶的意思是模型使用当前时刻 $t$ 之前"
   ]
  },
  {
   "attachments": {},
   "cell_type": "markdown",
   "metadata": {},
   "source": [
    "另外需要特别说明的是, 自回归模型不一定都满足平稳性。举一个最简单的例子, 本系列初级篇介 绍的随机游走模型其实就是一个一阶自回归模型, 满足: $x_t=x_{t-1}+w_t$ 。由于 $x_t$ 的方差是时 间 $t$ 的函数, 因此该序列不满足平稳性。\n",
    "对于一个 $p$ 阶自回归模型, 由它的回归系数 $\\alpha_i$ 可以写出它的特征方程 (characteristic equation) :\n",
    "$$\n",
    "1-\\alpha_1 x-\\alpha_2 x^2-\\cdots-\\alpha_p x^p=0\n",
    "$$\n",
    "它是一个 $p$ 次多项式, 有 $p$ 个解, 其中可能既包括实数解又包括复数解; 这 $p$ 个解的倒数称为该 方程的特征根（characteristic roots）。自回归模型平稳性要求模型特征方程的所有特征根的模 都小于 1。在上面的随机游走例子中, 该模型的特征方程为 $1-x=0$, 它的特征根为 1。由于它 不满足模小于 1 这个条件, 因此该模型不满足平稳性。\n",
    "\n",
    "对于一个满足平稳性、且假设没有截距项的 $p$ 阶自回归模型, 它的均值显然为 0 (如果有截距项的 话, 该时间序列的均值就是 $c$ ) ; 它的不同间隔 $k$ 的自协方差 $\\gamma_k$ 和自相关系数 $\\rho_k$ 可以表达为如 下的递归方程, 又称为 Yule-Walker equations:\n",
    "在实际中, 想要使用自回归模型对收益率建模, 必须确定模型的阶数 $p$ 。这一点将在本文的第 5 节讨论。"
   ]
  },
  {
   "attachments": {},
   "cell_type": "markdown",
   "metadata": {},
   "source": [
    "滑动平均 (moving average) 模型是另一个常见的线性时间序列模型。在自回归模型中, 我们将 收益率 $r_t$ 看作是给定阶数 $p$ 下历史收益率序列的线性组合。与自回归模型不同, 滑动平均模型将 收益率 $r_t$ 看作是历史白噪声的线性组合。\n",
    "这听起来也许有些费解。但它背后的逻辑也符合人们的认知。以美股指数（比如标准普尔 500 指 数) 为例, 它给我们的印象是它的收益率有一个微弱的但是大于零的漂移率 (drift), 形成一个常 年慢牛的走势。除了这个 drift 项之外, 它的收益率呈不规则的波动。在这种背景下, 自回归模型 仿佛不是那么好用。而滑动平均模型则是对漂移率之外“随机噪声\"建模, 它把这些噪声理解为不同 时刻出现的影响收益率的新息或者冲击（shocks）。通过对\"噪声\"建模来预测当前时刻 $t$ 的“噪 声\", 再和漂移率结合, 作为 $t$ 时刻的收益率预测。\n",
    "数学上, 满足如下关系的时间序列 $\\left\\{r_t\\right\\}$ 被称为一个 $q$ 阶的滑动平均模型（为了简化表达式, 我们 假设漂移率项为 0 , 即该模型不考虑截距项）, 记为 $\\operatorname{MA}(q)$ 模型:\n",
    "$$\n",
    "r_t=\\omega_t+\\beta_1 \\omega_{t-1}+\\beta_2 \\omega_{t-2}+\\cdots+\\beta_q \\omega_{t-q}\n",
    "$$\n",
    "与自回归模型不同, 滑动平均模型一定满足平稳性。它的序列均值为 0 (如果考虑截距项, 则可以 在上式右侧加入一个常数 $c$ 代表漂移率, 这时序列均值变为 $c$ )。它的各间隔 $k$ 的自相关系数满 足:"
   ]
  },
  {
   "attachments": {},
   "cell_type": "markdown",
   "metadata": {},
   "source": [
    "将一个 $p$ 阶的自回归模型和一个 $q$ 阶的滑动平均模型组合在一起, 便得到了一个阶数为 $(p, q)$ 的 自回归滑动平均模型 (autoregressive moving average model）, 它将 AR 和 MA 模型的优势互 补起来。由于 $A R$ 和 MA 模型都是线性模型, 因此它俩的线性组合, 即 ARMA 模型, 也是线性模 型。\n",
    "数学上, 满足如下关系的时间序列 $\\left\\{r_t\\right\\}$ 被称为一个阶数为 $(p, q)$ 的自回归滑动平均模型（为了简 化表达式, 假设模型中的不含常数项），记为 $\\operatorname{ARMA}(p, q)$ 模型：\n",
    "$$\n",
    "r_t=\\alpha_1 r_{t-1}+\\cdots+\\alpha_p r_{t-p}+\\beta_1 w_{t-1}+\\cdots+\\beta_q w_{t-q}+w_t\n",
    "$$\n",
    "相比较单一的 AR 或者 MA 模型，ARMA 模型拥有更多的参数。因此它出现过拟合的危险就更高。虽然它能够捕捉到两个单一模型各自所代表的时间序列自回归性，但是在确定阶数p和q的时候，我们应时刻谨记，防止过拟合。\n",
    "\n",
    "下面就来看看如何利用信息量准则（information criterion）和残差自相关检验可以被用来确定 AR、MA 以及 ARMA 模型的阶数"
   ]
  },
  {
   "attachments": {},
   "cell_type": "markdown",
   "metadata": {},
   "source": [
    "在实际中使用 AR、MA 或 ARMA 模型对收益率建模, 必须确定模型的阶数 $p$ 以及 $q$ 。显然, $p$ 或 者 $q$ 越大, 则模型的参数越多, 越有可能捕捉到时间序列中不同间隔 $k$ 的自相关性。但是, 参数 太多的话容易造成过拟合。因此在选择阶数时, 必须同时考虑拟合的准确性和防止过拟合。\n",
    "在确定模型阶数时, 常用的工具是使用信息量准则, 包括赤池信息量准则 (Akaike information criterion, 简称 AIC, 由日本统计学家赤池弘次创立) 以及贝叶斯信息量准则 (Bayesian information criterion, 简称 BIC) 。\n",
    "这两个信息量准则的目的都是寻找可以最好地解释数据但包含最少自由参数的模型。它们均使用模 型的似然函数、参数个数以及观测点个数来构建一个标量函数, 以此作为评价模型好坏的标准。它 们的区别是标量函数的表达式有所不同。"
   ]
  },
  {
   "attachments": {},
   "cell_type": "markdown",
   "metadata": {},
   "source": [
    "令 $L 、 k 、 n$ 表示模型的似然函数, 则 $\\mathrm{AIC}$ 和 $\\mathrm{BIC}$ 的定义分别为:\n",
    "$$\n",
    "\\begin{aligned}\n",
    "& \\mathrm{AIC}=-2 \\ln (L)+2 k \\\\\n",
    "& \\mathrm{BIC}=-2 \\ln (L)+k \\ln (n)\n",
    "\\end{aligned}\n",
    "$$\n",
    "从定义可知, AIC 和 BIC 都由两部分组成：第一部分衡量模型的拟合度, 第二部分是对参数个数的 惩罚（防止过拟合）。当一个模型能够很好的解释（样本内）数据时, 它的似然函数很大, 因此第 一项 $-2 \\ln (L)$ 就会越小; 如果模型的参数越少, 则第二项也越少。所以 AIC 和 BIC 总是越小越 好。\n",
    "随着模型阶数 $p$ 和 $q$ 的增多, 模型对样本内的数据的解释程度越来越高, 即 $-2 \\ln (L)$ 变小。但 是解释度的提高是以参数增多（过拟合风险增大）为代价, 因此 $2 k$ 或者 $k \\ln (n)$ 增大。所以 AIC 和 BIC 是在这两者之间做权衡。最终选出的最佳参数 $p^{\\star}$ 和 $q^{\\star}$ 可以使它们对应的 AIC 或者 BIC 比 其他任何参数 $p$ 和 $q$ 对应的 AIC 或者 BIC 更小。"
   ]
  },
  {
   "attachments": {},
   "cell_type": "markdown",
   "metadata": {},
   "source": [
    "https://zhuanlan.zhihu.com/p/38322638"
   ]
  },
  {
   "cell_type": "code",
   "execution_count": null,
   "metadata": {},
   "outputs": [],
   "source": []
  },
  {
   "cell_type": "code",
   "execution_count": null,
   "metadata": {},
   "outputs": [],
   "source": []
  }
 ],
 "metadata": {
  "kernelspec": {
   "display_name": "SILENT",
   "language": "python",
   "name": "python3"
  },
  "language_info": {
   "name": "python",
   "version": "3.10.6 | packaged by conda-forge | (main, Aug 22 2022, 20:41:22) [Clang 13.0.1 ]"
  },
  "orig_nbformat": 4,
  "vscode": {
   "interpreter": {
    "hash": "33a00747c7c616a6e1f951908c7a8e16aa8bdee44e4bbac794a20c5a719e4c26"
   }
  }
 },
 "nbformat": 4,
 "nbformat_minor": 2
}
