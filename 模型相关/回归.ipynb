{
 "cells": [
  {
   "attachments": {},
   "cell_type": "markdown",
   "metadata": {},
   "source": [
    "# 回归\n",
    "回归是研究一组随机变量(Y1 ，Y2 ，…，Yi)和另一组(X1，X2，…，Xk)变量之间**关系**的统计分析方法，又称多重回归分析。\n",
    "\n",
    "通常Y1，Y2，…，Yi是因变量，X1、X2，…，Xk是自变量。\n",
    "\n",
    "在大量的观察下，变量之间会表现出一定的规律性，可以借助函数关系式来表达，这种函数就称为**回归函数**或**回归方程**。\n",
    "## 核心思想\n",
    "逼近、拟合，大量数据进行统计分析，从而获得回归方程"
   ]
  },
  {
   "attachments": {},
   "cell_type": "markdown",
   "metadata": {},
   "source": [
    "## 基本步骤\n",
    "1. 确定回归模型属于那种基本类型，然后通过计算得到回归方程的表达式\n",
    "    1. 根据试验数据画出散点图（1.1）\n",
    "    2. 确定经验公式的函数类型（1.1）\n",
    "    3. 通过最小二乘法得到拟合的测试数据（1.2，1.3）\n",
    "    4. 根据拟合数据绘制拟合曲线，并得到回归方程的表达式（1.4，1.5）\n",
    "2. 对回归模型进行显著性检验。\n",
    "    1. 平均绝对误差(MAE）\n",
    "    2. 均方误差（MSE）\n",
    "    3. 均方根误差（RMSE）\n",
    "    3. 平均绝对百分比误差（MAPE）\n",
    "    4. $R^2$评价指标\n",
    "    5. F检验法\n",
    "\n",
    "（如果检验结果表示此模型的显著性很差，应当另选回归模型）"
   ]
  },
  {
   "cell_type": "code",
   "execution_count": 2,
   "metadata": {},
   "outputs": [],
   "source": [
    "import numpy as np\n",
    "import pandas as pd\n",
    "import matplotlib.pyplot as plt\n",
    "from sklearn import *"
   ]
  },
  {
   "attachments": {},
   "cell_type": "markdown",
   "metadata": {},
   "source": [
    "## 简单线性回归"
   ]
  },
  {
   "attachments": {},
   "cell_type": "markdown",
   "metadata": {},
   "source": [
    "### 1.1.画散点图\n",
    "根据散点图，确定接下来所用公式的函数类型（线性）"
   ]
  },
  {
   "cell_type": "code",
   "execution_count": 3,
   "metadata": {},
   "outputs": [
    {
     "data": {
      "text/plain": [
       "Text(0.5, 1.0, 'Scatterplot of sample data')"
      ]
     },
     "execution_count": 3,
     "metadata": {},
     "output_type": "execute_result"
    },
    {
     "data": {
      "image/png": "[encoded data removed]",
      "text/plain": [
       "<Figure size 1200x300 with 1 Axes>"
      ]
     },
     "metadata": {},
     "output_type": "display_data"
    }
   ],
   "source": [
    "# Generate random data xtrain and ytrain\n",
    "randseed = np.random.RandomState(1)  \n",
    "f = lambda t: 8 + 4 * t + randseed.rand(30)*5\n",
    "xtrain = 10 * randseed.rand(30)\n",
    "ytrain = f(xtrain)\n",
    "\n",
    "# Generate a scatterplot with xtrain, ytrain\n",
    "fig = plt.figure(figsize =(12,3))\n",
    "fig.add_subplot(1,2,1)\n",
    "plt.scatter(xtrain,ytrain,marker = '.',color = 'k')\n",
    "plt.grid(True)\n",
    "plt.title('Scatterplot of sample data')\n"
   ]
  },
  {
   "attachments": {},
   "cell_type": "markdown",
   "metadata": {},
   "source": [
    "### 1.2.训练模型\n",
    "用普通最小二乘法，使用sklearn库的线性回归方法LinearRegression"
   ]
  },
  {
   "cell_type": "code",
   "execution_count": 4,
   "metadata": {},
   "outputs": [
    {
     "data": {
      "text/html": [
       "<style>#sk-container-id-1 {color: black;background-color: white;}#sk-container-id-1 pre{padding: 0;}#sk-container-id-1 div.sk-toggleable {background-color: white;}#sk-container-id-1 label.sk-toggleable__label {cursor: pointer;display: block;width: 100%;margin-bottom: 0;padding: 0.3em;box-sizing: border-box;text-align: center;}#sk-container-id-1 label.sk-toggleable__label-arrow:before {content: \"▸\";float: left;margin-right: 0.25em;color: #696969;}#sk-container-id-1 label.sk-toggleable__label-arrow:hover:before {color: black;}#sk-container-id-1 div.sk-estimator:hover label.sk-toggleable__label-arrow:before {color: black;}#sk-container-id-1 div.sk-toggleable__content {max-height: 0;max-width: 0;overflow: hidden;text-align: left;background-color: #f0f8ff;}#sk-container-id-1 div.sk-toggleable__content pre {margin: 0.2em;color: black;border-radius: 0.25em;background-color: #f0f8ff;}#sk-container-id-1 input.sk-toggleable__control:checked~div.sk-toggleable__content {max-height: 200px;max-width: 100%;overflow: auto;}#sk-container-id-1 input.sk-toggleable__control:checked~label.sk-toggleable__label-arrow:before {content: \"▾\";}#sk-container-id-1 div.sk-estimator input.sk-toggleable__control:checked~label.sk-toggleable__label {background-color: #d4ebff;}#sk-container-id-1 div.sk-label input.sk-toggleable__control:checked~label.sk-toggleable__label {background-color: #d4ebff;}#sk-container-id-1 input.sk-hidden--visually {border: 0;clip: rect(1px 1px 1px 1px);clip: rect(1px, 1px, 1px, 1px);height: 1px;margin: -1px;overflow: hidden;padding: 0;position: absolute;width: 1px;}#sk-container-id-1 div.sk-estimator {font-family: monospace;background-color: #f0f8ff;border: 1px dotted black;border-radius: 0.25em;box-sizing: border-box;margin-bottom: 0.5em;}#sk-container-id-1 div.sk-estimator:hover {background-color: #d4ebff;}#sk-container-id-1 div.sk-parallel-item::after {content: \"\";width: 100%;border-bottom: 1px solid gray;flex-grow: 1;}#sk-container-id-1 div.sk-label:hover label.sk-toggleable__label {background-color: #d4ebff;}#sk-container-id-1 div.sk-serial::before {content: \"\";position: absolute;border-left: 1px solid gray;box-sizing: border-box;top: 0;bottom: 0;left: 50%;z-index: 0;}#sk-container-id-1 div.sk-serial {display: flex;flex-direction: column;align-items: center;background-color: white;padding-right: 0.2em;padding-left: 0.2em;position: relative;}#sk-container-id-1 div.sk-item {position: relative;z-index: 1;}#sk-container-id-1 div.sk-parallel {display: flex;align-items: stretch;justify-content: center;background-color: white;position: relative;}#sk-container-id-1 div.sk-item::before, #sk-container-id-1 div.sk-parallel-item::before {content: \"\";position: absolute;border-left: 1px solid gray;box-sizing: border-box;top: 0;bottom: 0;left: 50%;z-index: -1;}#sk-container-id-1 div.sk-parallel-item {display: flex;flex-direction: column;z-index: 1;position: relative;background-color: white;}#sk-container-id-1 div.sk-parallel-item:first-child::after {align-self: flex-end;width: 50%;}#sk-container-id-1 div.sk-parallel-item:last-child::after {align-self: flex-start;width: 50%;}#sk-container-id-1 div.sk-parallel-item:only-child::after {width: 0;}#sk-container-id-1 div.sk-dashed-wrapped {border: 1px dashed gray;margin: 0 0.4em 0.5em 0.4em;box-sizing: border-box;padding-bottom: 0.4em;background-color: white;}#sk-container-id-1 div.sk-label label {font-family: monospace;font-weight: bold;display: inline-block;line-height: 1.2em;}#sk-container-id-1 div.sk-label-container {text-align: center;}#sk-container-id-1 div.sk-container {/* jupyter's `normalize.less` sets `[hidden] { display: none; }` but bootstrap.min.css set `[hidden] { display: none !important; }` so we also need the `!important` here to be able to override the default hidden behavior on the sphinx rendered scikit-learn.org. See: https://github.com/scikit-learn/scikit-learn/issues/21755 */display: inline-block !important;position: relative;}#sk-container-id-1 div.sk-text-repr-fallback {display: none;}</style><div id=\"sk-container-id-1\" class=\"sk-top-container\"><div class=\"sk-text-repr-fallback\"><pre>LinearRegression()</pre><b>In a Jupyter environment, please rerun this cell to show the HTML representation or trust the notebook. <br />On GitHub, the HTML representation is unable to render, please try loading this page with nbviewer.org.</b></div><div class=\"sk-container\" hidden><div class=\"sk-item\"><div class=\"sk-estimator sk-toggleable\"><input class=\"sk-toggleable__control sk-hidden--visually\" id=\"sk-estimator-id-1\" type=\"checkbox\" checked><label for=\"sk-estimator-id-1\" class=\"sk-toggleable__label sk-toggleable__label-arrow\">LinearRegression</label><div class=\"sk-toggleable__content\"><pre>LinearRegression()</pre></div></div></div></div></div>"
      ],
      "text/plain": [
       "LinearRegression()"
      ]
     },
     "execution_count": 4,
     "metadata": {},
     "output_type": "execute_result"
    }
   ],
   "source": [
    "# Linear regression evaluator, fitting data to get a fitted straight line\n",
    "model = linear_model.LinearRegression()\n",
    "# Fitting the straight line: (x,y)\n",
    "# x[:,np.newaxis]: Turn the array into (n,1) shape\n",
    "model.fit(xtrain[:,np.newaxis],ytrain)\n"
   ]
  },
  {
   "attachments": {},
   "cell_type": "markdown",
   "metadata": {},
   "source": [
    "### 1.3.生成测试数据集\n",
    "根据测试数据x，预测数据y"
   ]
  },
  {
   "cell_type": "code",
   "execution_count": 5,
   "metadata": {},
   "outputs": [],
   "source": [
    "# Create test data xtest, and predict ytest according to the fitting curve\n",
    "xtest = np.linspace(0,10,1000)\n",
    "ytest = model.predict(xtest[:,np.newaxis])\n"
   ]
  },
  {
   "attachments": {},
   "cell_type": "markdown",
   "metadata": {},
   "source": [
    "### 1.4.绘制拟合直线和误差线"
   ]
  },
  {
   "cell_type": "code",
   "execution_count": 6,
   "metadata": {},
   "outputs": [
    {
     "data": {
      "text/plain": [
       "Text(0.5, 1.0, 'Linear regression fit')"
      ]
     },
     "execution_count": 6,
     "metadata": {},
     "output_type": "execute_result"
    },
    {
     "data": {
      "image/png": "[encoded data removed]",
      "text/plain": [
       "<Figure size 640x480 with 1 Axes>"
      ]
     },
     "metadata": {},
     "output_type": "display_data"
    }
   ],
   "source": [
    "# Draw scatter plots, linear regression fitted straight line\n",
    "fig.add_subplot(1,2,2)\n",
    "# Scatterplot of sample data\n",
    "plt.scatter(xtrain,ytrain,marker = '.',color = 'k')\n",
    "# the fitted straight line\n",
    "plt.plot(xtest,ytest,color = 'r')\n",
    "# ytest2: The y value of the sample data xtrain on the fitted straight line\n",
    "ytest2 = model.predict(xtrain[:,np.newaxis])\n",
    "# Scatterplot of ytest2\n",
    "plt.scatter(xtrain,ytest2,marker = 'x',color = 'g')\n",
    "# error lines\n",
    "plt.plot([xtrain,xtrain],[ytrain,ytest2],color = 'gray')\n",
    "plt.grid()\n",
    "plt.title('Linear regression fit')\n"
   ]
  },
  {
   "attachments": {},
   "cell_type": "markdown",
   "metadata": {},
   "source": [
    "### 1.5.打印直线参数和直线方程\n",
    "回归方程参数及表达式"
   ]
  },
  {
   "cell_type": "code",
   "execution_count": 7,
   "metadata": {},
   "outputs": [
    {
     "name": "stdout",
     "output_type": "stream",
     "text": [
      "slope: 4.0224\n",
      "intercept: 10.2383\n",
      "The linear regression function: y = 4.0224x + 10.2383\n"
     ]
    }
   ],
   "source": [
    "print('slope: %.4f' % model.coef_[0])\n",
    "print('intercept: %.4f' % model.intercept_)\n",
    "print('The linear regression function: y = %.4fx + %.4f' %(model.coef_[0],model.intercept_))\n"
   ]
  },
  {
   "attachments": {},
   "cell_type": "markdown",
   "metadata": {},
   "source": [
    "### 2.评估简单线性回归模型\n",
    "直接调用sklearn库的评价方法$R^2$，数值越接近1越好\n",
    "\n",
    "其余方法后面介绍"
   ]
  },
  {
   "cell_type": "code",
   "execution_count": 8,
   "metadata": {},
   "outputs": [
    {
     "name": "stdout",
     "output_type": "stream",
     "text": [
      "R-square: 0.98533\n"
     ]
    }
   ],
   "source": [
    "r2 = model.score(xtrain[:,np.newaxis],ytrain)\n",
    "print(\"R-square: %.5f\" % r2)"
   ]
  },
  {
   "attachments": {},
   "cell_type": "markdown",
   "metadata": {},
   "source": [
    "## 多元线性回归\n",
    "简化步骤，具体步骤与简单线性回归一致"
   ]
  },
  {
   "attachments": {},
   "cell_type": "markdown",
   "metadata": {},
   "source": [
    "### 生成可用的数据\n",
    "多元，设自变量'b1','b2','b3','b4'，因变量'y'，制表画图："
   ]
  },
  {
   "cell_type": "code",
   "execution_count": 24,
   "metadata": {},
   "outputs": [
    {
     "name": "stdout",
     "output_type": "stream",
     "text": [
      "           b1        b2        b3        b4          y\n",
      "0    2.219932  8.707323  2.067192  9.186109  60.034105\n",
      "1    4.884112  6.117439  7.659079  5.184180  24.477270\n",
      "2    2.968005  1.877212  0.807413  7.384403  47.129990\n",
      "3    4.413092  1.583099  8.799370  2.740865   2.810948\n",
      "4    4.142350  2.960799  6.287879  5.798378  24.378742\n",
      "..        ...       ...       ...       ...        ...\n",
      "145  9.304389  1.852072  9.603849  7.840690  22.767400\n",
      "146  9.226937  6.260066  3.517796  6.991209  53.262981\n",
      "147  4.604858  7.346345  9.537510  0.567426   5.152217\n",
      "148  1.655563  4.303582  0.274485  3.596028  40.780653\n",
      "149  4.231780  1.745287  0.419882  6.350959  47.211592\n",
      "\n",
      "[150 rows x 5 columns]\n"
     ]
    },
    {
     "data": {
      "image/png": "[encoded data removed]",
      "text/plain": [
       "<Figure size 640x480 with 1 Axes>"
      ]
     },
     "metadata": {},
     "output_type": "display_data"
    }
   ],
   "source": [
    "# Generate four sets of data\n",
    "randseed = np.random.RandomState(5)  \n",
    "xtrain = 10 * randseed.rand(150,4) \n",
    "ytrain = 20 + np.dot(xtrain ,[1.5,2,-4,3])\n",
    "df = pd.DataFrame(xtrain, columns = ['b1','b2','b3','b4']) # Convert to tabular form\n",
    "df['y'] = ytrain\n",
    "\n",
    "pd.plotting.scatter_matrix(df[['b1','b2','b3','b4']],diagonal='kde')\n",
    "print(df[['b1','b2','b3','b4','y']])\n",
    "\n",
    "# fig.add_subplot(1,2,2)\n",
    "# # Scatterplot of sample data\n",
    "# plt.scatter(np.arange(0,150,1),df[['b1']],marker = '.',color = 'k')\n",
    "# plt.show()"
   ]
  },
  {
   "attachments": {},
   "cell_type": "markdown",
   "metadata": {},
   "source": [
    "### 多元回归拟合"
   ]
  },
  {
   "cell_type": "code",
   "execution_count": 10,
   "metadata": {},
   "outputs": [
    {
     "name": "stdout",
     "output_type": "stream",
     "text": [
      "slope:  [ 1.5  2.  -4.   3. ]\n",
      "intercept: 20.0000\n",
      "linear regression function: y = 1.5x1 + 2.0x2 + -4.0x3 + 3.0x4 + 20.0\n"
     ]
    }
   ],
   "source": [
    "model = linear_model.LinearRegression()\n",
    "model.fit(df[['b1','b2','b3','b4']],df['y'])\n",
    "\n",
    "print('slope: ' ,model.coef_)\n",
    "print('intercept: %.4f' % model.intercept_)\n",
    "print('linear regression function: y = %.1fx1 + %.1fx2 + %.1fx3 + %.1fx4 + %.1f' \n",
    "      % (model.coef_[0],model.coef_[1],model.coef_[2],model.coef_[3],model.intercept_))\n"
   ]
  },
  {
   "attachments": {},
   "cell_type": "markdown",
   "metadata": {},
   "source": [
    "## 模型评估方法"
   ]
  },
  {
   "attachments": {},
   "cell_type": "markdown",
   "metadata": {},
   "source": [
    "### 平均绝对误差(MAE）\n",
    "MAE用来衡量预测值与真实值之间的平均绝对误差，MAE越小表示模型越好，其定义如下：\n",
    "\n",
    "${MAE}=\\frac{1}{n}\\sum_{i=1}^{n}|y_{i}-{y}^{\\prime}_{i}|,\\ \\in\\left[0,+\\infty\\right)\\ \\left(1\\right)$"
   ]
  },
  {
   "cell_type": "code",
   "execution_count": 11,
   "metadata": {},
   "outputs": [],
   "source": [
    "def MAE(y, y_pre):\n",
    "    return np.mean(np.abs(y - y_pre))"
   ]
  },
  {
   "attachments": {},
   "cell_type": "markdown",
   "metadata": {},
   "source": [
    "### 均方误差（MSE）\n",
    "MSE也是回归中最普通的评价指标，MSE越小表示模型越好，其定义如下：\n",
    "\n",
    "$MSE=\\frac{1}{n}\\sum_{i=1}^{n}(y_{i}-{y}^{\\prime}_{i})^{2},~\\in[0,+\\infty)~~(2)$"
   ]
  },
  {
   "cell_type": "code",
   "execution_count": 12,
   "metadata": {},
   "outputs": [],
   "source": [
    "def MSE(y, y_pre):\n",
    "    return np.mean((y - y_pre) ** 2)"
   ]
  },
  {
   "attachments": {},
   "cell_type": "markdown",
   "metadata": {},
   "source": [
    "### 均方根误差（RMSE）\n",
    "RMSE是在MSE的基础之上开根号而来，也是量化回归模型整体误差的标准方法\n",
    "\n",
    "RMSE越小表示模型越好，其定义如下：\n",
    "\n",
    "$R M S E=\\sqrt{\\frac{1}{n}\\sum_{i=1}^{n}(y_{i}-{y}^{\\prime}_{i})^{2}},\\ \\in\\,[0,+\\infty)\\ \\ \\ (3)$"
   ]
  },
  {
   "cell_type": "code",
   "execution_count": 13,
   "metadata": {},
   "outputs": [],
   "source": [
    "def RMSE(y, y_pre):\n",
    "    return np.sqrt(MSE(y, y_pre))"
   ]
  },
  {
   "attachments": {},
   "cell_type": "markdown",
   "metadata": {},
   "source": [
    "### 平均绝对百分比误差（MAPE）\n",
    "MAPE和MAE类似，只是在MAE的基础上做了标准化处理，MAPE越小表示模型越好，其定义如下：\n",
    "\n",
    "$M A P E=\\frac{100\\%}{n}\\sum_{i=1}^{n}\\left|\\frac{y_{i}-{y}^{\\prime}_{i}}{y_{i}}\\right|,\\;\\;\\in\\left[0,+\\infty\\right)\\;\\;(4)$"
   ]
  },
  {
   "cell_type": "code",
   "execution_count": 14,
   "metadata": {},
   "outputs": [],
   "source": [
    "def MAPE(y, y_pre):\n",
    "    return np.mean(np.abs((y - y_pre) / y))"
   ]
  },
  {
   "attachments": {},
   "cell_type": "markdown",
   "metadata": {},
   "source": [
    "### $R^2$评价指标\n",
    "sklearn在实现线性回归时默认采用了该指标，越接近1表示模型越好，其定义如下：\n",
    "\n",
    "$R^{2}\\,=\\,1\\,-\\,\\frac{\\sum_{i=1}^{n}(y_{i}-{y}^{\\prime}_{i})^{2}}{\\sum_{i=1}^{n}(y_{i}-\\overline{{y}})^{2}}\\,\\in\\,[0,1]\\;\\;\\;\\;(5)$\n",
    "\n",
    "其中 $\\overline{{y}}$ 表示真实值的平均值。$R^2$的好处在于其结果进行了归一化，更容易看出模型间的差距。"
   ]
  },
  {
   "cell_type": "code",
   "execution_count": 15,
   "metadata": {},
   "outputs": [],
   "source": [
    "def R2(y, y_pre):\n",
    "    u = np.sum((y - y_pre) ** 2)\n",
    "    v = np.sum((y - np.mean(y)) ** 2)\n",
    "    return 1 - (u / v)"
   ]
  },
  {
   "attachments": {},
   "cell_type": "markdown",
   "metadata": {},
   "source": [
    "## 评估之前多元线性回归的模型"
   ]
  },
  {
   "cell_type": "code",
   "execution_count": 16,
   "metadata": {},
   "outputs": [
    {
     "name": "stdout",
     "output_type": "stream",
     "text": [
      "MAE: 1.1866063687193673e-14\n",
      "MSE: 2.1141472259923116e-28\n",
      "RMSE: 1.4540107379219425e-14\n",
      "MAPE: 4.67988884430622e-16\n",
      "R2: 1.0 1.0\n"
     ]
    }
   ],
   "source": [
    "y_pre = model.predict(df[['b1','b2','b3','b4']]) # ytest, predicted data\n",
    "y = df['y'] # ytrain, Raw data\n",
    "\n",
    "print(\"MAE:\", MAE(y, y_pre))\n",
    "print(\"MSE:\", MSE(y, y_pre))\n",
    "print(\"RMSE:\", RMSE(y, y_pre))\n",
    "print(\"MAPE:\", MAPE(y, y_pre))\n",
    "print(\"R2:\", R2(y, y_pre), model.score(df[['b1','b2','b3','b4']],y))"
   ]
  },
  {
   "attachments": {},
   "cell_type": "markdown",
   "metadata": {},
   "source": [
    "## 非线性回归\n",
    "以基于多项式的回归模型为主，即用曲线方程代替直线方程拟合坐标图上各点，使得各点到曲线的距离总和最短。"
   ]
  },
  {
   "attachments": {},
   "cell_type": "markdown",
   "metadata": {},
   "source": [
    "### 思路\n",
    "对数据标准化(略) -> 构造多项式特征(PolynomialFeatures) -> 线性回归(LinearRegression)"
   ]
  },
  {
   "cell_type": "code",
   "execution_count": 17,
   "metadata": {},
   "outputs": [],
   "source": [
    "from sklearn.preprocessing import  PolynomialFeatures\n",
    "from sklearn.linear_model import LinearRegression\n",
    "import numpy as np"
   ]
  },
  {
   "cell_type": "code",
   "execution_count": 18,
   "metadata": {},
   "outputs": [],
   "source": [
    "data = [(1000,168),(792,184),(1260,197),(1262,220),(1240,228),(1170,248),(1230,305),(1255,256),(1194,240),(1450,230),(1481,202),(1475,220),(1482,232),(1484,460),(1512,320),(1680,340),(1620,240),(1720,368),(1800,280),(4400,710),(4212,552),(3920,580),(3212,585),(3151,590),(3100,560),(2700,285),(2612,292),(2705,482),(2570,462),(2442,352),(2387,440),(2292,462),(2308,325),(2252,298),(2202,352),(2157,403),(2140,308),(4000,795),(4200,765),(3900,705),(3544,420),(2980,402),(4355,762),(3150,392)]\n",
    "xtrain, ytrain = [], []\n",
    "for i in range(len(data)):\n",
    "    xtrain.append(data[i][0])\n",
    "    ytrain.append(data[i][1])\n",
    "xtrain = np.array(xtrain).reshape([len(xtrain), 1])\n",
    "ytrain = np.array(ytrain)\n",
    "xtest = np.arange(min(xtrain) , max(xtrain)).reshape([-1, 1])"
   ]
  },
  {
   "attachments": {},
   "cell_type": "markdown",
   "metadata": {},
   "source": [
    "### 构造多项式特征"
   ]
  },
  {
   "cell_type": "code",
   "execution_count": 19,
   "metadata": {},
   "outputs": [],
   "source": [
    "# degree=2 means quadratic polynomial\n",
    "poly_reg_x =PolynomialFeatures(degree=2)\n",
    "# Construct xtrain quadratic polynomial feature xtrain_poly\n",
    "xtrain_poly=poly_reg_x.fit_transform(xtrain)\n",
    "xtest_poly = poly_reg_x.fit_transform(xtest)"
   ]
  },
  {
   "attachments": {},
   "cell_type": "markdown",
   "metadata": {},
   "source": [
    "### 使用线性回归的方法解决"
   ]
  },
  {
   "cell_type": "code",
   "execution_count": 20,
   "metadata": {},
   "outputs": [],
   "source": [
    "# Create a linear regression model\n",
    "model = linear_model.LinearRegression()\n",
    "model.fit(xtrain_poly,ytrain) # model fitting\n",
    "# predict\n",
    "ytest = model.predict(xtest_poly)\n"
   ]
  },
  {
   "cell_type": "code",
   "execution_count": 21,
   "metadata": {},
   "outputs": [
    {
     "name": "stdout",
     "output_type": "stream",
     "text": [
      "Coefficients: [0.00000000e+00 4.93982848e-02 1.89186822e-05]\n",
      "intercept: 151.84696750500436\n"
     ]
    },
    {
     "data": {
      "image/png": "[encoded data removed]",
      "text/plain": [
       "<Figure size 640x480 with 1 Axes>"
      ]
     },
     "metadata": {},
     "output_type": "display_data"
    }
   ],
   "source": [
    "# View regression coefficients\n",
    "print('Coefficients:',model.coef_)\n",
    "# view intercept\n",
    "print('intercept:',model.intercept_)  \n",
    "\n",
    "# Draw scatter plots、\n",
    "plt.scatter(xtrain, ytrain, color='red')   \n",
    "plt.plot(xtest, ytest, color='blue')    \n",
    "plt.show()"
   ]
  },
  {
   "cell_type": "code",
   "execution_count": 26,
   "metadata": {},
   "outputs": [
    {
     "name": "stdout",
     "output_type": "stream",
     "text": [
      "[202.83741733 202.91680172 202.99622396 ... 734.8176301  735.0334182\n",
      " 735.24924413] 3608\n",
      "[60.03410471 24.47727047 47.12999023  2.81094831 24.37874189 30.53553125\n",
      " 50.09014665 43.33609777 62.50050797 34.31100987 32.79956659  2.13257524\n",
      " 26.84888589 25.24638808 31.42510222 36.07988921 20.87954966 47.73254959\n",
      "  9.12733301 44.29045708 13.02559568 37.59949098 -5.23487553 36.98340247\n",
      " 21.8517364  54.36093169 38.3626941  63.5443741  25.36519927 44.67358183\n",
      " 43.21902148 24.32567184 52.74874154 42.20951629 36.48194137 52.29241583\n",
      " 26.43379206  9.33856136 19.3352812  43.53318911 25.76240928 36.66477906\n",
      " 43.60184532 24.39562241 21.31211252 32.12498022 19.15298236 30.48071512\n",
      " 50.05762866 27.56640472 20.6582189  30.74048034 18.73216752 25.00656565\n",
      " 24.0165886  26.47501464  7.55610027 55.81297448 36.99336895 47.94842214\n",
      " 51.87384801 12.25713933 31.53948824 45.51868286 52.1072107  58.12696048\n",
      " 40.31212367 51.47778749 37.58219282 36.08112992 39.1228255  10.88028904\n",
      " 18.35622969 34.32821465  5.77225117 65.83573196 31.35660745 24.69435104\n",
      " 16.57049482 36.23875032 33.30340274 28.73854043 32.37325738 26.51355982\n",
      " 40.96655214 11.91423106 17.24639105 39.778059   54.03970757 41.9964885\n",
      " 28.13738985 20.94084777 23.16125189 33.24016392 50.70751384 28.90681158\n",
      " 25.11892347 60.34213892 40.79559329 66.03654798 44.0414959  28.0197015\n",
      " -1.49989106 34.95375702 43.65369124 11.94658545 13.00318353 -5.3805462\n",
      " -5.32865053 49.3657262  12.77604877 22.57789485  3.96760612 14.82387619\n",
      " 46.99129468 42.31724596 27.42889083  2.35876343 53.76973328 41.03937727\n",
      " 45.63154031  3.95337179 47.32328152 70.20012373 32.34507744 53.22630463\n",
      " 33.38371677 65.26121551 16.36238989 66.76545045 63.48883032 48.48273863\n",
      " 23.50916243 38.43162262 33.01976185 26.7075431  27.69312536 13.53216009\n",
      " 46.90659836 38.70959287 20.85769588 34.07616257 34.64906418 67.35206582\n",
      " 21.12432177 22.76740021 53.26298089  5.15221692 40.78065323 47.2115919 ] 150\n",
      "1.0\n"
     ]
    },
    {
     "ename": "ValueError",
     "evalue": "operands could not be broadcast together with shapes (150,) (3608,) ",
     "output_type": "error",
     "traceback": [
      "\u001b[1;31m---------------------------------------------------------------------------\u001b[0m",
      "\u001b[1;31mValueError\u001b[0m                                Traceback (most recent call last)",
      "Cell \u001b[1;32mIn [26], line 7\u001b[0m\n\u001b[0;32m      4\u001b[0m y \u001b[39m=\u001b[39m np\u001b[39m.\u001b[39marray(ytrain)\n\u001b[0;32m      6\u001b[0m \u001b[39mprint\u001b[39m(model\u001b[39m.\u001b[39mscore(xtest_poly,ytest))\n\u001b[1;32m----> 7\u001b[0m MSE(y,y_pre)\n",
      "Cell \u001b[1;32mIn [12], line 2\u001b[0m, in \u001b[0;36mMSE\u001b[1;34m(y, y_pre)\u001b[0m\n\u001b[0;32m      1\u001b[0m \u001b[39mdef\u001b[39;00m \u001b[39mMSE\u001b[39m(y, y_pre):\n\u001b[1;32m----> 2\u001b[0m     \u001b[39mreturn\u001b[39;00m np\u001b[39m.\u001b[39mmean((y \u001b[39m-\u001b[39;49m y_pre) \u001b[39m*\u001b[39m\u001b[39m*\u001b[39m \u001b[39m2\u001b[39m)\n",
      "\u001b[1;31mValueError\u001b[0m: operands could not be broadcast together with shapes (150,) (3608,) "
     ]
    }
   ],
   "source": [
    "print(ytest, len(ytest))\n",
    "print(ytrain, len(ytrain))\n",
    "y_pre = np.array(ytest)\n",
    "y = np.array(ytrain)\n",
    "\n",
    "print(model.score(xtest_poly,ytest))\n",
    "MSE(y,y_pre)"
   ]
  }
 ],
 "metadata": {
  "kernelspec": {
   "display_name": "Python 3",
   "language": "python",
   "name": "python3"
  },
  "language_info": {
   "codemirror_mode": {
    "name": "ipython",
    "version": 3
   },
   "file_extension": ".py",
   "mimetype": "text/x-python",
   "name": "python",
   "nbconvert_exporter": "python",
   "pygments_lexer": "ipython3",
   "version": "3.10.7"
  },
  "orig_nbformat": 4,
  "vscode": {
   "interpreter": {
    "hash": "26de051ba29f2982a8de78e945f0abaf191376122a1563185a90213a26c5da77"
   }
  }
 },
 "nbformat": 4,
 "nbformat_minor": 2
}
