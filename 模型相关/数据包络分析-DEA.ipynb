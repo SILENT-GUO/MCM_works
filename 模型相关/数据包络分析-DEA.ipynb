{
 "cells": [
  {
   "attachments": {},
   "cell_type": "markdown",
   "metadata": {},
   "source": [
    "# 数据包络分析\n",
    "\n",
    "**DEA的目的：** 为某一系统选取合适的指标；某一系统内的关键指标有哪些；做出评价，获得某一系统的效益得分\n",
    "\n",
    "**评价的方式、特点：** \n",
    "1. 将数据划分为【投入项】和【产出项】。\n",
    "2. 不预先设定权重值，从最有利于【决策单元】的角度进行评价。\n",
    "3. 通过【DEA】的方法获得最优权重，同时获得每个【决策单元】的【效率】。\n",
    "\n",
    "**概念深入理解：** \n",
    "1. 【决策单元】：在DEA中，每个被评估的对象称为“决策单元”，每个决策单元都有 $m_1$ 种投入和 $m_2$ 种产出。\n",
    "\n",
    "    第 $i$ 个决策单元的第 $j$ 项投入用 $x_{i j}\\left(i=1,2, \\cdots, n ; j=1,2, \\cdots, m_1\\right)$ 表示，第 $i$ 个决策单元的第 $j$ 项产出用 $y_{i j}\\left(i=1,2, \\cdots, n ; j=1,2, \\cdots, m_2\\right)$ 表示，\n",
    "    \n",
    "    投入、产出的权重分别用 $u=\\left(u_1, u_2, \\cdots, u_{m_1}\\right) 、 v=\\left(v_1, v_2, \\cdots, v_{m_2}\\right)$ 表示。\n",
    "2. 【DEA】：适用于对【多投入多产出问题】进行评价。利用线性规划，获得【最优】权重，再以最优权重下的投入与产出作为【生产前沿面】，构建数据包络曲线。\n",
    "\n",
    "    其中，有效点（决策单元）会位于前沿面上，效率值标定为 1；无效点则会位于前沿面外， 并被赋予一个大于 0 小于 1 的相对效率值指标\n",
    "3. 【最优】：【效率评价指数(≤1)】达到最大时称为最优。该情况下的权重称为最优权重，对应达到最优的决策单元称为“DEA有效”，反之称为“非DEA有效”。\n",
    "4. 【(相对)效率】：通俗地讲，效率就是提供一定的投入之后，对产出能不能达到预期要求的一种评价方式。\n",
    "\n",
    "    显然效率主要与投入和产出指标有关，因此很自然地，我们定义 **效率 = (加权)投入产出比**\n",
    "5. 【生产前沿面】：对于一个决策单元，投入和产出都有对应的值，对应一个投入产出的集合；这个集的边界的意思就是：固定现有的投入获得最大的产出，或是固定现有的产出下最小投入。那么称这样一个边界面称为生产前沿面。\n",
    "6. CCR模式下的决策单元 $k$ 的【效益评价指数】：$$E_k=\\frac{u^T X_k}{v^T Y_k}=\\frac{\\sum_{i=1}^{m_1} u_i x_{i k}}{\\sum_{i=1}^{m_2} v_i y_{i k}} \\quad k=1,2, \\cdots, n$$"
   ]
  },
  {
   "attachments": {},
   "cell_type": "markdown",
   "metadata": {},
   "source": [
    "### 简单的小例子（理解）\n",
    "背景：一个工厂生产产品，则投入指标为土地和工人，另有一个产出指标固定为1。（这种情况下应该看投入产出比，越小越好）\n",
    "\\begin{array}{|l|l|l|l|l|l|}\n",
    "\\hline \\text { 工厂 } & \\mathrm{A} & \\mathrm{B} & \\mathrm{C} & \\mathrm{D} & \\mathrm{E} \\\\\n",
    "\\hline \\text { 工人 } & 4 & 7 & 8 & 4 & 2 \\\\\n",
    "\\hline \\text { 土地 } & 3 & 3 & 1 & 2 & 4 \\\\\n",
    "\\hline \\text { 产出 } & 1 & 1 & 1 & 1 & 1 \\\\\n",
    "\\hline\n",
    "\\end{array}\n",
    "假设最优权重都是1，那么投入产出比可以表示为(4,3) (7,3) (8,1) (4,2) (2,4)，画图如下："
   ]
  },
  {
   "cell_type": "code",
   "execution_count": 36,
   "metadata": {},
   "outputs": [
    {
     "data": {
      "text/plain": [
       "[<matplotlib.lines.Line2D at 0x22907051c90>]"
      ]
     },
     "execution_count": 36,
     "metadata": {},
     "output_type": "execute_result"
    },
    {
     "data": {
      "image/png": "[encoded data removed]",
      "text/plain": [
       "<Figure size 400x400 with 1 Axes>"
      ]
     },
     "metadata": {},
     "output_type": "display_data"
    }
   ],
   "source": [
    "# 只是画个图，代码无关\n",
    "import numpy as np\n",
    "import matplotlib.pyplot as plt \n",
    "x = [4, 7, 8, 4, 2]\n",
    "y = [3, 3, 1, 2, 4]\n",
    "plt.figure(figsize=(4, 4))\n",
    "plt.scatter(x,y)\n",
    "plt.annotate('A', xy=(4,3), xytext=(4.1,3.1)) \n",
    "plt.annotate('B', xy=(7,3), xytext=(7.1,3.1)) \n",
    "plt.annotate('C', xy=(8,1), xytext=(8.1,1.1)) \n",
    "plt.annotate('D', xy=(4,2), xytext=(4.1,2.1)) \n",
    "plt.annotate('E', xy=(2,4), xytext=(1.7,3.7)) \n",
    "plt.annotate('O', xy=(0,0), xytext=(-0.3,-0.1)) \n",
    "plt.annotate('P', xy=(24/7,17/7), xytext=(24/7+0.2,17/7+0.1)) \n",
    "fa = lambda x: 3/4*x\n",
    "xa = np.linspace(0,4,100)\n",
    "ya = fa(xa)\n",
    "plt.plot(xa, ya, 'b')\n",
    "fed = lambda x: -1*x+6\n",
    "xed = np.linspace(2,4,100)\n",
    "yed = fed(xed)\n",
    "plt.plot(xed, yed,'b')\n",
    "fdc = lambda x: -1/4*x+3\n",
    "xdc = np.linspace(4,8,100)\n",
    "ydc = fdc(xdc)\n",
    "plt.plot(xdc, ydc,'b')"
   ]
  },
  {
   "attachments": {},
   "cell_type": "markdown",
   "metadata": {},
   "source": [
    "如上图，EDC构成的面即为生产前沿面。EDC点处的效率值为1，A点的距离d=OA/OP，因为效率值是≤1的，所以效率E=OP/OA。\n",
    "\n",
    "因此，从投入产出比出发，效率等于距离的倒数，而从产出投入比角度出发，效率则等于距离。"
   ]
  },
  {
   "attachments": {},
   "cell_type": "markdown",
   "metadata": {},
   "source": [
    "## DEA 效率评估模型\n",
    "1. CCR模型\n",
    "2. BCC模型"
   ]
  },
  {
   "attachments": {},
   "cell_type": "markdown",
   "metadata": {},
   "source": [
    "### CCR模型\n",
    "“投入导向模式”：从投入资源的角度来看，固定当前产出的情况下，比较投入资源的使用情况，用投入产出比作为效益评价的依据。\n",
    "\n",
    "最终得到的是综合技术效益（OE)\n",
    "\n",
    "CCR模型如下：\n",
    "$$\n",
    "\\begin{gathered}\n",
    "\\text { s.t. } \\begin{cases}\\min OE_{k}=\\frac{\\sum_{j=1}^{m_2} u_j y_{k j}}{\\sum_{j=1}^{m_1} v_j x_{k j}} \\\\\n",
    "\\frac{\\sum_{j=1}^{m_2} u_j y_{i j}}{\\sum_{j=1}^{m_1} v_j x_{i j}} \\leq 1, i=1,2, \\ldots n \\\\\n",
    "u \\geq 0, v \\geq 0\\end{cases}\n",
    "\\end{gathered}\n",
    "$$\n",
    "但这种模型不是传统的线性规划模型，难以求最优解。因此将其线性化后，取对偶模型 (...), 转为如下模型（评价 决策单元 $k$ 效益的 CCR 模式线性规划模型）:\n",
    "$$\n",
    "\\begin{array}{ll}\n",
    "\\min \\quad OE_k \\\\\n",
    "\\text { s.t } \\begin{cases}\\sum_{i=1}^n \\lambda_i x_{i j} \\leq OE_k \\cdot x_{k j} & \\forall j=1,2, \\cdots, m_1 \\\\\n",
    "\\sum_{i=1}^n \\lambda_i y_{i j} \\geq y_{k j} & \\forall j=1,2, \\cdots, m_2 \\\\\n",
    "\\lambda_i \\geq 0, i=1,2, \\cdots, n\\end{cases}\n",
    "\\end{array}\n",
    "$$\n",
    "\n",
    "> 这个模型可以直观地理解为，将决策单元 $k$ 的投入、产出表示为其他决策单元的线性组合。\n",
    "\n",
    "> 如果有某个 (或某些) 决策单元的产出量达到决策单元 $k$ 的水平 (第二个约束的含义)，而投入量尽可能小 (第一个约束的含义)，还出现 $OE_k<1$ 的情况，这说明该决策单元存在资源浪费。\n",
    "\n",
    "> 如果该决策单元的效率已经是最高的了, 那么任何的决策单元都不能使用比它还要少的投入获得同样 (甚至更多) 的产出. 这时候 $OE_k=1$"
   ]
  },
  {
   "attachments": {},
   "cell_type": "markdown",
   "metadata": {},
   "source": [
    "**加速模型求解及分析产能效应：**，为上述方程引入松他变量 $s_i^{-}, s_j^{+}$，引入非阿基米德数 $\\varepsilon$ (通常设为 $10^{-6}$ )。\n",
    "\n",
    "其中 $s_j^{-}$ 称为差额变数，表示该决策单元为达到“DEA 有效”应减少的投入量， $s_k^{+}$称为超额变数，代表为达到“DEA 有效”应增加的产出量。\n",
    "\n",
    "CCR 模式线性规划模型化为:\n",
    "$$\n",
    "\\begin{array}{ll}\n",
    "\\min \\quad OE_k-\\varepsilon\\left(\\sum_{i=1}^{m_1} s_i^{-}+\\sum_{j=1}^{m_2} s_j^{+}\\right) \\\\\n",
    "s . t \\begin{cases}\\sum_{i=1}^n \\lambda_i x_{i j}+s_j^{-}=O E_k \\cdot x_{k j} & \\forall j=1,2, \\cdots, m_1 \\\\\n",
    "\\sum_{i=1}^n \\lambda_i y_{i j}-s_j^{+}=y_{k j} & \\forall j=1,2, \\cdots, m_2 \\\\\n",
    "\\lambda_i \\geq 0, i=1,2, \\cdots, n & \\\\\n",
    "s_i^{-}, s_j^{+} \\geq 0 & \\\\\n",
    "\\varepsilon \\rightarrow 0 & \\end{cases}\n",
    "\\end{array}\n",
    "$$"
   ]
  },
  {
   "attachments": {},
   "cell_type": "markdown",
   "metadata": {},
   "source": [
    "尽管 $\\varepsilon$ 很小，但我们无法得知各 $s_i^{-}, s_j^{+}$的大小数量级，直接进行计算可能会产生误差，因此求解该问题使用【分层序列法】。\n",
    "\n",
    "**【分层序列法】：** 设多目标决策给出的重要性序列为: $f_1(x),f_2(x),\\dots,f_m(x)$ ，首先对第一个目标求最优解, 并找出所有最优解的集合记为 $R_1$ , 然后在 $R_1$ 内求第二个目标的最优解, 记这时的最优解集合为 $R_2$ , 如此一直到求出第 $m$ 个目标的最优解 \n",
    "\n",
    "在这里，第一阶段求解 $O E_k$ 的最小值，第二阶段在 $O E_k$ 已知下求 $\\sum_{i=1}^{m_1} s_i^{-}+\\sum_{j=1}^{m_2} s_j^{+}$的最大值，即：\n",
    "$$\n",
    "\\begin{array}{llr}\n",
    "\\operatorname{Obj}_1: \\min O E_k \\quad\\quad\\quad\\quad\\quad\\quad\\quad\\quad\\quad\\quad\\quad\\quad\\quad\\quad\\quad \\mathrm{Obj}_2: \\max \\sum_{i=1}^{m_1} s_i^{-}+\\sum \\\\\n",
    "s . t\\left\\{\\begin{array} { l l } \n",
    "{ \\sum _ { i = 1 } ^ { n } \\lambda _ { i } x _ { i j } \\leq O E _ { k } \\cdot x _ { k j } } & { \\forall j = 1 , 2 , \\cdots , m _ { 1 } } \\\\\n",
    "{ \\sum _ { i = 1 } ^ { n } \\lambda _ { i } y _ { i j } \\geq y _ { k j } } & { \\forall j = 1 , 2 , \\cdots , m _ { 2 }} \\\\\n",
    "{ \\lambda _ { i } \\geq 0 , i = 1 , 2 , \\cdots , n }\n",
    "\\end{array} \\quad s . t\\left\\{\\begin{array}{l}\n",
    "\\sum_{i=1}^n \\lambda_i x_{i j}+s_j^{-}=O E \\\\\n",
    "\\sum_{i=1}^n \\lambda_i y_{i j}-s_j^{+}=y_{k j} \\\\\n",
    "\\lambda_i \\geq 0, i=1,2, \\cdots, n \\\\\n",
    "s_i^{-}, s_j^{+} \\geq 0\n",
    "\\end{array}\\right.\\right.\n",
    "\\end{array}\n",
    "$$"
   ]
  },
  {
   "attachments": {},
   "cell_type": "markdown",
   "metadata": {},
   "source": [
    "### BCC模式\n",
    "“投入导向模式”：从产出的角度探讨效率，即在相同的投入情况下，比较产出资源的达成情况。\n",
    "\n",
    "得到的是“技术效益”，DEA = 1 称为 “技术有效”。"
   ]
  },
  {
   "attachments": {},
   "cell_type": "markdown",
   "metadata": {},
   "source": [
    "### DEA模型结果分析\n",
    "1. 效益分析\n",
    "    - 综合技术效益(overall efficiency, OE)反映的是决策单元在一定(最优规模时) 投入要素的生产效率，\n",
    "    是对决策单元的资源配置能力、资源使用效率等多方面能力的综合衡量与评价(?)\n",
    "    - 技术效益(technical efficiency, TE)是企业由于管理和技术等因素影响的生产效率(?)\n",
    "    - 规模效益(scale efficiency, SE)是由于企业规模因素影响的生产效率(?)\n",
    "    这三个效益满足关系式子：$$OE=TE*SE$$\n",
    "    \n",
    "    > 综合技术效益 = 1，表示该决策单元的投入产出是综合有效的，即同时技术有效和规模有效。技术效益 = 1，规模效益 < 1，表示在目前的技术水平上，其投入资源的使用是有效率的，未能达到综合有效的根本原因在于其规模无效，因此其改革的重点在于如何更好地发挥其规模效益 \n",
    "2. 有效性分析\n",
    "    \n",
    "    CCR 模式下 DEA 效率评估模型所得到的最优解 $O E_k$ 是决策单元 $k$ 的 “综合技术效益\" 。根据 $O E_k$ 取值不同， 将综合效益评估分为以下三种情况:\n",
    "\n",
    "    - 若 $O E_k=1, s_i^{-}, s_j^{+}=0 \\forall i, j$ ，说明决策单元是 “DEA 强有效\" 的，即任何一项投入的 数量都无法减少，除非减少产出或增加另外一种投入的数量；任何一种产出的数量都无法增加， 除非增加投入的数量或减少另外一种产出的数量。即：同时达到技术有效和规模有效\n",
    "    - 若 $O E_k=1$, 某一 $s_i^{-}$或 $s_j^{+}$为 0 ，说明决策单元是 “DEA 弱有效\" 的，无法等比例减少各项 投入的数量，除非减少产出的数量；无法等比例增加各项产出的数量，除非增加投入的数量。 即：技术有效和规模有效只满足一个\n",
    "    - 若 $O E_k<1$ ，说明决策单元是 “非 DEA 有效\" 的，存在资源浪费现象（没有合理利用资 源），既不是效率最佳也不是规模最佳\n",
    "\n",
    "    对 \"DEA 弱有效\" 的决策按照 $s_i^{-}, s_j^{+}$的冗余情况进行调整，使之变得 \"DEA 强有效\" 。\n",
    "3. 规模报酬分析(?)\n",
    "\n",
    "    在不同的生产规模下，规模报酬将会随之改变。\n",
    "    \n",
    "    生产规模小时，投入产出比会随着规模增加而迅速提升，称为规模报酬递增(Increasing Returns to Scale, IRS)；\n",
    "    \n",
    "    当生产达到高峰期时，产出与规模成正比而达到最适生产规模，称为规模报酬固定；\n",
    "    \n",
    "    当生产规模过于庞大时，产出减缓，则称为规模报酬递减(Decreasing Returns to Scale, DRS)，也就是投入增加时，产出增加的比例会少于投入增加的比例。"
   ]
  },
  {
   "cell_type": "code",
   "execution_count": 37,
   "metadata": {},
   "outputs": [],
   "source": [
    "import gurobipy\n",
    "import pandas as pd\n",
    "\n",
    "# 分页显示数据, 设置为 False 不允许分页\n",
    "pd.set_option('display.expand_frame_repr', False)\n",
    "\n",
    "# 最多显示的列数, 设置为 None 显示全部列\n",
    "pd.set_option('display.max_columns', None)\n",
    "\n",
    "# 最多显示的行数, 设置为 None 显示全部行\n",
    "pd.set_option('display.max_rows', None)\n",
    "\n",
    "class DEA(object):\n",
    "\tdef __init__(self, DMUs_Name, X, Y, AP=False):\n",
    "\t\tself.m1, self.m1_name, self.m2, self.m2_name, self.AP = X.shape[1], X.columns.tolist(), Y.shape[1], Y.columns.tolist(), AP\n",
    "\t\tself.DMUs, self.X, self.Y = gurobipy.multidict({DMU: [X.loc[DMU].tolist(), Y.loc[DMU].tolist()] for DMU in DMUs_Name})\n",
    "\t\tprint(f'DEA(AP={AP}) MODEL RUNING...')\n",
    "\n",
    "\tdef __CCR(self):\n",
    "\t\tfor k in self.DMUs:\n",
    "\t\t\tMODEL = gurobipy.Model()\n",
    "\t\t\tOE, lambdas, s_negitive, s_positive = MODEL.addVar(), MODEL.addVars(self.DMUs),  MODEL.addVars(self.m1), MODEL.addVars(self.m2)\n",
    "\t\t\tMODEL.update()\n",
    "\t\t\tMODEL.setObjectiveN(OE, index=0, priority=1)\n",
    "\t\t\tMODEL.setObjectiveN(-(sum(s_negitive) + sum(s_positive)), index=1, priority=0)\n",
    "\t\t\tMODEL.addConstrs(gurobipy.quicksum(lambdas[i] * self.X[i][j] for i in self.DMUs if i != k or not self.AP) + s_negitive[j] == OE * self.X[k][j] for j in range(self.m1))\n",
    "\t\t\tMODEL.addConstrs(gurobipy.quicksum(lambdas[i] * self.Y[i][j] for i in self.DMUs if i != k or not self.AP) - s_positive[j] == self.Y[k][j] for j in range(self.m2))\n",
    "\t\t\tMODEL.setParam('OutputFlag', 0)\n",
    "\t\t\tMODEL.optimize()\n",
    "\t\t\tself.Result.at[k, ('效益分析', '综合技术效益(CCR)')] = MODEL.objVal\n",
    "\t\t\tself.Result.at[k, ('规模报酬分析', '有效性')] = '非 DEA 有效' if MODEL.objVal < 1 else 'DEA 弱有效' if s_negitive.sum().getValue() + s_positive.sum().getValue() else 'DEA 强有效'\n",
    "\t\t\tself.Result.at[k, ('规模报酬分析', '类型')] = '规模报酬固定' if lambdas.sum().getValue() == 1 else '规模报酬递增' if lambdas.sum().getValue() < 1 else '规模报酬递减'\n",
    "\t\t\tfor m in range(self.m1):\n",
    "\t\t\t\tself.Result.at[k, ('差额变数分析', f'{self.m1_name[m]}')] = s_negitive[m].X\n",
    "\t\t\t\tself.Result.at[k, ('投入冗余率',  f'{self.m1_name[m]}')] = 'N/A' if self.X[k][m] == 0 else s_negitive[m].X / self.X[k][m]\n",
    "\t\t\tfor m in range(self.m2):\n",
    "\t\t\t\tself.Result.at[k, ('差额变数分析', f'{self.m2_name[m]}')] = s_positive[m].X\n",
    "\t\t\t\tself.Result.at[k, ('产出不足率', f'{self.m2_name[m]}')] = 'N/A' if self.Y[k][m] == 0 else s_positive[m].X / self.Y[k][m]\n",
    "\t\treturn self.Result\n",
    "\n",
    "\tdef __BCC(self):\n",
    "\t\tfor k in self.DMUs:\n",
    "\t\t\tMODEL = gurobipy.Model()\n",
    "\t\t\tTE, lambdas = MODEL.addVar(), MODEL.addVars(self.DMUs)\n",
    "\t\t\tMODEL.update()\n",
    "\t\t\tMODEL.setObjective(TE, sense=gurobipy.GRB.MINIMIZE)\n",
    "\t\t\tMODEL.addConstrs(gurobipy.quicksum(lambdas[i] * self.X[i][j] for i in self.DMUs if i != k or not self.AP) <= TE * self.X[k][j] for j in range(self.m1))\n",
    "\t\t\tMODEL.addConstrs(gurobipy.quicksum(lambdas[i] * self.Y[i][j] for i in self.DMUs if i != k or not self.AP) >= self.Y[k][j] for j in range(self.m2))\n",
    "\t\t\tMODEL.addConstr(gurobipy.quicksum(lambdas[i] for i in self.DMUs if i != k or not self.AP) == 1)\n",
    "\t\t\tMODEL.setParam('OutputFlag', 0)\n",
    "\t\t\tMODEL.optimize()\n",
    "\t\t\tself.Result.at[k, ('效益分析', '技术效益(BCC)')] = MODEL.objVal if MODEL.status == gurobipy.GRB.Status.OPTIMAL else 'N/A'\n",
    "\t\treturn self.Result\n",
    "\n",
    "\tdef dea(self):\n",
    "\t\tcolumns_Page = ['效益分析'] * 3 + ['规模报酬分析'] * 2 + ['差额变数分析'] * (self.m1 + self.m2) + ['投入冗余率'] * self.m1 + ['产出不足率'] * self.m2\n",
    "\t\tcolumns_Group = ['技术效益(BCC)', '规模效益(CCR/BCC)', '综合技术效益(CCR)','有效性', '类型'] + (self.m1_name + self.m2_name) * 2\n",
    "\t\tself.Result = pd.DataFrame(index=self.DMUs, columns=[columns_Page, columns_Group])\n",
    "\t\tself.__CCR()\n",
    "\t\tself.__BCC()\n",
    "\t\tself.Result.loc[:, ('效益分析', '规模效益(CCR/BCC)')] = self.Result.loc[:, ('效益分析', '综合技术效益(CCR)')] / self.Result.loc[:,('效益分析', '技术效益(BCC)')]\n",
    "\t\treturn self.Result\n",
    "\n",
    "\tdef analysis(self, file_name=None):\n",
    "\t\tResult = self.dea()\n",
    "\t\tfile_name = 'DEA 数据包络分析报告.xlsx' if file_name is None else f'\\\\{file_name}.xlsx'\n",
    "\t\tResult.to_excel(file_name, 'DEA 数据包络分析报告')"
   ]
  },
  {
   "cell_type": "code",
   "execution_count": 38,
   "metadata": {},
   "outputs": [
    {
     "name": "stdout",
     "output_type": "stream",
     "text": [
      "DEA(AP=False) MODEL RUNING...\n",
      "Restricted license - for non-production use only - expires 2024-10-28\n"
     ]
    },
    {
     "ename": "ModuleNotFoundError",
     "evalue": "No module named 'openpyxl'",
     "output_type": "error",
     "traceback": [
      "\u001b[1;31m---------------------------------------------------------------------------\u001b[0m",
      "\u001b[1;31mModuleNotFoundError\u001b[0m                       Traceback (most recent call last)",
      "Cell \u001b[1;32mIn [38], line 11\u001b[0m\n\u001b[0;32m      8\u001b[0m Y \u001b[39m=\u001b[39m data[[\u001b[39m'\u001b[39m\u001b[39m人均 GDP/元\u001b[39m\u001b[39m'\u001b[39m, \u001b[39m'\u001b[39m\u001b[39m城市环境质量指数\u001b[39m\u001b[39m'\u001b[39m]]\n\u001b[0;32m     10\u001b[0m dea \u001b[39m=\u001b[39m DEA(DMUs_Name\u001b[39m=\u001b[39mdata\u001b[39m.\u001b[39mindex, X\u001b[39m=\u001b[39mX, Y\u001b[39m=\u001b[39mY)\n\u001b[1;32m---> 11\u001b[0m dea\u001b[39m.\u001b[39;49manalysis()\t\u001b[39m# dea 分析并输出表格\u001b[39;00m\n\u001b[0;32m     12\u001b[0m \u001b[39mprint\u001b[39m(dea\u001b[39m.\u001b[39mdea()) \u001b[39m# dea 分析，不输出结果\u001b[39;00m\n",
      "Cell \u001b[1;32mIn [37], line 67\u001b[0m, in \u001b[0;36mDEA.analysis\u001b[1;34m(self, file_name)\u001b[0m\n\u001b[0;32m     65\u001b[0m Result \u001b[39m=\u001b[39m \u001b[39mself\u001b[39m\u001b[39m.\u001b[39mdea()\n\u001b[0;32m     66\u001b[0m file_name \u001b[39m=\u001b[39m \u001b[39m'\u001b[39m\u001b[39mDEA 数据包络分析报告.xlsx\u001b[39m\u001b[39m'\u001b[39m \u001b[39mif\u001b[39;00m file_name \u001b[39mis\u001b[39;00m \u001b[39mNone\u001b[39;00m \u001b[39melse\u001b[39;00m \u001b[39mf\u001b[39m\u001b[39m'\u001b[39m\u001b[39m\\\\\u001b[39;00m\u001b[39m{\u001b[39;00mfile_name\u001b[39m}\u001b[39;00m\u001b[39m.xlsx\u001b[39m\u001b[39m'\u001b[39m\n\u001b[1;32m---> 67\u001b[0m Result\u001b[39m.\u001b[39;49mto_excel(file_name, \u001b[39m'\u001b[39;49m\u001b[39mDEA 数据包络分析报告\u001b[39;49m\u001b[39m'\u001b[39;49m)\n",
      "File \u001b[1;32m~\\AppData\\Roaming\\Python\\Python310\\site-packages\\pandas\\util\\_decorators.py:211\u001b[0m, in \u001b[0;36mdeprecate_kwarg.<locals>._deprecate_kwarg.<locals>.wrapper\u001b[1;34m(*args, **kwargs)\u001b[0m\n\u001b[0;32m    209\u001b[0m     \u001b[39melse\u001b[39;00m:\n\u001b[0;32m    210\u001b[0m         kwargs[new_arg_name] \u001b[39m=\u001b[39m new_arg_value\n\u001b[1;32m--> 211\u001b[0m \u001b[39mreturn\u001b[39;00m func(\u001b[39m*\u001b[39margs, \u001b[39m*\u001b[39m\u001b[39m*\u001b[39mkwargs)\n",
      "File \u001b[1;32m~\\AppData\\Roaming\\Python\\Python310\\site-packages\\pandas\\util\\_decorators.py:211\u001b[0m, in \u001b[0;36mdeprecate_kwarg.<locals>._deprecate_kwarg.<locals>.wrapper\u001b[1;34m(*args, **kwargs)\u001b[0m\n\u001b[0;32m    209\u001b[0m     \u001b[39melse\u001b[39;00m:\n\u001b[0;32m    210\u001b[0m         kwargs[new_arg_name] \u001b[39m=\u001b[39m new_arg_value\n\u001b[1;32m--> 211\u001b[0m \u001b[39mreturn\u001b[39;00m func(\u001b[39m*\u001b[39margs, \u001b[39m*\u001b[39m\u001b[39m*\u001b[39mkwargs)\n",
      "File \u001b[1;32m~\\AppData\\Roaming\\Python\\Python310\\site-packages\\pandas\\core\\generic.py:2374\u001b[0m, in \u001b[0;36mNDFrame.to_excel\u001b[1;34m(self, excel_writer, sheet_name, na_rep, float_format, columns, header, index, index_label, startrow, startcol, engine, merge_cells, encoding, inf_rep, verbose, freeze_panes, storage_options)\u001b[0m\n\u001b[0;32m   2361\u001b[0m \u001b[39mfrom\u001b[39;00m \u001b[39mpandas\u001b[39;00m\u001b[39m.\u001b[39;00m\u001b[39mio\u001b[39;00m\u001b[39m.\u001b[39;00m\u001b[39mformats\u001b[39;00m\u001b[39m.\u001b[39;00m\u001b[39mexcel\u001b[39;00m \u001b[39mimport\u001b[39;00m ExcelFormatter\n\u001b[0;32m   2363\u001b[0m formatter \u001b[39m=\u001b[39m ExcelFormatter(\n\u001b[0;32m   2364\u001b[0m     df,\n\u001b[0;32m   2365\u001b[0m     na_rep\u001b[39m=\u001b[39mna_rep,\n\u001b[1;32m   (...)\u001b[0m\n\u001b[0;32m   2372\u001b[0m     inf_rep\u001b[39m=\u001b[39minf_rep,\n\u001b[0;32m   2373\u001b[0m )\n\u001b[1;32m-> 2374\u001b[0m formatter\u001b[39m.\u001b[39;49mwrite(\n\u001b[0;32m   2375\u001b[0m     excel_writer,\n\u001b[0;32m   2376\u001b[0m     sheet_name\u001b[39m=\u001b[39;49msheet_name,\n\u001b[0;32m   2377\u001b[0m     startrow\u001b[39m=\u001b[39;49mstartrow,\n\u001b[0;32m   2378\u001b[0m     startcol\u001b[39m=\u001b[39;49mstartcol,\n\u001b[0;32m   2379\u001b[0m     freeze_panes\u001b[39m=\u001b[39;49mfreeze_panes,\n\u001b[0;32m   2380\u001b[0m     engine\u001b[39m=\u001b[39;49mengine,\n\u001b[0;32m   2381\u001b[0m     storage_options\u001b[39m=\u001b[39;49mstorage_options,\n\u001b[0;32m   2382\u001b[0m )\n",
      "File \u001b[1;32m~\\AppData\\Roaming\\Python\\Python310\\site-packages\\pandas\\io\\formats\\excel.py:918\u001b[0m, in \u001b[0;36mExcelFormatter.write\u001b[1;34m(self, writer, sheet_name, startrow, startcol, freeze_panes, engine, storage_options)\u001b[0m\n\u001b[0;32m    914\u001b[0m     need_save \u001b[39m=\u001b[39m \u001b[39mFalse\u001b[39;00m\n\u001b[0;32m    915\u001b[0m \u001b[39melse\u001b[39;00m:\n\u001b[0;32m    916\u001b[0m     \u001b[39m# error: Cannot instantiate abstract class 'ExcelWriter' with abstract\u001b[39;00m\n\u001b[0;32m    917\u001b[0m     \u001b[39m# attributes 'engine', 'save', 'supported_extensions' and 'write_cells'\u001b[39;00m\n\u001b[1;32m--> 918\u001b[0m     writer \u001b[39m=\u001b[39m ExcelWriter(  \u001b[39m# type: ignore[abstract]\u001b[39;49;00m\n\u001b[0;32m    919\u001b[0m         writer, engine\u001b[39m=\u001b[39;49mengine, storage_options\u001b[39m=\u001b[39;49mstorage_options\n\u001b[0;32m    920\u001b[0m     )\n\u001b[0;32m    921\u001b[0m     need_save \u001b[39m=\u001b[39m \u001b[39mTrue\u001b[39;00m\n\u001b[0;32m    923\u001b[0m \u001b[39mtry\u001b[39;00m:\n",
      "File \u001b[1;32m~\\AppData\\Roaming\\Python\\Python310\\site-packages\\pandas\\io\\excel\\_openpyxl.py:56\u001b[0m, in \u001b[0;36mOpenpyxlWriter.__init__\u001b[1;34m(self, path, engine, date_format, datetime_format, mode, storage_options, if_sheet_exists, engine_kwargs, **kwargs)\u001b[0m\n\u001b[0;32m     43\u001b[0m \u001b[39mdef\u001b[39;00m \u001b[39m__init__\u001b[39m(\n\u001b[0;32m     44\u001b[0m     \u001b[39mself\u001b[39m,\n\u001b[0;32m     45\u001b[0m     path: FilePath \u001b[39m|\u001b[39m WriteExcelBuffer \u001b[39m|\u001b[39m ExcelWriter,\n\u001b[1;32m   (...)\u001b[0m\n\u001b[0;32m     54\u001b[0m ) \u001b[39m-\u001b[39m\u001b[39m>\u001b[39m \u001b[39mNone\u001b[39;00m:\n\u001b[0;32m     55\u001b[0m     \u001b[39m# Use the openpyxl module as the Excel writer.\u001b[39;00m\n\u001b[1;32m---> 56\u001b[0m     \u001b[39mfrom\u001b[39;00m \u001b[39mopenpyxl\u001b[39;00m\u001b[39m.\u001b[39;00m\u001b[39mworkbook\u001b[39;00m \u001b[39mimport\u001b[39;00m Workbook\n\u001b[0;32m     58\u001b[0m     engine_kwargs \u001b[39m=\u001b[39m combine_kwargs(engine_kwargs, kwargs)\n\u001b[0;32m     60\u001b[0m     \u001b[39msuper\u001b[39m()\u001b[39m.\u001b[39m\u001b[39m__init__\u001b[39m(\n\u001b[0;32m     61\u001b[0m         path,\n\u001b[0;32m     62\u001b[0m         mode\u001b[39m=\u001b[39mmode,\n\u001b[1;32m   (...)\u001b[0m\n\u001b[0;32m     65\u001b[0m         engine_kwargs\u001b[39m=\u001b[39mengine_kwargs,\n\u001b[0;32m     66\u001b[0m     )\n",
      "\u001b[1;31mModuleNotFoundError\u001b[0m: No module named 'openpyxl'"
     ]
    }
   ],
   "source": [
    "data = pd.DataFrame({1990: [14.40, 0.65, 31.30, 3621.00, 0.00], 1991: [16.90, 0.72, 32.20, 3943.00, 0.09],1992: [15.53, 0.72, 31.87, 4086.67, 0.07], 1993: [15.40, 0.76, 32.23, 4904.67, 0.13],\n",
    "1994: [14.17, 0.76, 32.40, 6311.67, 0.37], 1995: [13.33, 0.69, 30.77, 8173.33, 0.59],\n",
    "1996: [12.83, 0.61, 29.23, 10236.00, 0.51], 1997: [13.00, 0.63, 28.20, 12094.33, 0.44],\n",
    "1998: [13.40, 0.75, 28.80, 13603.33, 0.58], 1999: [14.00, 0.84, 29.10, 14841.00, 1.00]},\n",
    "index=['政府财政收入占 GDP 的比例/%', '环保投资占 GDP 的比例/%', '每千人科技人员数/人', '人均 GDP/元', '城市环境质量指数']).T\n",
    "\n",
    "X = data[['政府财政收入占 GDP 的比例/%', '环保投资占 GDP 的比例/%', '每千人科技人员数/人']]\n",
    "Y = data[['人均 GDP/元', '城市环境质量指数']]\n",
    "\n",
    "dea = DEA(DMUs_Name=data.index, X=X, Y=Y)\n",
    "dea.analysis()\t# dea 分析并输出表格\n",
    "print(dea.dea()) # dea 分析，不输出结果"
   ]
  }
 ],
 "metadata": {
  "kernelspec": {
   "display_name": "Python 3",
   "language": "python",
   "name": "python3"
  },
  "language_info": {
   "codemirror_mode": {
    "name": "ipython",
    "version": 3
   },
   "file_extension": ".py",
   "mimetype": "text/x-python",
   "name": "python",
   "nbconvert_exporter": "python",
   "pygments_lexer": "ipython3",
   "version": "3.10.7"
  },
  "orig_nbformat": 4,
  "vscode": {
   "interpreter": {
    "hash": "26de051ba29f2982a8de78e945f0abaf191376122a1563185a90213a26c5da77"
   }
  }
 },
 "nbformat": 4,
 "nbformat_minor": 2
}
