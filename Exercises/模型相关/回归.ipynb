{
 "cells": [
  {
   "attachments": {},
   "cell_type": "markdown",
   "metadata": {},
   "source": [
    "# 回归\n",
    "线性回归 (linear regression) 是一种线性模型，它假设输入变量 $x$ 和单个输出变量 $\\hat y$（$y$ 的估计值） 之间存在线性关系\n",
    "\n",
    "具体来说，利用线性回归模型，可以从一组输入变量 $x$ 的线性组合中， 计算输出变量 $\\hat y$ 以及参数 $\\beta$ 和 $\\epsilon$：\n",
    "$$\n",
    "\\begin{gathered}\n",
    "\\boldsymbol{\\hat y}=\\boldsymbol{\\beta}\\boldsymbol{x}+\\boldsymbol{\\epsilon}\n",
    "\\end{gathered}\n",
    "$$\n",
    "\n",
    "给定有 $n$ 个特征描述的样本 $x=(x_1 , x_2 , \\ldots , x_n)$ ，其中 $x_i$ 是 $x$ 在第 $i$ 个特征上的取值，线性模型试图获得一个通过特征的线性组合来进行预测的函数，即：\n",
    "$$\n",
    "f(\\boldsymbol{x})=\\beta_1 x_1+\\beta_2 x_2+\\ldots+\\beta_d x_n+\\epsilon\n",
    "$$\n",
    "用矩阵形式写成:\n",
    "$$\n",
    "f(\\boldsymbol{x})=\\boldsymbol{\\beta} \\boldsymbol{x}+\\epsilon\n",
    "$$\n",
    "假设特征和结果都满足线性，即不大于一次方。获得 $\\beta$ 和 $\\epsilon$ 之后，模型就得以确定。\n",
    "## 核心思想\n",
    "大量数据进行统计分析，从而获得回归方程、获得预测的估计值"
   ]
  },
  {
   "attachments": {},
   "cell_type": "markdown",
   "metadata": {},
   "source": [
    "## 基本步骤"
   ]
  },
  {
   "attachments": {},
   "cell_type": "markdown",
   "metadata": {},
   "source": [
    "1. 确定回归模型属于那种基本类型，然后通过计算得到回归方程的表达式\n",
    "    1. 根据试验数据画出散点图（1.1）\n",
    "    2. 确定经验公式的函数类型（1.1）\n",
    "    3. 通过最小二乘法得到拟合的测试数据（1.2，1.3）\n",
    "    4. 根据拟合数据绘制拟合曲线，并得到回归方程的表达式（1.4，1.5）\n",
    "2. 对回归模型进行显著性检验。\n",
    "    1. 相关系数检验，检验线性相关程度的大小\n",
    "    2. F检验法（这两种检验方法可以任意选）\n",
    "    3. 残差分析\n",
    "    4. 对于多元回归分析还要进行因素的主次排序\n",
    "\n",
    "（如果检验结果表示此模型的显著性很差，应当另选回归模型）"
   ]
  },
  {
   "cell_type": "code",
   "execution_count": 1,
   "metadata": {},
   "outputs": [],
   "source": [
    "import numpy as np\n",
    "import pandas as pd\n",
    "import matplotlib.pyplot as plt\n",
    "from sklearn import *"
   ]
  },
  {
   "attachments": {},
   "cell_type": "markdown",
   "metadata": {},
   "source": [
    "## 最小二乘法"
   ]
  },
  {
   "attachments": {},
   "cell_type": "markdown",
   "metadata": {},
   "source": [
    "基于均方误差最小化来进行模型求解的方法称为\"最小二乘法\" (leastsquare method)，它的主要思想就是选择未知参数，使得理论值与观测值之差的平方和达到最小。\n",
    "\n",
    "我们假设输入属性 (特征) 的数目只有一个：$f\\left(x_i\\right)=\\hat y = \\beta x_i+\\epsilon$，使得 $f\\left(x_i\\right) \\simeq y_i$，其中 $\\hat y$ 记作 $y$ 的估计值\n",
    "\n",
    "在线性回归中，最小二乘法就是试图找到一条直线 (即一组最优参数 $(\\beta, \\epsilon)$)，使目标损失函数，即所有样本到直线上的欧式距离之和 $E\\left(\\beta, \\epsilon\\right)$ 最小。\n",
    "$$\n",
    "\\begin{aligned}\n",
    "E\\left(\\beta, \\epsilon\\right) & =\\underset{(\\beta, \\epsilon)}{\\min } \\sum_{i=1}^n\\left(f\\left(x_i\\right)-y_i\\right)^2 \\\\\n",
    "& =\\underset{(\\beta, \\epsilon)}{\\min } \\sum_{i=1}^n\\left(y_i-\\beta x_i-\\epsilon\\right)^2\n",
    "\\end{aligned}\n",
    "$$"
   ]
  },
  {
   "attachments": {},
   "cell_type": "markdown",
   "metadata": {},
   "source": [
    "## 简单线性回归\n",
    "**线性回归模型的最小二乘参数估计：**\n",
    "\n",
    "求解 $\\mathrm{\\beta}$ 和 $\\epsilon$ ，使得 $E_{(\\beta, \\epsilon)}=\\sum_{i=1}^m\\left(y_i-\\beta x_i-\\epsilon\\right)^2$ 最小化的过程，称为线性回归模型的“最小二乘参数估计\"\n",
    "\n",
    "将 $E_{(\\beta, \\epsilon)}$ 分别对 $\\mathrm{\\beta}$ 和 $\\epsilon$ 求偏导，可以得到\n",
    "$$\n",
    "\\begin{gathered}\n",
    "\\frac{\\partial E_{(\\beta, \\epsilon)}}{\\partial \\beta}=\\sum_{i=1}^{n}2\\left(y_{i}-\\left(\\beta x_{i}+\\epsilon\\right)\\right)\\cdot\\left(-x_{i}\\right) \\\\\n",
    "\\frac{\\partial E_{(\\beta, \\epsilon)}}{\\partial \\epsilon}=\\sum_{i=1}^{n}2\\left(y_{i}\\,-\\,\\left(\\beta x_{i}\\,+\\,\\epsilon\\right)\\right)\\cdot\\,\\left(-1\\right)\n",
    "\\end{gathered}\n",
    "$$\n",
    "\n",
    "令偏导数为 0 ，可以得到\n",
    "\n",
    "$$\n",
    "\\beta=\\frac{\\sum_{i=1}^n \\left(x_i-\\bar{x}\\right)\\left(y_i-\\bar{y}\\right)}{\\sum_{i=1}^n \\left( x_i-\\bar{x}\\right)^2} \\quad \\epsilon=\\bar{y}-\\bar{x}\\beta\n",
    "$$\n",
    "其中 $\\bar{x}=\\frac{1}{n} \\sum_{i=1}^n x_i$，$\\bar{y}=\\frac{1}{n} \\sum_{i=1}^n y_i$"
   ]
  },
  {
   "attachments": {},
   "cell_type": "markdown",
   "metadata": {},
   "source": [
    "### 1.1.画散点图\n",
    "根据散点图，确定接下来所用公式的函数类型（线性）"
   ]
  },
  {
   "cell_type": "code",
   "execution_count": 2,
   "metadata": {},
   "outputs": [
    {
     "data": {
      "text/plain": [
       "Text(0.5, 1.0, 'Scatterplot of sample data')"
      ]
     },
     "execution_count": 2,
     "metadata": {},
     "output_type": "execute_result"
    },
    {
     "data": {
      "image/png": "[encoded data removed]",
      "text/plain": [
       "<Figure size 1200x300 with 1 Axes>"
      ]
     },
     "metadata": {},
     "output_type": "display_data"
    }
   ],
   "source": [
    "# Generate random data xdata and ydata\n",
    "randseed = np.random.RandomState(1)\n",
    "f = lambda t: 8 + 4 * t + randseed.rand(500)*5\n",
    "xdata= 10 * randseed.rand(500)\n",
    "ydata = f(xdata)\n",
    "xtrain = xdata[:400][:,np.newaxis]\n",
    "ytrain = ydata[:400]\n",
    "xtest = xdata[400:][:,np.newaxis]\n",
    "ytest = ydata[400:]\n",
    "\n",
    "# Generate a scatterplot with xtrain, ytrain\n",
    "fig = plt.figure(figsize =(12,3))\n",
    "fig.add_subplot(1,2,1)\n",
    "plt.scatter(xtrain,ytrain,marker = '.',color = 'k')\n",
    "plt.grid(True)\n",
    "plt.title('Scatterplot of sample data')\n"
   ]
  },
  {
   "attachments": {},
   "cell_type": "markdown",
   "metadata": {},
   "source": [
    "### 1.2.训练模型\n",
    "用普通最小二乘法，使用sklearn库的线性回归方法LinearRegression"
   ]
  },
  {
   "cell_type": "code",
   "execution_count": 3,
   "metadata": {},
   "outputs": [
    {
     "data": {
      "text/html": [
       "<style>#sk-container-id-1 {color: black;background-color: white;}#sk-container-id-1 pre{padding: 0;}#sk-container-id-1 div.sk-toggleable {background-color: white;}#sk-container-id-1 label.sk-toggleable__label {cursor: pointer;display: block;width: 100%;margin-bottom: 0;padding: 0.3em;box-sizing: border-box;text-align: center;}#sk-container-id-1 label.sk-toggleable__label-arrow:before {content: \"▸\";float: left;margin-right: 0.25em;color: #696969;}#sk-container-id-1 label.sk-toggleable__label-arrow:hover:before {color: black;}#sk-container-id-1 div.sk-estimator:hover label.sk-toggleable__label-arrow:before {color: black;}#sk-container-id-1 div.sk-toggleable__content {max-height: 0;max-width: 0;overflow: hidden;text-align: left;background-color: #f0f8ff;}#sk-container-id-1 div.sk-toggleable__content pre {margin: 0.2em;color: black;border-radius: 0.25em;background-color: #f0f8ff;}#sk-container-id-1 input.sk-toggleable__control:checked~div.sk-toggleable__content {max-height: 200px;max-width: 100%;overflow: auto;}#sk-container-id-1 input.sk-toggleable__control:checked~label.sk-toggleable__label-arrow:before {content: \"▾\";}#sk-container-id-1 div.sk-estimator input.sk-toggleable__control:checked~label.sk-toggleable__label {background-color: #d4ebff;}#sk-container-id-1 div.sk-label input.sk-toggleable__control:checked~label.sk-toggleable__label {background-color: #d4ebff;}#sk-container-id-1 input.sk-hidden--visually {border: 0;clip: rect(1px 1px 1px 1px);clip: rect(1px, 1px, 1px, 1px);height: 1px;margin: -1px;overflow: hidden;padding: 0;position: absolute;width: 1px;}#sk-container-id-1 div.sk-estimator {font-family: monospace;background-color: #f0f8ff;border: 1px dotted black;border-radius: 0.25em;box-sizing: border-box;margin-bottom: 0.5em;}#sk-container-id-1 div.sk-estimator:hover {background-color: #d4ebff;}#sk-container-id-1 div.sk-parallel-item::after {content: \"\";width: 100%;border-bottom: 1px solid gray;flex-grow: 1;}#sk-container-id-1 div.sk-label:hover label.sk-toggleable__label {background-color: #d4ebff;}#sk-container-id-1 div.sk-serial::before {content: \"\";position: absolute;border-left: 1px solid gray;box-sizing: border-box;top: 0;bottom: 0;left: 50%;z-index: 0;}#sk-container-id-1 div.sk-serial {display: flex;flex-direction: column;align-items: center;background-color: white;padding-right: 0.2em;padding-left: 0.2em;position: relative;}#sk-container-id-1 div.sk-item {position: relative;z-index: 1;}#sk-container-id-1 div.sk-parallel {display: flex;align-items: stretch;justify-content: center;background-color: white;position: relative;}#sk-container-id-1 div.sk-item::before, #sk-container-id-1 div.sk-parallel-item::before {content: \"\";position: absolute;border-left: 1px solid gray;box-sizing: border-box;top: 0;bottom: 0;left: 50%;z-index: -1;}#sk-container-id-1 div.sk-parallel-item {display: flex;flex-direction: column;z-index: 1;position: relative;background-color: white;}#sk-container-id-1 div.sk-parallel-item:first-child::after {align-self: flex-end;width: 50%;}#sk-container-id-1 div.sk-parallel-item:last-child::after {align-self: flex-start;width: 50%;}#sk-container-id-1 div.sk-parallel-item:only-child::after {width: 0;}#sk-container-id-1 div.sk-dashed-wrapped {border: 1px dashed gray;margin: 0 0.4em 0.5em 0.4em;box-sizing: border-box;padding-bottom: 0.4em;background-color: white;}#sk-container-id-1 div.sk-label label {font-family: monospace;font-weight: bold;display: inline-block;line-height: 1.2em;}#sk-container-id-1 div.sk-label-container {text-align: center;}#sk-container-id-1 div.sk-container {/* jupyter's `normalize.less` sets `[hidden] { display: none; }` but bootstrap.min.css set `[hidden] { display: none !important; }` so we also need the `!important` here to be able to override the default hidden behavior on the sphinx rendered scikit-learn.org. See: https://github.com/scikit-learn/scikit-learn/issues/21755 */display: inline-block !important;position: relative;}#sk-container-id-1 div.sk-text-repr-fallback {display: none;}</style><div id=\"sk-container-id-1\" class=\"sk-top-container\"><div class=\"sk-text-repr-fallback\"><pre>LinearRegression()</pre><b>In a Jupyter environment, please rerun this cell to show the HTML representation or trust the notebook. <br />On GitHub, the HTML representation is unable to render, please try loading this page with nbviewer.org.</b></div><div class=\"sk-container\" hidden><div class=\"sk-item\"><div class=\"sk-estimator sk-toggleable\"><input class=\"sk-toggleable__control sk-hidden--visually\" id=\"sk-estimator-id-1\" type=\"checkbox\" checked><label for=\"sk-estimator-id-1\" class=\"sk-toggleable__label sk-toggleable__label-arrow\">LinearRegression</label><div class=\"sk-toggleable__content\"><pre>LinearRegression()</pre></div></div></div></div></div>"
      ],
      "text/plain": [
       "LinearRegression()"
      ]
     },
     "execution_count": 3,
     "metadata": {},
     "output_type": "execute_result"
    }
   ],
   "source": [
    "# Linear regression evaluator, fitting data to get a fitted straight line\n",
    "model = linear_model.LinearRegression()\n",
    "# Fitting the straight line: (x,y)\n",
    "# x[:,np.newaxis]: Turn the array into (n,1) shape\n",
    "model.fit(xtrain,ytrain)\n"
   ]
  },
  {
   "attachments": {},
   "cell_type": "markdown",
   "metadata": {},
   "source": [
    "### 1.3.对测试数据进行预测\n",
    "根据测试数据x，预测数据y"
   ]
  },
  {
   "cell_type": "code",
   "execution_count": 4,
   "metadata": {},
   "outputs": [],
   "source": [
    "# Create test data xtest, and predict ytest according to the fitting curve\n",
    "ytest_predict = model.predict(xtest)\n"
   ]
  },
  {
   "attachments": {},
   "cell_type": "markdown",
   "metadata": {},
   "source": [
    "### 1.4.绘制拟合直线和误差线"
   ]
  },
  {
   "cell_type": "code",
   "execution_count": 5,
   "metadata": {},
   "outputs": [
    {
     "data": {
      "text/plain": [
       "Text(0.5, 1.0, 'Linear regression fit')"
      ]
     },
     "execution_count": 5,
     "metadata": {},
     "output_type": "execute_result"
    },
    {
     "data": {
      "image/png": "[encoded data removed]",
      "text/plain": [
       "<Figure size 640x480 with 1 Axes>"
      ]
     },
     "metadata": {},
     "output_type": "display_data"
    }
   ],
   "source": [
    "# Draw scatter plots, linear regression fitted straight line\n",
    "fig.add_subplot(1,2,2)\n",
    "# Scatterplot of test data\n",
    "plt.scatter(xtest,ytest,marker = '.',color = 'k')\n",
    "# the fitted straight line\n",
    "plt.plot(xtest,ytest_predict,color = 'r')\n",
    "# Scatterplot of predicted data\n",
    "plt.scatter(xtest,ytest_predict,marker = '.',color = 'g')\n",
    "# error lines, .flatten():2D to 1D\n",
    "plt.plot([xtest.flatten(),xtest.flatten()],[ytest,ytest_predict],color = 'gray')\n",
    "plt.grid()\n",
    "plt.title('Linear regression fit')\n"
   ]
  },
  {
   "attachments": {},
   "cell_type": "markdown",
   "metadata": {},
   "source": [
    "### 1.5.打印直线参数和直线方程\n",
    "回归方程参数及表达式"
   ]
  },
  {
   "cell_type": "code",
   "execution_count": 6,
   "metadata": {},
   "outputs": [
    {
     "name": "stdout",
     "output_type": "stream",
     "text": [
      "slope: 3.9962\n",
      "intercept: 10.5072\n",
      "The linear regression function: y = 3.9962x + 10.5072\n"
     ]
    }
   ],
   "source": [
    "print('slope: %.4f' % model.coef_[0])\n",
    "print('intercept: %.4f' % model.intercept_)\n",
    "print('The linear regression function: y = %.4fx + %.4f' %(model.coef_[0],model.intercept_))\n"
   ]
  },
  {
   "attachments": {},
   "cell_type": "markdown",
   "metadata": {},
   "source": [
    "### 2.评估简单线性回归模型\n",
    "直接调用sklearn库的评价方法$R^2$，数值越接近1越好\n",
    "\n",
    "其余方法后面介绍"
   ]
  },
  {
   "cell_type": "code",
   "execution_count": 7,
   "metadata": {},
   "outputs": [
    {
     "name": "stdout",
     "output_type": "stream",
     "text": [
      "R-square: 0.98607\n"
     ]
    }
   ],
   "source": [
    "r2 = model.score(xtest,ytest)\n",
    "print(\"R-square: %.5f\" % r2)"
   ]
  },
  {
   "attachments": {},
   "cell_type": "markdown",
   "metadata": {},
   "source": [
    "## 多元线性回归\n",
    "\n",
    "现在有 $m$ 个样本，每个样本有 $n$ 个特征描述，记做 $x_{i,j}$，表示第 $i$ 个样本在第 $j$ 个特征上的取值\n",
    "\n",
    "将所有样本点带入，有：\n",
    "$$\n",
    "\\begin{array}{l}\n",
    "{{\\boldsymbol{\\hat y}_{1}=\\beta_{0}+\\beta_{1}{x}_{1,1}+\\beta_{2}{x}_{1,2}+\\dots+\\beta_{n}{x}_{1,{n}}}} \\\\\n",
    "{{\\boldsymbol{\\hat y}_{2}\\ =\\beta_{0}+\\beta_{1}{x}_{2,1}+\\beta_{2}{x}_{2,2}+\\dots+\\beta_{{n}}{x}_{2,{n}}}} \\\\ \\vdots \\\\ \n",
    "{{\\boldsymbol{\\hat y}_{m}\\ =\\beta_{0}+\\beta_{1}{x}_{m,1}+\\beta_{2}{x}_{m,2}+\\dots+\\beta_{{n}}{x}_{m,{n}}}}\n",
    "\\end{array}\n",
    "$$\n",
    "\n",
    "上述方程组可以用矩阵表示为：$$\\boldsymbol{\\hat y}=\\boldsymbol{x}\\boldsymbol{\\beta}$$\n",
    "\n",
    "其中，$\\boldsymbol{x}$ 为 $m \\times n$，$\\boldsymbol{\\beta}$ 为 $n \\times 1$\n",
    "\n",
    "于是目标损失函数可表示为：\n",
    "$$\n",
    "\\begin{aligned}\n",
    "E(\\beta)=&\\|\\boldsymbol{\\hat y}-\\boldsymbol{y}\\|^{2}=\\|\\boldsymbol{x}\\boldsymbol{\\beta}-\\boldsymbol{y}\\|^{2}=(\\boldsymbol{x}\\boldsymbol{\\beta}-\\boldsymbol{y})^{{{T}}}(\\boldsymbol{x}\\boldsymbol{\\beta}-\\boldsymbol{y}) = (\\boldsymbol{\\beta}^T\\boldsymbol{x}^T-\\boldsymbol{y}^T)(\\boldsymbol{x}\\boldsymbol{\\beta}-\\boldsymbol{y}) \\\\\n",
    "=&\\boldsymbol{y}^T\\boldsymbol{y}-\\boldsymbol{y}^T\\boldsymbol{x}\\boldsymbol{\\beta}-\\boldsymbol{\\beta}^T\\boldsymbol{x}^T\\boldsymbol{y}+\\boldsymbol{\\beta}^T\\boldsymbol{x}^T\\boldsymbol{x}\\boldsymbol{\\beta} \\\\\n",
    "=&\\boldsymbol{y}^T\\boldsymbol{y}-2\\boldsymbol{\\beta}^T\\boldsymbol{x}^T\\boldsymbol{y}+\\boldsymbol{\\beta}^T\\boldsymbol{x}^T\\boldsymbol{x}\\boldsymbol{\\beta} \\\\\n",
    "\\end{aligned}\n",
    "$$\n",
    "求 $\\beta$ 偏导数：\n",
    "$$\\frac{\\partial E{(\\beta)}}{\\partial \\beta}=-2\\boldsymbol{x}^T\\boldsymbol{y}+2\\boldsymbol{x}^T\\boldsymbol{x}\\boldsymbol{\\beta}$$\n",
    "令 $\\beta$ 偏导数为0，可以解得 $\\hat \\beta$：\n",
    "$${\\boldsymbol{\\hat \\beta}}=\\left(\\boldsymbol{x}^{T}\\boldsymbol{x}\\right)^{-1}\\boldsymbol{x}^{T}\\boldsymbol{y}$$\n"
   ]
  },
  {
   "attachments": {},
   "cell_type": "markdown",
   "metadata": {},
   "source": [
    "### 生成可用的数据\n",
    "多元，设自变量'b1','b2','b3','b4'，因变量'y'.\n",
    "\n",
    "scatter_matrix方法：绘制出每个数值相对于其他数值的相关值。\n",
    "\n",
    "因为如果将每个变量都与自身相对，那么主对角线将全都是直线，毫无意义。所以取而代之的方法是显示了每个数值的直方图。\n"
   ]
  },
  {
   "cell_type": "code",
   "execution_count": 21,
   "metadata": {},
   "outputs": [
    {
     "name": "stdout",
     "output_type": "stream",
     "text": [
      "[[2.21993171e+00 8.70732306e+00 2.06719155e+00 9.18610908e+00]\n",
      " [4.88411189e+00 6.11743863e+00 7.65907856e+00 5.18417988e+00]\n",
      " [2.96800502e+00 1.87721229e+00 8.07412688e-01 7.38440296e+00]\n",
      " [4.41309223e+00 1.58309868e+00 8.79937031e+00 2.74086462e+00]\n",
      " [4.14235019e+00 2.96079933e+00 6.28787909e+00 5.79837810e+00]\n",
      " [5.99929197e+00 2.65819118e+00 2.84685881e+00 2.53588206e+00]\n",
      " [3.27563948e+00 1.44164301e+00 1.65612861e+00 9.63930529e+00]\n",
      " [9.60226715e+00 1.88414656e+00 2.43065616e-01 2.04555546e+00]\n",
      " [6.99843614e+00 7.79514586e+00 2.29330924e-01 5.77662858e+00]\n",
      " [1.64217272e-02 5.15472612e+00 6.39795176e+00 9.85624403e+00]\n",
      " [2.59097596e+00 8.02496885e+00 8.70483087e+00 9.22749614e+00]\n",
      " [2.21421253e-02 4.69488372e+00 9.81468738e+00 3.98944804e+00]\n",
      " [8.13732478e+00 5.46456498e+00 7.70854087e+00 4.84931075e+00]\n",
      " [2.91115637e-01 8.65256884e-01 1.11453812e+00 2.51245112e+00]\n",
      " [9.64915293e+00 6.31766053e+00 8.16660203e+00 5.66081996e+00]\n",
      " [6.35356206e+00 8.11902391e+00 9.26682615e+00 9.12626764e+00]\n",
      " [8.24810720e+00 9.42027322e-01 3.61048418e+00 3.55090318e-01]\n",
      " [5.46358349e+00 7.96142721e+00 5.11428031e-01 1.88667736e+00]\n",
      " [3.65477768e+00 2.44290867e+00 7.95087473e+00 3.52094936e+00]\n",
      " [6.38877682e+00 4.93415052e+00 5.83499744e+00 9.39299352e+00]\n",
      " [9.43540082e+00 1.11692427e+00 8.43554966e+00 3.46028152e+00]\n",
      " [1.00827273e+00 3.83409066e+00 5.10354797e+00 9.61103082e+00]\n",
      " [3.71512615e+00 1.23694116e-01 8.59706887e+00 1.11110750e+00]\n",
      " [4.78339044e+00 8.49980032e+00 5.14737967e+00 4.46607828e+00]\n",
      " [8.00476421e+00 2.03913784e-01 5.72618649e+00 4.11383616e+00]\n",
      " [9.85136798e+00 8.01401530e+00 5.39621021e-01 1.90477773e+00]\n",
      " [4.52418846e+00 7.02942077e+00 3.32048150e+00 3.59983195e+00]\n",
      " [9.21470566e+00 9.53630506e+00 4.07685729e+00 8.98571155e+00]\n",
      " [3.30253252e+00 8.27385691e-01 5.26717565e+00 6.60844391e+00]\n",
      " [8.92984294e+00 9.65157547e+00 7.69932677e+00 7.59099118e+00]\n",
      " [7.10049047e+00 7.01552833e+00 7.67331381e+00 9.74349479e+00]\n",
      " [3.73714517e+00 8.30544430e-01 2.39640440e+00 2.21482760e+00]\n",
      " [3.63599797e+00 8.10314232e+00 6.00961699e-01 4.49743558e+00]\n",
      " [8.13170527e+00 2.64238375e+00 6.34009820e-01 2.42107672e+00]\n",
      " [8.50704618e-01 8.07777435e+00 1.70250076e+00 1.95344626e+00]\n",
      " [8.14642012e+00 8.10285529e+00 5.89373878e+00 9.14734340e+00]\n",
      " [5.98216368e-01 9.64996640e+00 5.70975217e+00 3.02518113e+00]\n",
      " [8.25705826e+00 6.59417280e+00 9.86501441e+00 1.07489534e+00]\n",
      " [5.80918528e+00 4.72828155e+00 6.52270786e+00 2.41859054e+00]\n",
      " [3.11300634e-01 5.44232353e+00 3.64710179e+00 8.92333275e+00]\n",
      " [4.59345595e+00 4.18654100e+00 6.32905541e+00 5.27178833e+00]\n",
      " [9.61211140e+00 7.89010115e+00 4.96695509e+00 2.11141001e+00]\n",
      " [6.03984141e+00 7.48575811e+00 7.55863831e+00 9.93504008e+00]\n",
      " [2.18497781e+00 4.25637334e+00 4.23849603e+00 3.18646438e+00]\n",
      " [3.65333019e+00 4.77941310e+00 5.42090409e+00 2.65230247e+00]\n",
      " [1.34363728e+00 3.01886098e+00 1.36480094e+00 3.17700203e+00]\n",
      " [6.79182681e+00 6.01341156e+00 9.97225467e+00 5.60914590e+00]\n",
      " [5.48726197e+00 6.42349540e+00 7.26789371e+00 6.15813540e+00]\n",
      " [5.88500065e+00 6.05004313e+00 3.54785461e+00 7.77381995e+00]\n",
      " [6.04603314e+00 3.09230771e+00 2.45630999e+00 7.12659841e-01]\n",
      " [3.47729168e+00 1.28480740e-01 1.65641827e+00 6.03664324e-01]\n",
      " [2.78155934e+00 3.48331994e+00 5.91222311e+00 7.75013130e+00]\n",
      " [6.24754467e+00 1.59680933e+00 8.93762653e+00 7.30591266e+00]\n",
      " [4.97768019e+00 6.43640219e+00 5.09475094e+00 1.68208158e+00]\n",
      " [6.41464773e+00 9.88167763e+00 7.70329363e+00 1.81481209e+00]\n",
      " [1.19769021e+00 9.30341843e+00 9.10097433e+00 7.49184660e+00]\n",
      " [7.60531540e+00 1.42875798e+00 8.11944192e+00 1.92279296e+00]\n",
      " [1.54745110e+00 4.07078957e+00 3.82894367e-03 8.45517816e+00]\n",
      " [1.61132453e+00 7.39250735e+00 5.82910816e+00 7.70260003e+00]\n",
      " [5.99993167e+00 9.61467486e+00 3.79778389e+00 4.97010350e+00]\n",
      " [3.38338649e+00 7.42750742e+00 3.00495870e+00 7.98786275e+00]\n",
      " [8.59497793e-01 2.35663638e+00 4.38168893e+00 1.26045853e+00]\n",
      " [2.03031981e+00 8.41542742e+00 3.72432455e+00 2.18681729e+00]\n",
      " [8.46132822e+00 5.75374665e+00 6.33716477e+00 8.88928544e+00]\n",
      " [7.13959059e+00 2.65112668e+00 9.70830833e-02 5.49463460e+00]\n",
      " [7.07526225e+00 8.05694610e+00 1.90656334e+00 6.34214276e+00]\n",
      " [9.38552934e+00 2.58186384e+00 2.92480460e+00 4.25644012e+00]\n",
      " [5.71178602e+00 9.90055553e+00 5.88199613e+00 8.87899397e+00]\n",
      " [6.56211279e+00 4.72778874e+00 3.05548530e+00 3.50179578e+00]\n",
      " [7.77134292e+00 1.77509047e+00 1.37935358e+00 2.13044964e+00]\n",
      " [6.68913440e+00 3.71404947e+00 2.06502679e+00 3.30704403e+00]\n",
      " [8.16295624e-01 4.36535553e+00 8.11215983e+00 4.45792461e+00]\n",
      " [4.47310154e+00 2.75284635e-01 2.78977672e+00 7.51704999e-01]\n",
      " [4.77383771e-01 8.63585580e+00 7.14317590e+00 8.30437700e+00]\n",
      " [1.32905796e+00 3.65286460e+00 9.13217542e+00 4.33387891e+00]\n",
      " [9.25651813e+00 9.61368076e+00 6.60810799e-02 4.32930586e+00]\n",
      " [5.83112629e+00 3.48827572e+00 3.76032018e+00 3.55821576e+00]\n",
      " [2.31032875e+00 2.60372444e-01 7.31184000e+00 9.98515767e+00]\n",
      " [3.83419302e-01 8.59098217e+00 5.44304931e+00 1.95199588e-01]\n",
      " [6.88164086e-01 5.25449481e+00 1.04560206e+00 2.95997428e+00]\n",
      " [2.74834404e+00 9.70605708e+00 4.69666485e+00 2.85181064e+00]\n",
      " [9.38242093e+00 9.66726669e+00 7.19399883e+00 1.36879032e+00]\n",
      " [8.89898985e+00 4.41260294e+00 7.86127378e+00 7.21488728e+00]\n",
      " [6.53164078e+00 7.66973133e+00 8.11830255e+00 4.61661541e+00]\n",
      " [4.84620608e+00 9.73862447e-01 3.70862766e+00 8.86134293e+00]\n",
      " [2.20272026e+00 7.48915119e+00 8.06629665e+00 1.96567830e+00]\n",
      " [7.64602650e+00 6.57346263e+00 9.75459211e+00 3.88293150e+00]\n",
      " [7.56749996e+00 8.43953622e+00 3.79072643e+00 2.23688077e+00]\n",
      " [3.68242402e+00 6.52829880e+00 2.57387351e+00 8.58498933e+00]\n",
      " [2.95191480e+00 7.64034666e+00 3.21043736e+00 5.04322414e+00]\n",
      " [8.74183720e+00 4.85396673e+00 6.24188512e+00 3.42808036e+00]\n",
      " [4.68573503e+00 6.14140215e-01 5.19766488e+00 4.49154145e+00]\n",
      " [2.98982861e+00 1.72877107e+00 3.40663721e+00 2.94850522e+00]\n",
      " [3.62537696e+00 8.08754061e+00 8.95599560e+00 9.15033322e+00]\n",
      " [4.21555621e+00 8.98447512e+00 5.87077593e+00 9.96611100e+00]\n",
      " [1.24262840e+00 7.56831559e+00 5.88268570e+00 5.14566020e+00]\n",
      " [7.58215595e+00 8.33281724e+00 8.31087828e+00 3.44118939e+00]\n",
      " [3.80677057e+00 5.95285128e+00 4.28719452e-01 8.14705277e+00]\n",
      " [5.86023101e+00 4.43504721e+00 6.38134875e+00 9.55351578e+00]\n",
      " [8.04211150e+00 6.56149692e+00 2.07542341e+00 9.71736018e+00]]\n"
     ]
    }
   ],
   "source": [
    "# Generate four sets of data\n",
    "randseed = np.random.RandomState(5)  \n",
    "xdata = 10 * randseed.rand(100,4) \n",
    "print(xdata)\n",
    "ydata = 20 + np.dot(xdata ,[1.5,2,-4,3])\n",
    "df_train = pd.DataFrame(xdata[:80], columns = ['b1','b2','b3','b4']) # Convert to tabular form\n",
    "\n",
    "df_train['y'] = ydata[:80]\n",
    "df_test = pd.DataFrame(xdata[80:], columns = ['b1','b2','b3','b4']) # Convert to tabular form\n",
    "df_test['y'] = ydata[80:]\n",
    "\n",
    "# pd.plotting.scatter_matrix(df_train, marker='o', hist_kwds={'bins':20})\n",
    "\n",
    "# fig.add_subplot(1,2,2)\n",
    "# plt.scatter(df_train[['b1']],df_train[['b2']],marker = 'o',color = 'k')\n",
    "# plt.hist(df_train[['b1']],color = 'g',bins=20)\n",
    "# plt.show()"
   ]
  },
  {
   "attachments": {},
   "cell_type": "markdown",
   "metadata": {},
   "source": [
    "### 多元回归拟合"
   ]
  },
  {
   "cell_type": "code",
   "execution_count": 9,
   "metadata": {},
   "outputs": [
    {
     "name": "stdout",
     "output_type": "stream",
     "text": [
      "slope:  [ 1.5  2.  -4.   3. ]\n",
      "intercept: 20.0000\n",
      "linear regression function: y = 1.5x1 + 2.0x2 + -4.0x3 + 3.0x4 + 20.0\n"
     ]
    }
   ],
   "source": [
    "model = linear_model.LinearRegression()\n",
    "model.fit(df_train[['b1','b2','b3','b4']],df_train['y'])\n",
    "\n",
    "print('slope: ' ,model.coef_)\n",
    "print('intercept: %.4f' % model.intercept_)\n",
    "print('linear regression function: y = %.1fx1 + %.1fx2 + %.1fx3 + %.1fx4 + %.1f' \n",
    "      % (model.coef_[0],model.coef_[1],model.coef_[2],model.coef_[3],model.intercept_))\n"
   ]
  },
  {
   "attachments": {},
   "cell_type": "markdown",
   "metadata": {},
   "source": [
    "## 模型评估方法"
   ]
  },
  {
   "attachments": {},
   "cell_type": "markdown",
   "metadata": {},
   "source": [
    "### 平均绝对误差(MAE）\n",
    "MAE用来衡量预测值与真实值之间的平均绝对误差，MAE越小表示模型越好，其定义如下：\n",
    "\n",
    "${MAE}=\\frac{1}{n}\\sum_{i=1}^{n}|y_{i}-{y}^{\\prime}_{i}|,\\ \\in\\left[0,+\\infty\\right)\\ \\left(1\\right)$"
   ]
  },
  {
   "cell_type": "code",
   "execution_count": 10,
   "metadata": {},
   "outputs": [],
   "source": [
    "def MAE(y, y_pre):\n",
    "    return np.mean(np.abs(y - y_pre))"
   ]
  },
  {
   "attachments": {},
   "cell_type": "markdown",
   "metadata": {},
   "source": [
    "### 均方误差（MSE）\n",
    "MSE也是回归中最普通的评价指标，MSE越小表示模型越好，其定义如下：\n",
    "\n",
    "$MSE=\\frac{1}{n}\\sum_{i=1}^{n}(y_{i}-{y}^{\\prime}_{i})^{2},~\\in[0,+\\infty)~~(2)$"
   ]
  },
  {
   "cell_type": "code",
   "execution_count": 11,
   "metadata": {},
   "outputs": [],
   "source": [
    "def MSE(y, y_pre):\n",
    "    return np.mean((y - y_pre) ** 2)"
   ]
  },
  {
   "attachments": {},
   "cell_type": "markdown",
   "metadata": {},
   "source": [
    "### 均方根误差（RMSE）\n",
    "RMSE是在MSE的基础之上开根号而来，也是量化回归模型整体误差的标准方法\n",
    "\n",
    "RMSE越小表示模型越好，其定义如下：\n",
    "\n",
    "$R M S E=\\sqrt{\\frac{1}{n}\\sum_{i=1}^{n}(y_{i}-{y}^{\\prime}_{i})^{2}},\\ \\in\\,[0,+\\infty)\\ \\ \\ (3)$"
   ]
  },
  {
   "cell_type": "code",
   "execution_count": 12,
   "metadata": {},
   "outputs": [],
   "source": [
    "def RMSE(y, y_pre):\n",
    "    return np.sqrt(MSE(y, y_pre))"
   ]
  },
  {
   "attachments": {},
   "cell_type": "markdown",
   "metadata": {},
   "source": [
    "### 平均绝对百分比误差（MAPE）\n",
    "MAPE和MAE类似，只是在MAE的基础上做了标准化处理，MAPE越小表示模型越好，其定义如下：\n",
    "\n",
    "$M A P E=\\frac{100\\%}{n}\\sum_{i=1}^{n}\\left|\\frac{y_{i}-{y}^{\\prime}_{i}}{y_{i}}\\right|,\\;\\;\\in\\left[0,+\\infty\\right)\\;\\;(4)$"
   ]
  },
  {
   "cell_type": "code",
   "execution_count": 13,
   "metadata": {},
   "outputs": [],
   "source": [
    "def MAPE(y, y_pre):\n",
    "    return np.mean(np.abs((y - y_pre) / y))"
   ]
  },
  {
   "attachments": {},
   "cell_type": "markdown",
   "metadata": {},
   "source": [
    "### $R^2$评价指标\n",
    "sklearn在实现线性回归时默认采用了该指标，越接近1表示模型越好，其定义如下：\n",
    "\n",
    "$R^{2}\\,=\\,1\\,-\\,\\frac{\\sum_{i=1}^{n}(y_{i}-{y}^{\\prime}_{i})^{2}}{\\sum_{i=1}^{n}(y_{i}-\\overline{{y}})^{2}}\\,\\in\\,[0,1]\\;\\;\\;\\;(5)$\n",
    "\n",
    "其中 $\\overline{{y}}$ 表示真实值的平均值。$R^2$的好处在于其结果进行了归一化，更容易看出模型间的差距。"
   ]
  },
  {
   "cell_type": "code",
   "execution_count": 14,
   "metadata": {},
   "outputs": [],
   "source": [
    "def R2(y, y_pre):\n",
    "    u = np.sum((y - y_pre) ** 2)\n",
    "    v = np.sum((y - np.mean(y)) ** 2)\n",
    "    return 1 - (u / v)"
   ]
  },
  {
   "attachments": {},
   "cell_type": "markdown",
   "metadata": {},
   "source": [
    "## 评估之前多元线性回归的模型"
   ]
  },
  {
   "cell_type": "code",
   "execution_count": 15,
   "metadata": {},
   "outputs": [
    {
     "name": "stdout",
     "output_type": "stream",
     "text": [
      "MAE: 1.8207657603852567e-14\n",
      "MSE: 4.44444234001518e-28\n",
      "RMSE: 2.1081846076696366e-14\n",
      "MAPE: 7.023363263040078e-16\n",
      "R2: 1.0 1.0\n"
     ]
    }
   ],
   "source": [
    "ytest_predict = model.predict(df_test[['b1','b2','b3','b4']]) # ytest, predicted data\n",
    "ytest = df_test['y'] # ytest, Raw data\n",
    "\n",
    "print(\"MAE:\", MAE(ytest, ytest_predict))\n",
    "print(\"MSE:\", MSE(ytest, ytest_predict))\n",
    "print(\"RMSE:\", RMSE(ytest, ytest_predict))\n",
    "print(\"MAPE:\", MAPE(ytest, ytest_predict))\n",
    "print(\"R2:\", R2(ytest, ytest_predict), model.score(df_test[['b1','b2','b3','b4']],ytest))"
   ]
  },
  {
   "attachments": {},
   "cell_type": "markdown",
   "metadata": {},
   "source": [
    "## 非线性回归\n",
    "以基于多项式的回归模型为主，即用曲线方程代替直线方程拟合坐标图上各点，使得各点到曲线的距离总和最短。\n",
    "\n",
    "假设有 $m$ 个样本，每个样本有 $n$ 个特征描述。将所有样本点带入，有：\n",
    "$$\n",
    "\\begin{array}{l}\n",
    "{{\\boldsymbol{\\hat y}_{1}=\\beta_{0}+\\beta_{1}{x}_{1}+\\beta_{2}{x}_{1}^2+\\dots+\\beta_{n}{x}_{1}^n}} \\\\\n",
    "{{\\boldsymbol{\\hat y}_{2}\\ =\\beta_{0}+\\beta_{1}{x}_{2}+\\beta_{2}{x}_{2}^2+\\dots+\\beta_{n}{x}_{2}^n}} \\\\ \\vdots \\\\ \n",
    "{{\\boldsymbol{\\hat y}_{m}\\ =\\beta_{0}+\\beta_{1}{x}_{m}+\\beta_{2}{x}_{m}^2+\\dots+\\beta_{n}{x}_{m}^n}}\n",
    "\\end{array}\n",
    "$$\n",
    "化成矩阵形式：${y}={X}\\beta+\\epsilon$\n",
    "\n",
    "$\\text { 其中: } {y}=\\left[\\begin{array}{c}\\mathrm{y}_1 \\\\\\mathrm{y}_2 \\\\\\vdots \\\\\\mathrm{y}_{\\mathrm{m}}\\end{array}\\right], {X}=\\left[\\begin{array}{ccccc}1 & \\mathrm{x}_1 & \\mathrm{x}_1^2 & \\cdots & \\mathrm{x}_1^{\\mathrm{n}} \\\\1 & \\mathrm{x}_2 & \\mathrm{x}_2^2 & \\cdots & \\mathrm{x}_2^{\\mathrm{n}} \\\\\\vdots & \\vdots & \\vdots & \\ddots & \\vdots \\\\1 & \\mathrm{x}_{\\mathrm{m}} & \\mathrm{x}_{\\mathrm{m}}^2 & \\cdots & \\mathrm{x}_{\\mathrm{m}}^{\\mathrm{n}}\\end{array}\\right], \\beta=\\left[\\begin{array}{c}\\beta_0 \\\\\\beta_1 \\\\\\beta_2 \\\\\\vdots \\\\\\beta_{\\mathrm{n}}\\end{array}\\right], \\epsilon=\\left[\\begin{array}{c}\\epsilon_0 \\\\\\epsilon_1 \\\\\\epsilon_2 \\\\\\vdots \\\\\\epsilon_{\\mathrm{m}}\\end{array}\\right]$\n",
    "\n",
    "令${{x}_{1}}={{x}},\\;{{x}_{2}}={{x}}^{2},\\;{{x}}_{3}={{x}}^{3},\\;{{x}}_{4}={{x}}^{4}\\ldots$，则原方程改写为：${y}_i=\\beta_{0}+\\beta_{1}{x}_{i,1}+\\beta_{2}{x}_{i,2}+\\beta_{3}{x}_{i,3}+\\beta_{4}{x}_{i,4}+\\beta_{5}{x}_{i,5}+\\ldots+\\epsilon$\n",
    "\n",
    "于是多项式回归就转化成多元线性回归了，也就是说，线性回归并不知道 $x^2$ 是 $x$ 的二次变换，而是把它当做两一个变量 $x_2$ 来处理。只是为模型添加了特征，而没有改变线性回归拟合模型的方式。\n"
   ]
  },
  {
   "attachments": {},
   "cell_type": "markdown",
   "metadata": {},
   "source": [
    "### 思路\n",
    "对数据标准化(略) -> 添加多项式特征(PolynomialFeatures) -> 线性回归(LinearRegression)"
   ]
  },
  {
   "cell_type": "code",
   "execution_count": 16,
   "metadata": {},
   "outputs": [],
   "source": [
    "# Generate random data xtrain and ytrain\n",
    "randseed = np.random.RandomState(1)  \n",
    "f = lambda t: 20 + 4*t + 2*t*t + 5*t*t*t + randseed.rand(500)*5\n",
    "xdata= 10 * randseed.rand(500)\n",
    "ydata = f(xdata)\n",
    "xtrain = xdata[:400][:,np.newaxis]\n",
    "ytrain = ydata[:400]\n",
    "xtest = xdata[400:][:,np.newaxis]\n",
    "ytest = ydata[400:]\n"
   ]
  },
  {
   "attachments": {},
   "cell_type": "markdown",
   "metadata": {},
   "source": [
    "### 构造多项式特征\n",
    ".fit_transform(xdata)方法，对xdata数据计算如下(对应degree为1，2，3)：\n",
    "\\begin{array}{rl}\n",
    "x_1, x_2 \\rightarrow & 1, x_1, x_2 \\\\\n",
    "& x_1^2, x_2^2, x_1 x_2 \\\\\n",
    "& x_1^3, x_2^3, x_1^2 x_2, x_1 x_2^2\n",
    "\\end{array}"
   ]
  },
  {
   "cell_type": "code",
   "execution_count": 17,
   "metadata": {},
   "outputs": [],
   "source": [
    "# degree=2 means quadratic polynomial\n",
    "poly_reg = preprocessing.PolynomialFeatures(degree=3)\n",
    "# Construct xtrain quadratic polynomial feature xtrain_poly\n",
    "xtrain_features_poly=poly_reg.fit_transform(xtrain)\n",
    "xtest_features_poly = poly_reg.fit_transform(xtest)"
   ]
  },
  {
   "attachments": {},
   "cell_type": "markdown",
   "metadata": {},
   "source": [
    "### 使用线性回归的方法解决"
   ]
  },
  {
   "cell_type": "code",
   "execution_count": 18,
   "metadata": {},
   "outputs": [],
   "source": [
    "# Create a linear regression model\n",
    "model = linear_model.LinearRegression()\n",
    "model.fit(xtrain_features_poly,ytrain) # model fitting\n",
    "# predict\n",
    "ytest_predict = model.predict(xtest_features_poly)\n"
   ]
  },
  {
   "cell_type": "code",
   "execution_count": 19,
   "metadata": {},
   "outputs": [
    {
     "name": "stdout",
     "output_type": "stream",
     "text": [
      "Coefficients: [0.         4.22466271 1.93739057 5.00440331]\n",
      "intercept: 22.355655418665492\n"
     ]
    },
    {
     "data": {
      "image/png": "[encoded data removed]",
      "text/plain": [
       "<Figure size 640x480 with 1 Axes>"
      ]
     },
     "metadata": {},
     "output_type": "display_data"
    }
   ],
   "source": [
    "# View regression coefficients\n",
    "print('Coefficients:',model.coef_)\n",
    "# view intercept\n",
    "print('intercept:',model.intercept_)  \n",
    "\n",
    "# Draw scatter plots、\n",
    "plt.scatter(xtest, ytest, color='r')\n",
    "plt.scatter(xtest, ytest_predict, color='b')    \n",
    "plt.show()"
   ]
  },
  {
   "cell_type": "code",
   "execution_count": 20,
   "metadata": {},
   "outputs": [
    {
     "name": "stdout",
     "output_type": "stream",
     "text": [
      "0.9999991398485869\n",
      "MAE: 1.2459588766568617\n",
      "MSE: 2.1411898407565655\n",
      "RMSE: 1.4632805065183385\n",
      "MAPE: 0.0115492759475584\n",
      "R2: 0.9999991398485869 0.9999991398485869\n"
     ]
    }
   ],
   "source": [
    "print(model.score(xtest_features_poly,ytest))\n",
    "print(\"MAE:\", MAE(ytest, ytest_predict))\n",
    "print(\"MSE:\", MSE(ytest, ytest_predict))\n",
    "print(\"RMSE:\", RMSE(ytest, ytest_predict))\n",
    "print(\"MAPE:\", MAPE(ytest, ytest_predict))\n",
    "print(\"R2:\", R2(ytest, ytest_predict), model.score(xtest_features_poly, ytest))"
   ]
  }
 ],
 "metadata": {
  "kernelspec": {
   "display_name": "SILENT",
   "language": "python",
   "name": "python3"
  },
  "language_info": {
   "codemirror_mode": {
    "name": "ipython",
    "version": 3
   },
   "file_extension": ".py",
   "mimetype": "text/x-python",
   "name": "python",
   "nbconvert_exporter": "python",
   "pygments_lexer": "ipython3",
   "version": "3.9.15"
  },
  "orig_nbformat": 4,
  "vscode": {
   "interpreter": {
    "hash": "33a00747c7c616a6e1f951908c7a8e16aa8bdee44e4bbac794a20c5a719e4c26"
   }
  }
 },
 "nbformat": 4,
 "nbformat_minor": 2
}
