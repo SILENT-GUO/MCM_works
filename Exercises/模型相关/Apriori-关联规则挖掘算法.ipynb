{
 "cells": [
  {
   "attachments": {},
   "cell_type": "markdown",
   "metadata": {},
   "source": [
    "# Apriori-关联规则挖掘算法\n",
    "Apriori是一种用于挖掘数据集内部关联规则的算法，用先验知识来预测数据的关联规则。"
   ]
  }
 ],
 "metadata": {
  "kernelspec": {
   "display_name": "SILENT",
   "language": "python",
   "name": "python3"
  },
  "language_info": {
   "name": "python",
   "version": "3.10.6 | packaged by conda-forge | (main, Aug 22 2022, 20:41:22) [Clang 13.0.1 ]"
  },
  "orig_nbformat": 4,
  "vscode": {
   "interpreter": {
    "hash": "33a00747c7c616a6e1f951908c7a8e16aa8bdee44e4bbac794a20c5a719e4c26"
   }
  }
 },
 "nbformat": 4,
 "nbformat_minor": 2
}
