{
 "cells": [
  {
   "attachments": {},
   "cell_type": "markdown",
   "metadata": {},
   "source": [
    "活跃的物种密度模型：\n",
    "$$ \\frac{\\partial N_i}{\\partial t} = r_i N_i - \\sum_{j=1}^{m} \\alpha_{ij} N_i N_j $$\n",
    "\n",
    "在这个方程式中，$N_i$ 表示物种 $i$ 的密度，$r_i$ 表示其自然增长率，$\\alpha_{ij}$ 表示物种 $i$ 和 $j$ 之间的相互作用系数，表示物种 $j$ 对物种 $i$ 的影响。\n",
    "\n",
    "合作进化模型：\n",
    "$$ \\frac{dx}{dt} = x(r_1-r_2 x - k_1 y) $$\n",
    "\n",
    "$$ \\frac{dy}{dt} = y(r_3 - r_4 y - k_2 x) $$\n",
    "\n",
    "在这个模型中，$x$ 和 $y$ 分别表示两个物种的密度，$r_i$ 表示增长率，$k_i$ 表示两个物种之间的合作系数。这个模型描述了两个物种之间的相互作用，以及它们如何通过合作来获得优势。"
   ]
  },
  {
   "cell_type": "code",
   "execution_count": null,
   "metadata": {},
   "outputs": [],
   "source": []
  }
 ],
 "metadata": {
  "kernelspec": {
   "display_name": "SILENT",
   "language": "python",
   "name": "python3"
  },
  "language_info": {
   "name": "python",
   "version": "3.9.15"
  },
  "orig_nbformat": 4,
  "vscode": {
   "interpreter": {
    "hash": "33a00747c7c616a6e1f951908c7a8e16aa8bdee44e4bbac794a20c5a719e4c26"
   }
  }
 },
 "nbformat": 4,
 "nbformat_minor": 2
}
