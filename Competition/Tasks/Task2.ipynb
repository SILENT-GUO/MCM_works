{
 "cells": [
  {
   "cell_type": "code",
   "execution_count": 4,
   "metadata": {},
   "outputs": [],
   "source": [
    "import netCDF4 as nc\n",
    "import numpy as np\n",
    "import pandas as pd\n",
    "import random as rd\n",
    "import matplotlib.pyplot as plt\n",
    "from scipy.integrate import odeint\n",
    "from sklearn import linear_model"
   ]
  },
  {
   "cell_type": "code",
   "execution_count": 5,
   "metadata": {},
   "outputs": [],
   "source": [
    "def generate_cycle(A, period,phase, adding):\n",
    "    for index, p in enumerate(period):\n",
    "        if p < 0:\n",
    "            period[index] = -p\n",
    "    def sin_function(x, A, T):\n",
    "        return A * np.sin( 2 * np.pi / T * (x + phase)) + adding\n",
    "    total_step = 1000 # 100 T\n",
    "    total_distance = 0\n",
    "    cycle = []\n",
    "    for step in range(total_step):\n",
    "        half_period = period[step] / 2\n",
    "        if(step % 2 == 0):\n",
    "            sub_step_list = np.linspace(0, half_period, 100).tolist()\n",
    "            for sub_step in sub_step_list:\n",
    "                cycle.append(sin_function(sub_step, A[step], period[step]))\n",
    "            total_distance += half_period\n",
    "        else:\n",
    "            sub_step_list = np.linspace(half_period, period[step], 100).tolist()\n",
    "            for sub_step in sub_step_list:\n",
    "                cycle.append(sin_function(sub_step, A[step], period[step]))\n",
    "            total_distance += half_period\n",
    "    return cycle, total_distance\n",
    "\n",
    "soil_moisture = []\n",
    "for month in range(1, 10):\n",
    "    f = nc.Dataset(\"../Data/2017_sm/ESACCI-SOILMOISTURE-L3S-SSMV-COMBINED-20170\"+str(month)+\"01000000-fv04.5.nc\")\n",
    "    all_vars = f.variables.keys()   # get all keys\n",
    "    all_vars_info = f.variables.items()   # output: <class 'dict_items'>\n",
    "    sm = f['sm'][:].data\n",
    "    soil_moisture.append(sm[0][193][249])\n",
    "for month in range(10, 13):\n",
    "    f = nc.Dataset(\"../Data/2017_sm/ESACCI-SOILMOISTURE-L3S-SSMV-COMBINED-2017\"+str(month)+\"01000000-fv04.5.nc\")\n",
    "    all_vars = f.variables.keys()   # get all keys\n",
    "    all_vars_info = f.variables.items()   # output: <class 'dict_items'>\n",
    "    sm = f['sm'][:].data\n",
    "    soil_moisture.append(sm[0][193][249])\n",
    "for month in range(1, 10):\n",
    "    f = nc.Dataset(\"../Data/2018_sm/ESACCI-SOILMOISTURE-L3S-SSMV-COMBINED-20180\"+str(month)+\"01000000-fv04.5.nc\")\n",
    "    all_vars = f.variables.keys()   # get all keys\n",
    "    all_vars_info = f.variables.items()   # output: <class 'dict_items'>\n",
    "    sm = f['sm'][:].data\n",
    "    processed_data = 0\n",
    "    if(sm[0][193][249] == -9999.):\n",
    "        _ = 0\n",
    "        for j in range (-15, 15):\n",
    "            if(sm[0][193][249+j] != -9999.):\n",
    "                if(_ == 0):\n",
    "                    _ = sm[0][193][249+j]\n",
    "                else:\n",
    "                    _ = (sm[0][193][249+j] + _)/2\n",
    "        processed_data = _\n",
    "    if(sm[0][193][249] != -9999.):\n",
    "        soil_moisture.append(sm[0][193][249])\n",
    "    else:\n",
    "        soil_moisture.append(processed_data)\n",
    "for month in range(10, 13):\n",
    "    f = nc.Dataset(\"../Data/2018_sm/ESACCI-SOILMOISTURE-L3S-SSMV-COMBINED-2018\"+str(month)+\"01000000-fv04.5.nc\")\n",
    "    all_vars = f.variables.keys()   # get all keys\n",
    "    all_vars_info = f.variables.items()   # output: <class 'dict_items'>\n",
    "    sm = f['sm'][:].data\n",
    "    processed_data = 0\n",
    "    if(sm[0][193][249] == -9999.):\n",
    "        _ = 0\n",
    "        for j in range (-15, 15):\n",
    "            if(sm[0][193][249+j] != -9999.):\n",
    "                if(_ == 0):\n",
    "                    _ = sm[0][193][249+j]\n",
    "                else:\n",
    "                    _ = (sm[0][193][249+j] + _)/2\n",
    "        processed_data = _\n",
    "    if(sm[0][193][249] != -9999.):\n",
    "        soil_moisture.append(sm[0][193][249])\n",
    "    else:\n",
    "        soil_moisture.append(processed_data)\n",
    "for index, data in enumerate(soil_moisture):\n",
    "    if(data == 0):\n",
    "        data = (soil_moisture[index-1] + soil_moisture[index+1])/2\n",
    "        soil_moisture[index] = data\n",
    "air_pressure_california = pd.DataFrame(pd.read_csv(\"../Data/California_data/AirPressure.csv\"))\n",
    "air_pressure_list = air_pressure_california.values[0].tolist() + air_pressure_california.values[1].tolist()\n",
    "rainfall_california = pd.DataFrame(pd.read_csv(\"../Data/California_data/ObservedRainfall.csv\"))\n",
    "rainfall_list = rainfall_california.values[0].tolist() + rainfall_california.values[1].tolist()\n",
    "temperature_california = pd.DataFrame(pd.read_csv(\"../Data/California_data/Temperature.csv\"))\n",
    "temperature_list = temperature_california.values[0].tolist() + temperature_california.values[1].tolist()\n",
    "rainfall_list[11] = (rainfall_list[12] + rainfall_list[10])/2\n",
    "rainfall_list[13] = (rainfall_list[12] + rainfall_list[14])/1.5\n",
    "rainfall_list[-1] = (rainfall_list[-2])*1.5\n",
    "rainfall_list[0], rainfall_list[1] = rainfall_list[1], rainfall_list[0]\n",
    "rainfall_list[0], rainfall_list[2] = rainfall_list[2], rainfall_list[0]\n",
    "rainfall_list[3] = (rainfall_list[2] + rainfall_list[4])/2\n",
    "for i in range(4, 11):\n",
    "    rainfall_list[i] = (rainfall_list[i-1] + rainfall_list[i+1])/2 \n",
    "for i in range(16, 22):\n",
    "    rainfall_list[i] = (rainfall_list[i-1] + rainfall_list[i+1])/2 \n",
    "rainfall_list = [i/3 for i in rainfall_list]\n",
    "air_pressure_list, rainfall_list, temperature_list = np.array(air_pressure_list), np.array(rainfall_list), np.array(temperature_list)\n",
    "def sigmoid(x):\n",
    "    s = 1 / (1 + np.exp(-x))\n",
    "    return s\n",
    "model = linear_model.LinearRegression()\n",
    "df_train = pd.DataFrame({'rainfall': rainfall_list , 'temperature': np.log(temperature_list), 'soil_moisture': soil_moisture})\n",
    "model.fit(df_train[['rainfall']], df_train['soil_moisture'])\n",
    "A = np.random.normal(12, 15, 5000)\n",
    "period = np.random.normal(12, 15, 5000)\n",
    "period = [-p for p in period if p < 0] + [p for p in period if p > 0]\n",
    "adding = 70\n",
    "temp_cycle,temp_distance = generate_cycle(A, period, 0, adding)\n",
    "A = np.random.normal(5/3, 5, 5000)\n",
    "period = np.random.normal(12, 15, 5000)\n",
    "period = [-p for p in period if p < 0] + [p for p in period if p > 0]\n",
    "adding = 0\n",
    "rainfall_cycle,rainfall_distance = generate_cycle(A, period, np.pi/2 ,adding)\n",
    "x= np.arange(0, 5000, 0.05)\n",
    "temp_cycle, rainfall_cycle = np.array(temp_cycle), np.array(rainfall_cycle)\n",
    "df_predict = pd.DataFrame({'rainfall': rainfall_cycle})\n",
    "moisture_predicted_data = model.predict(df_predict)\n",
    "moisture_predicted_data = [round(i, 3) for i in moisture_predicted_data]\n",
    "plant_info = pd.read_csv(\"../Data/plant_info/PlantInfo.csv\")\n",
    "plant_data_frame = pd.DataFrame(plant_info)\n",
    "plants_moisture = plant_data_frame[\"Suitable Moisture(inch/year)\"].values.tolist()\n",
    "plants_min_rainfall = [float(moisture.split(\" \")[0]) for moisture in plants_moisture]\n",
    "plants_max_rainfall= [float(moisture.split(\" \")[1]) for moisture in plants_moisture]\n",
    "species_min_moisture = []\n",
    "species_max_moisture = []\n",
    "for specie_min_moisture in plants_min_rainfall:\n",
    "    specie_min_rainfall = [specie_min_moisture] * len(rainfall_cycle)\n",
    "    specie_min_rainfall = np.array(specie_min_rainfall)/12\n",
    "    specie_min_moisture = model.predict(pd.DataFrame({'rainfall': specie_min_rainfall}))\n",
    "    species_min_moisture.append(specie_min_moisture)\n",
    "for specie_max_moisture in plants_max_rainfall:\n",
    "    specie_max_rainfall = [specie_max_moisture] * len(rainfall_cycle)\n",
    "    specie_max_rainfall = np.array(specie_max_rainfall)/12\n",
    "    specie_max_moisture = model.predict(pd.DataFrame({'rainfall': specie_max_rainfall}))\n",
    "    species_max_moisture.append(specie_max_moisture)\n",
    "species_min_moisture = [i[0] for i in species_min_moisture]\n",
    "species_max_moisture = [i[0] for i in species_max_moisture]\n",
    "species_min_moisture = [round(i, 2) for i in species_min_moisture]\n",
    "species_max_moisture = [round(i, 2) for i in species_max_moisture]\n",
    "def normal_distribution(x, mu, sigma):\n",
    "    return 1 / (sigma * np.sqrt(2 * np.pi)) * np.exp(-1 / 2 * ((x - mu) / sigma) ** 2)\n",
    "\n",
    "cs_x_distribution = np.arange(0.03, 0.371, 0.001)\n",
    "cs_y_distribution = normal_distribution(cs_x_distribution, 0.2, 0.1)\n",
    "cs_y_distribution = [(i-min(cs_y_distribution)) / (max(cs_y_distribution) - min(cs_y_distribution))  for i in cs_y_distribution]\n",
    "cs_x_distribution = [(round(i, 3)) for i in cs_x_distribution]\n",
    "cp_x_distribution = np.arange(0.03, 0.371, 0.001)\n",
    "cp_y_distribution = normal_distribution(cp_x_distribution, 0.195, 0.1)\n",
    "cp_y_distribution = [(i-min(cp_y_distribution)) / (max(cp_y_distribution) - min(cp_y_distribution))  for i in cp_y_distribution]\n",
    "cp_x_distribution = [(round(i, 3)) for i in cp_x_distribution]\n",
    "R_x_distribution = np.arange(0.05, 0.801, 0.001)\n",
    "R_y_distribution = normal_distribution(R_x_distribution, 0.325, 0.2)\n",
    "R_y_distribution = [(i-min(R_y_distribution)) / (max(R_y_distribution) - min(R_y_distribution))  for i in R_y_distribution]\n",
    "R_x_distribution = [(round(i, 3)) for i in R_x_distribution]\n",
    "BG_x_distribution = np.arange(0.07, 0.311, 0.001)\n",
    "BG_y_distribution = normal_distribution(BG_x_distribution, 0.19, 0.07)\n",
    "BG_y_distribution = [(i-min(BG_y_distribution)) / (max(BG_y_distribution) - min(BG_y_distribution))  for i in BG_y_distribution]\n",
    "BG_x_distribution = [(round(i, 3)) for i in BG_x_distribution]\n",
    "PR_x_distribution = np.arange(0.1, 0.451, 0.001)\n",
    "PR_y_distribution = normal_distribution(PR_x_distribution, 0.275, 0.1)\n",
    "PR_y_distribution = [(i-min(PR_y_distribution)) / (max(PR_y_distribution) - min(PR_y_distribution))  for i in PR_y_distribution]\n",
    "PR_x_distribution = [(round(i, 3)) for i in PR_x_distribution]\n",
    "DW_x_distribution = np.arange(0.03, 0.371, 0.001)\n",
    "DW_y_distribution = normal_distribution(DW_x_distribution, 0.205, 0.1)\n",
    "DW_y_distribution = [(i-min(DW_y_distribution)) / (max(DW_y_distribution) - min(DW_y_distribution))  for i in DW_y_distribution]\n",
    "DW_x_distribution = [(round(i, 3)) for i in DW_x_distribution]\n",
    "RW_x_distribution = np.arange(0.02, 1.21, 0.001)\n",
    "RW_y_distribution = normal_distribution(RW_x_distribution, 0.415, 0.3)\n",
    "RW_y_distribution = [(i-min(RW_y_distribution)) / (max(RW_y_distribution) - min(RW_y_distribution))  for i in RW_y_distribution]\n",
    "RW_x_distribution = [(round(i, 3)) for i in RW_x_distribution]\n",
    "x_ranges = [[0.03, 0.37], [0.03, 0.37], [0.05, 0.8], [0.07, 0.31], [0.1, 0.45], [0.03, 0.37], [0.02, 1.2]]"
   ]
  },
  {
   "cell_type": "code",
   "execution_count": 4,
   "metadata": {},
   "outputs": [],
   "source": [
    "def softmax(x):\n",
    "    return np.exp(np.array(x)) / np.sum(np.exp(x), axis=0).tolist()\n",
    "\n",
    "def differential_function(variable_list, timespan, num_of_species, x_range_list, distribution_list ,growth_rate_list, moisture, N_list, competition_matrix_list, cooperation_matrix_list):\n",
    "    polynomials = []\n",
    "    real_growth_rate = []\n",
    "    percentage = []\n",
    "    for i in range(num_of_species):\n",
    "        if (moisture>= x_range_list[i][0]) and (moisture<= x_range_list[i][1]):\n",
    "            percentage.append(distribution_list[i][moisture])\n",
    "        else:\n",
    "            percentage.append(0)\n",
    "    real_growth_rate = [i * j for i, j in zip(growth_rate_list, percentage)]\n",
    "    compete_list = []\n",
    "    coop_list = []\n",
    "    for i in range(num_of_species):\n",
    "        compete_list.append(sum(1/N_list[j] * competition_matrix_list[i][j] * variable_list[j] for j in range(num_of_species) if j != i))\n",
    "        coop_list.append(sum(1/N_list[j] * cooperation_matrix_list[i][j] * variable_list[j] for j in range(num_of_species) if j != i))\n",
    "    # compete_list, coop_list = softmax(compete_list), softmax(coop_list)\n",
    "    for i in range(num_of_species):\n",
    "        poly = real_growth_rate[i] * variable_list[i] * (1 - variable_list[i]/N_list[i] - compete_list[i] + coop_list[i])\n",
    "        polynomials.append(poly)\n",
    "    return np.array(polynomials)\n",
    "\n",
    "time = np.arange(0, 2000, 0.05)\n",
    "timespan = np.arange(0, 0.05, 0.01)\n",
    "variable_list = [10, 10, 10, 10, 10, 10, 10]\n",
    "N_list = [100,100,100,200,200,50,50]\n",
    "num_of_species = 7\n",
    "x_range_list = x_ranges\n",
    "distribution_list=[]\n",
    "distribution_list.append(dict(zip(cs_x_distribution, cs_y_distribution)))\n",
    "distribution_list.append(dict(zip(cp_x_distribution, cp_y_distribution)))\n",
    "distribution_list.append(dict(zip(R_x_distribution, R_y_distribution)))\n",
    "distribution_list.append(dict(zip(BG_x_distribution, BG_y_distribution)))\n",
    "distribution_list.append(dict(zip(PR_x_distribution, PR_y_distribution)))\n",
    "distribution_list.append(dict(zip(DW_x_distribution, DW_y_distribution)))\n",
    "distribution_list.append(dict(zip(RW_x_distribution, RW_y_distribution)))\n",
    "growth_rate_list = plant_info['Growth Rate'].values.tolist()\n",
    "competition_matrix = pd.read_csv(\"../Data/judge_matrix/Competition.csv\")\n",
    "competition_matrix_list = []\n",
    "for value in competition_matrix.values:\n",
    "    competition_matrix_list.append(value.tolist()[1:])\n",
    "cooperation_matrix = pd.read_csv(\"../Data/judge_matrix/Cooperation.csv\")\n",
    "cooperation_matrix_list = []\n",
    "for value in cooperation_matrix.values:\n",
    "    cooperation_matrix_list.append(value.tolist()[1:])\n",
    "solution_list = []\n",
    "for timestep in range(len(time)):\n",
    "    moisture = moisture_predicted_data[timestep]\n",
    "    solution = odeint(differential_function, variable_list, timespan, args=(num_of_species, x_range_list, distribution_list, growth_rate_list, moisture, N_list, competition_matrix_list, cooperation_matrix_list))\n",
    "    solution = solution[-1]\n",
    "    variable_list = solution.tolist()\n",
    "    solution_list.append(solution)\n",
    "cs_trend, cp_trend, R_trend, BG_trend, PR_trend, DW_trend, RW_trend = [i[0] for i in solution_list], [i[1] for i in solution_list], [i[2] for i in solution_list], [i[3] for i in solution_list], [i[4] for i in solution_list], [i[5] for i in solution_list], [i[6] for i in solution_list]"
   ]
  },
  {
   "cell_type": "code",
   "execution_count": 5,
   "metadata": {},
   "outputs": [
    {
     "name": "stdout",
     "output_type": "stream",
     "text": [
      "[2, 3]\n"
     ]
    }
   ],
   "source": [
    "l = [1,2,3,4,5]\n",
    "print([l[1]] + [l[2]] )"
   ]
  },
  {
   "cell_type": "code",
   "execution_count": 6,
   "metadata": {},
   "outputs": [
    {
     "data": {
      "image/png": "[encoded data removed]",
      "text/plain": [
       "<Figure size 640x480 with 1 Axes>"
      ]
     },
     "metadata": {},
     "output_type": "display_data"
    }
   ],
   "source": [
    "plt.plot(time, cs_trend, color='red', label='CS')\n",
    "plt.plot(time, cp_trend, color='blue', label='CP')\n",
    "plt.plot(time, R_trend, color='green', label='R')\n",
    "plt.plot(time, BG_trend, color='yellow', label='BG')\n",
    "plt.plot(time, PR_trend, color='black', label='PR')\n",
    "plt.plot(time, DW_trend, color='purple', label='DW')\n",
    "plt.plot(time, RW_trend, color='orange', label='RW')\n",
    "plt.legend()\n",
    "plt.show()"
   ]
  },
  {
   "cell_type": "code",
   "execution_count": 9,
   "metadata": {},
   "outputs": [],
   "source": [
    "\n",
    "\n",
    "def differential_function(variable_list, timespan, num_of_species, x_range_list, distribution_list ,growth_rate_list, moisture, N_list, competition_matrix_list, cooperation_matrix_list):\n",
    "    polynomials = []\n",
    "    real_growth_rate = []\n",
    "    percentage = []\n",
    "    for i in range(num_of_species):\n",
    "        if (moisture>= x_range_list[i][0]) and (moisture<= x_range_list[i][1]):\n",
    "            percentage.append(distribution_list[i][moisture])\n",
    "        else:\n",
    "            percentage.append(0)\n",
    "    real_growth_rate = [i * j for i, j in zip(growth_rate_list, percentage)]\n",
    "    compete_list = []\n",
    "    coop_list = []\n",
    "    for i in range(num_of_species):\n",
    "        compete_list.append(sum(1/N_list[j] * competition_matrix_list[i][j] * variable_list[j] for j in range(num_of_species) if j != i))\n",
    "        coop_list.append(sum(1/N_list[j] * cooperation_matrix_list[i][j] * variable_list[j] for j in range(num_of_species) if j != i))\n",
    "    # compete_list, coop_list = softmax(compete_list), softmax(coop_list)\n",
    "    for i in range(num_of_species):\n",
    "        poly = real_growth_rate[i] * variable_list[i] * (1 - variable_list[i]/N_list[i] - compete_list[i] + coop_list[i])\n",
    "        polynomials.append(poly)\n",
    "    return np.array(polynomials)\n",
    "\n",
    "def montecarlosimulation(indices):\n",
    "    N_list = []\n",
    "    for i in indices:\n",
    "        if(i == 0 or i == 1 or i == 2):\n",
    "            N_list.append(100)\n",
    "        elif(i == 3 or i == 4):\n",
    "            N_list.append(200)\n",
    "        elif(i == 5 or i == 6):\n",
    "            N_list.append(50)\n",
    "\n",
    "    time = np.arange(0, 2000, 0.05)\n",
    "    timespan = np.arange(0, 0.05, 0.01)\n",
    "    variable_list = [10] * len(indices)\n",
    "    num_of_species = len(indices)\n",
    "    x_range_list = [x_ranges[i] for i in indices]\n",
    "    all_distribution_list = [dict(zip(cs_x_distribution, cs_y_distribution)), dict(zip(cp_x_distribution, cp_y_distribution)), dict(zip(R_x_distribution, R_y_distribution)), dict(zip(BG_x_distribution, BG_y_distribution)), dict(zip(PR_x_distribution, PR_y_distribution)), dict(zip(DW_x_distribution, DW_y_distribution)), dict(zip(RW_x_distribution, RW_y_distribution))]\n",
    "    distribution_list=[all_distribution_list[i] for i in indices]\n",
    "    growth_rate_list = plant_info['Growth Rate'].values.tolist()\n",
    "    growth_rate_list = [i for j, i in enumerate(growth_rate_list) if j in indices]\n",
    "    competition_matrix = pd.read_csv(\"../Data/judge_matrix/Competition.csv\")\n",
    "    competition_matrix_list = []\n",
    "    for index, value in enumerate(competition_matrix.values):\n",
    "        if(index not in indices):\n",
    "            continue\n",
    "        value_list = [value.tolist()[1:][i] for i in range(len(value.tolist()[1:])) if i in indices]\n",
    "        competition_matrix_list.append(value_list)\n",
    "    cooperation_matrix = pd.read_csv(\"../Data/judge_matrix/Cooperation.csv\")\n",
    "    cooperation_matrix_list = []\n",
    "    for index, value in enumerate(cooperation_matrix.values):\n",
    "        if(index not in indices):\n",
    "            continue\n",
    "        value_list = [value.tolist()[1:][i] for i in range(len(value.tolist()[1:])) if i in indices]\n",
    "        cooperation_matrix_list.append(value_list)\n",
    "    solution_list = []\n",
    "    for timestep in range(len(time)):\n",
    "        moisture = moisture_predicted_data[timestep]\n",
    "        solution = odeint(differential_function, variable_list, timespan, args=(num_of_species, x_range_list, distribution_list, growth_rate_list, moisture, N_list, competition_matrix_list, cooperation_matrix_list))\n",
    "        solution = solution[-1]\n",
    "        variable_list = solution.tolist()\n",
    "        solution_list.append(solution)\n",
    "    # cs_trend, cp_trend, R_trend, BG_trend, PR_trend, DW_trend, RW_trend = [i[0] for i in solution_list], [i[1] for i in solution_list], [i[2] for i in solution_list], [i[3] for i in solution_list], [i[4] for i in solution_list], [i[5] for i in solution_list], [i[6] for i in solution_list]\n",
    "    species_solution = []\n",
    "    for i in range(len(indices)):\n",
    "        specie_solution = [j[i] for j in solution_list]\n",
    "        species_solution.append(specie_solution)\n",
    "    overflow = 0\n",
    "    for i in range(len(indices)):\n",
    "        if(species_solution[i][-1]/N_list[i] > 1):\n",
    "            overflow += species_solution[i][-1]/N_list[i] - 1\n",
    "    min_time_list = []\n",
    "    idx_list = []\n",
    "    for i in range(len(indices)):\n",
    "        flag = True\n",
    "        for idx, j in enumerate(species_solution[i]):\n",
    "            if(abs(species_solution[i][idx] - species_solution[i][idx-100]) < 1e-1 and flag):\n",
    "                min_time_list.append(plant_info['PLANT'][indices[i]])\n",
    "                idx_list.append(time[idx])\n",
    "                flag = False\n",
    "    average_population = 0\n",
    "    num_non_extinct = 0\n",
    "    for i in range(len(indices)):\n",
    "        if(species_solution[i][-1] > 1e-1):\n",
    "            average_population += species_solution[i][-1]\n",
    "            num_non_extinct += 1\n",
    "    return overflow/len(indices), max(idx_list), average_population/ num_non_extinct"
   ]
  },
  {
   "cell_type": "code",
   "execution_count": 10,
   "metadata": {},
   "outputs": [
    {
     "name": "stdout",
     "output_type": "stream",
     "text": [
      "[2.71828183 7.3890561 ]\n"
     ]
    }
   ],
   "source": [
    "print(np.exp([1,2]))"
   ]
  },
  {
   "cell_type": "code",
   "execution_count": 12,
   "metadata": {},
   "outputs": [
    {
     "ename": "KeyboardInterrupt",
     "evalue": "",
     "output_type": "error",
     "traceback": [
      "\u001b[1;31m---------------------------------------------------------------------------\u001b[0m",
      "\u001b[1;31mKeyboardInterrupt\u001b[0m                         Traceback (most recent call last)",
      "\u001b[1;32m~\\AppData\\Local\\Temp\\ipykernel_11276\\3437913009.py\u001b[0m in \u001b[0;36m<module>\u001b[1;34m\u001b[0m\n\u001b[0;32m     13\u001b[0m     \u001b[0mindices\u001b[0m \u001b[1;33m=\u001b[0m \u001b[0msorted\u001b[0m\u001b[1;33m(\u001b[0m\u001b[0mindices\u001b[0m\u001b[1;33m)\u001b[0m\u001b[1;33m\u001b[0m\u001b[1;33m\u001b[0m\u001b[0m\n\u001b[0;32m     14\u001b[0m     \u001b[1;32mif\u001b[0m\u001b[1;33m(\u001b[0m\u001b[0mindices\u001b[0m \u001b[1;32mnot\u001b[0m \u001b[1;32min\u001b[0m \u001b[0mused_indices_list\u001b[0m\u001b[1;33m)\u001b[0m\u001b[1;33m:\u001b[0m\u001b[1;33m\u001b[0m\u001b[1;33m\u001b[0m\u001b[0m\n\u001b[1;32m---> 15\u001b[1;33m         \u001b[0moverflow\u001b[0m\u001b[1;33m,\u001b[0m \u001b[0meqil_time\u001b[0m\u001b[1;33m,\u001b[0m \u001b[0maver_population\u001b[0m \u001b[1;33m=\u001b[0m \u001b[0mmontecarlosimulation\u001b[0m\u001b[1;33m(\u001b[0m\u001b[0mindices\u001b[0m\u001b[1;33m)\u001b[0m\u001b[1;33m\u001b[0m\u001b[1;33m\u001b[0m\u001b[0m\n\u001b[0m\u001b[0;32m     16\u001b[0m         \u001b[0mused_indices_list\u001b[0m\u001b[1;33m.\u001b[0m\u001b[0mappend\u001b[0m\u001b[1;33m(\u001b[0m\u001b[0mindices\u001b[0m\u001b[1;33m)\u001b[0m\u001b[1;33m\u001b[0m\u001b[1;33m\u001b[0m\u001b[0m\n\u001b[0;32m     17\u001b[0m         \u001b[0moverflow_list\u001b[0m\u001b[1;33m.\u001b[0m\u001b[0mappend\u001b[0m\u001b[1;33m(\u001b[0m\u001b[0moverflow\u001b[0m\u001b[1;33m)\u001b[0m\u001b[1;33m\u001b[0m\u001b[1;33m\u001b[0m\u001b[0m\n",
      "\u001b[1;32m~\\AppData\\Local\\Temp\\ipykernel_11276\\3535279759.py\u001b[0m in \u001b[0;36mmontecarlosimulation\u001b[1;34m(indices)\u001b[0m\n\u001b[0;32m     56\u001b[0m     \u001b[1;32mfor\u001b[0m \u001b[0mtimestep\u001b[0m \u001b[1;32min\u001b[0m \u001b[0mrange\u001b[0m\u001b[1;33m(\u001b[0m\u001b[0mlen\u001b[0m\u001b[1;33m(\u001b[0m\u001b[0mtime\u001b[0m\u001b[1;33m)\u001b[0m\u001b[1;33m)\u001b[0m\u001b[1;33m:\u001b[0m\u001b[1;33m\u001b[0m\u001b[1;33m\u001b[0m\u001b[0m\n\u001b[0;32m     57\u001b[0m         \u001b[0mmoisture\u001b[0m \u001b[1;33m=\u001b[0m \u001b[0mmoisture_predicted_data\u001b[0m\u001b[1;33m[\u001b[0m\u001b[0mtimestep\u001b[0m\u001b[1;33m]\u001b[0m\u001b[1;33m\u001b[0m\u001b[1;33m\u001b[0m\u001b[0m\n\u001b[1;32m---> 58\u001b[1;33m         \u001b[0msolution\u001b[0m \u001b[1;33m=\u001b[0m \u001b[0modeint\u001b[0m\u001b[1;33m(\u001b[0m\u001b[0mdifferential_function\u001b[0m\u001b[1;33m,\u001b[0m \u001b[0mvariable_list\u001b[0m\u001b[1;33m,\u001b[0m \u001b[0mtimespan\u001b[0m\u001b[1;33m,\u001b[0m \u001b[0margs\u001b[0m\u001b[1;33m=\u001b[0m\u001b[1;33m(\u001b[0m\u001b[0mnum_of_species\u001b[0m\u001b[1;33m,\u001b[0m \u001b[0mx_range_list\u001b[0m\u001b[1;33m,\u001b[0m \u001b[0mdistribution_list\u001b[0m\u001b[1;33m,\u001b[0m \u001b[0mgrowth_rate_list\u001b[0m\u001b[1;33m,\u001b[0m \u001b[0mmoisture\u001b[0m\u001b[1;33m,\u001b[0m \u001b[0mN_list\u001b[0m\u001b[1;33m,\u001b[0m \u001b[0mcompetition_matrix_list\u001b[0m\u001b[1;33m,\u001b[0m \u001b[0mcooperation_matrix_list\u001b[0m\u001b[1;33m)\u001b[0m\u001b[1;33m)\u001b[0m\u001b[1;33m\u001b[0m\u001b[1;33m\u001b[0m\u001b[0m\n\u001b[0m\u001b[0;32m     59\u001b[0m         \u001b[0msolution\u001b[0m \u001b[1;33m=\u001b[0m \u001b[0msolution\u001b[0m\u001b[1;33m[\u001b[0m\u001b[1;33m-\u001b[0m\u001b[1;36m1\u001b[0m\u001b[1;33m]\u001b[0m\u001b[1;33m\u001b[0m\u001b[1;33m\u001b[0m\u001b[0m\n\u001b[0;32m     60\u001b[0m         \u001b[0mvariable_list\u001b[0m \u001b[1;33m=\u001b[0m \u001b[0msolution\u001b[0m\u001b[1;33m.\u001b[0m\u001b[0mtolist\u001b[0m\u001b[1;33m(\u001b[0m\u001b[1;33m)\u001b[0m\u001b[1;33m\u001b[0m\u001b[1;33m\u001b[0m\u001b[0m\n",
      "\u001b[1;32mc:\\Users\\Sycamore\\anaconda3\\lib\\site-packages\\scipy\\integrate\\_odepack_py.py\u001b[0m in \u001b[0;36modeint\u001b[1;34m(func, y0, t, args, Dfun, col_deriv, full_output, ml, mu, rtol, atol, tcrit, h0, hmax, hmin, ixpr, mxstep, mxhnil, mxordn, mxords, printmessg, tfirst)\u001b[0m\n\u001b[0;32m    237\u001b[0m                          \"allowed.\")\n\u001b[0;32m    238\u001b[0m \u001b[1;33m\u001b[0m\u001b[0m\n\u001b[1;32m--> 239\u001b[1;33m     \u001b[0mt\u001b[0m \u001b[1;33m=\u001b[0m \u001b[0mcopy\u001b[0m\u001b[1;33m(\u001b[0m\u001b[0mt\u001b[0m\u001b[1;33m)\u001b[0m\u001b[1;33m\u001b[0m\u001b[1;33m\u001b[0m\u001b[0m\n\u001b[0m\u001b[0;32m    240\u001b[0m     \u001b[0my0\u001b[0m \u001b[1;33m=\u001b[0m \u001b[0mcopy\u001b[0m\u001b[1;33m(\u001b[0m\u001b[0my0\u001b[0m\u001b[1;33m)\u001b[0m\u001b[1;33m\u001b[0m\u001b[1;33m\u001b[0m\u001b[0m\n\u001b[0;32m    241\u001b[0m     output = _odepack.odeint(func, y0, t, args, Dfun, col_deriv, ml, mu,\n",
      "\u001b[1;32mc:\\Users\\Sycamore\\anaconda3\\lib\\copy.py\u001b[0m in \u001b[0;36mcopy\u001b[1;34m(x)\u001b[0m\n\u001b[0;32m     82\u001b[0m     \u001b[0mcopier\u001b[0m \u001b[1;33m=\u001b[0m \u001b[0mgetattr\u001b[0m\u001b[1;33m(\u001b[0m\u001b[0mcls\u001b[0m\u001b[1;33m,\u001b[0m \u001b[1;34m\"__copy__\"\u001b[0m\u001b[1;33m,\u001b[0m \u001b[1;32mNone\u001b[0m\u001b[1;33m)\u001b[0m\u001b[1;33m\u001b[0m\u001b[1;33m\u001b[0m\u001b[0m\n\u001b[0;32m     83\u001b[0m     \u001b[1;32mif\u001b[0m \u001b[0mcopier\u001b[0m \u001b[1;32mis\u001b[0m \u001b[1;32mnot\u001b[0m \u001b[1;32mNone\u001b[0m\u001b[1;33m:\u001b[0m\u001b[1;33m\u001b[0m\u001b[1;33m\u001b[0m\u001b[0m\n\u001b[1;32m---> 84\u001b[1;33m         \u001b[1;32mreturn\u001b[0m \u001b[0mcopier\u001b[0m\u001b[1;33m(\u001b[0m\u001b[0mx\u001b[0m\u001b[1;33m)\u001b[0m\u001b[1;33m\u001b[0m\u001b[1;33m\u001b[0m\u001b[0m\n\u001b[0m\u001b[0;32m     85\u001b[0m \u001b[1;33m\u001b[0m\u001b[0m\n\u001b[0;32m     86\u001b[0m     \u001b[0mreductor\u001b[0m \u001b[1;33m=\u001b[0m \u001b[0mdispatch_table\u001b[0m\u001b[1;33m.\u001b[0m\u001b[0mget\u001b[0m\u001b[1;33m(\u001b[0m\u001b[0mcls\u001b[0m\u001b[1;33m)\u001b[0m\u001b[1;33m\u001b[0m\u001b[1;33m\u001b[0m\u001b[0m\n",
      "\u001b[1;31mKeyboardInterrupt\u001b[0m: "
     ]
    }
   ],
   "source": [
    "import random\n",
    "used_indices_list = []\n",
    "overflow_list = []\n",
    "equi_list = []\n",
    "aver_population_list = []\n",
    "while(len(used_indices_list) < 120):\n",
    "    indice_length = random.randint(1, 7)\n",
    "    indices = []\n",
    "    while (len(indices) < indice_length):\n",
    "        indice = random.randint(0, 6)\n",
    "        if(indice not in indices):\n",
    "            indices.append(indice)\n",
    "    indices = sorted(indices)\n",
    "    if(indices not in used_indices_list):\n",
    "        overflow, eqil_time, aver_population = montecarlosimulation(indices)\n",
    "        used_indices_list.append(indices)\n",
    "        overflow_list.append(overflow)\n",
    "        equi_list.append(eqil_time)\n",
    "        aver_population_list.append(aver_population)\n",
    "\n",
    "# montecarlosimulation(indices)"
   ]
  },
  {
   "cell_type": "code",
   "execution_count": null,
   "metadata": {},
   "outputs": [
    {
     "ename": "NameError",
     "evalue": "name 'aver_population_list' is not defined",
     "output_type": "error",
     "traceback": [
      "\u001b[1;31m---------------------------------------------------------------------------\u001b[0m",
      "\u001b[1;31mNameError\u001b[0m                                 Traceback (most recent call last)",
      "\u001b[1;32m~\\AppData\\Local\\Temp\\ipykernel_11276\\1482809947.py\u001b[0m in \u001b[0;36m<module>\u001b[1;34m\u001b[0m\n\u001b[0;32m      1\u001b[0m \u001b[1;32mimport\u001b[0m \u001b[0mstatistics\u001b[0m\u001b[1;33m\u001b[0m\u001b[1;33m\u001b[0m\u001b[0m\n\u001b[1;32m----> 2\u001b[1;33m \u001b[0mpopu_list\u001b[0m\u001b[1;33m,\u001b[0m \u001b[0mof_list\u001b[0m\u001b[1;33m,\u001b[0m \u001b[0mste_list\u001b[0m \u001b[1;33m=\u001b[0m \u001b[1;33m[\u001b[0m\u001b[1;33m(\u001b[0m\u001b[0mi\u001b[0m\u001b[1;33m-\u001b[0m\u001b[0mmin\u001b[0m\u001b[1;33m(\u001b[0m\u001b[0maver_population_list\u001b[0m\u001b[1;33m)\u001b[0m\u001b[1;33m)\u001b[0m\u001b[1;33m/\u001b[0m \u001b[1;33m(\u001b[0m\u001b[0mmax\u001b[0m\u001b[1;33m(\u001b[0m\u001b[0maver_population_list\u001b[0m\u001b[1;33m)\u001b[0m\u001b[1;33m-\u001b[0m\u001b[0mmin\u001b[0m\u001b[1;33m(\u001b[0m\u001b[0maver_population_list\u001b[0m\u001b[1;33m)\u001b[0m\u001b[1;33m)\u001b[0m \u001b[1;32mfor\u001b[0m \u001b[0mi\u001b[0m \u001b[1;32min\u001b[0m \u001b[0maver_population_list\u001b[0m\u001b[1;33m]\u001b[0m\u001b[1;33m,\u001b[0m \u001b[1;33m[\u001b[0m\u001b[1;33m(\u001b[0m\u001b[0mi\u001b[0m\u001b[1;33m-\u001b[0m\u001b[0mmin\u001b[0m\u001b[1;33m(\u001b[0m\u001b[0moverflow_list\u001b[0m\u001b[1;33m)\u001b[0m\u001b[1;33m)\u001b[0m\u001b[1;33m/\u001b[0m \u001b[1;33m(\u001b[0m\u001b[0mmax\u001b[0m\u001b[1;33m(\u001b[0m\u001b[0moverflow_list\u001b[0m\u001b[1;33m)\u001b[0m\u001b[1;33m-\u001b[0m\u001b[0mmin\u001b[0m\u001b[1;33m(\u001b[0m\u001b[0moverflow_list\u001b[0m\u001b[1;33m)\u001b[0m\u001b[1;33m)\u001b[0m \u001b[1;32mfor\u001b[0m \u001b[0mi\u001b[0m \u001b[1;32min\u001b[0m \u001b[0moverflow_list\u001b[0m\u001b[1;33m]\u001b[0m\u001b[1;33m,\u001b[0m \u001b[1;33m[\u001b[0m\u001b[1;33m(\u001b[0m\u001b[0mmax\u001b[0m\u001b[1;33m(\u001b[0m\u001b[0mequi_list\u001b[0m\u001b[1;33m)\u001b[0m\u001b[1;33m-\u001b[0m\u001b[0mi\u001b[0m\u001b[1;33m)\u001b[0m\u001b[1;33m/\u001b[0m \u001b[1;33m(\u001b[0m\u001b[0mmax\u001b[0m\u001b[1;33m(\u001b[0m\u001b[0mequi_list\u001b[0m\u001b[1;33m)\u001b[0m\u001b[1;33m-\u001b[0m\u001b[0mmin\u001b[0m\u001b[1;33m(\u001b[0m\u001b[0mequi_list\u001b[0m\u001b[1;33m)\u001b[0m\u001b[1;33m)\u001b[0m \u001b[1;32mfor\u001b[0m \u001b[0mi\u001b[0m \u001b[1;32min\u001b[0m \u001b[0mequi_list\u001b[0m\u001b[1;33m]\u001b[0m\u001b[1;33m\u001b[0m\u001b[1;33m\u001b[0m\u001b[0m\n\u001b[0m\u001b[0;32m      3\u001b[0m \u001b[0mone_index_list\u001b[0m \u001b[1;33m=\u001b[0m \u001b[1;33m[\u001b[0m\u001b[0mi\u001b[0m \u001b[1;32mfor\u001b[0m \u001b[0mi\u001b[0m \u001b[1;32min\u001b[0m \u001b[0mrange\u001b[0m\u001b[1;33m(\u001b[0m\u001b[0mlen\u001b[0m\u001b[1;33m(\u001b[0m\u001b[0mused_indices_list\u001b[0m\u001b[1;33m)\u001b[0m\u001b[1;33m)\u001b[0m \u001b[1;32mif\u001b[0m \u001b[0mlen\u001b[0m\u001b[1;33m(\u001b[0m\u001b[0mused_indices_list\u001b[0m\u001b[1;33m[\u001b[0m\u001b[0mi\u001b[0m\u001b[1;33m]\u001b[0m\u001b[1;33m)\u001b[0m \u001b[1;33m==\u001b[0m \u001b[1;36m1\u001b[0m\u001b[1;33m]\u001b[0m\u001b[1;33m\u001b[0m\u001b[1;33m\u001b[0m\u001b[0m\n\u001b[0;32m      4\u001b[0m \u001b[0mtwo_index_list\u001b[0m \u001b[1;33m=\u001b[0m \u001b[1;33m[\u001b[0m\u001b[0mi\u001b[0m \u001b[1;32mfor\u001b[0m \u001b[0mi\u001b[0m \u001b[1;32min\u001b[0m \u001b[0mrange\u001b[0m\u001b[1;33m(\u001b[0m\u001b[0mlen\u001b[0m\u001b[1;33m(\u001b[0m\u001b[0mused_indices_list\u001b[0m\u001b[1;33m)\u001b[0m\u001b[1;33m)\u001b[0m \u001b[1;32mif\u001b[0m \u001b[0mlen\u001b[0m\u001b[1;33m(\u001b[0m\u001b[0mused_indices_list\u001b[0m\u001b[1;33m[\u001b[0m\u001b[0mi\u001b[0m\u001b[1;33m]\u001b[0m\u001b[1;33m)\u001b[0m \u001b[1;33m==\u001b[0m \u001b[1;36m2\u001b[0m\u001b[1;33m]\u001b[0m\u001b[1;33m\u001b[0m\u001b[1;33m\u001b[0m\u001b[0m\n\u001b[0;32m      5\u001b[0m \u001b[0mthree_index_list\u001b[0m \u001b[1;33m=\u001b[0m \u001b[1;33m[\u001b[0m\u001b[0mi\u001b[0m \u001b[1;32mfor\u001b[0m \u001b[0mi\u001b[0m \u001b[1;32min\u001b[0m \u001b[0mrange\u001b[0m\u001b[1;33m(\u001b[0m\u001b[0mlen\u001b[0m\u001b[1;33m(\u001b[0m\u001b[0mused_indices_list\u001b[0m\u001b[1;33m)\u001b[0m\u001b[1;33m)\u001b[0m \u001b[1;32mif\u001b[0m \u001b[0mlen\u001b[0m\u001b[1;33m(\u001b[0m\u001b[0mused_indices_list\u001b[0m\u001b[1;33m[\u001b[0m\u001b[0mi\u001b[0m\u001b[1;33m]\u001b[0m\u001b[1;33m)\u001b[0m \u001b[1;33m==\u001b[0m \u001b[1;36m3\u001b[0m\u001b[1;33m]\u001b[0m\u001b[1;33m\u001b[0m\u001b[1;33m\u001b[0m\u001b[0m\n",
      "\u001b[1;31mNameError\u001b[0m: name 'aver_population_list' is not defined"
     ]
    }
   ],
   "source": [
    "import statistics\n",
    "popu_list, of_list, ste_list = [(i-min(aver_population_list))/ (max(aver_population_list)-min(aver_population_list)) for i in aver_population_list], [(i-min(overflow_list))/ (max(overflow_list)-min(overflow_list)) for i in overflow_list], [(max(equi_list)-i)/ (max(equi_list)-min(equi_list)) for i in equi_list]\n",
    "one_index_list = [i for i in range(len(used_indices_list)) if len(used_indices_list[i]) == 1]\n",
    "two_index_list = [i for i in range(len(used_indices_list)) if len(used_indices_list[i]) == 2]\n",
    "three_index_list = [i for i in range(len(used_indices_list)) if len(used_indices_list[i]) == 3]\n",
    "four_index_list = [i for i in range(len(used_indices_list)) if len(used_indices_list[i]) == 4]\n",
    "five_index_list = [i for i in range(len(used_indices_list)) if len(used_indices_list[i]) == 5]\n",
    "six_index_list = [i for i in range(len(used_indices_list)) if len(used_indices_list[i]) == 6]\n",
    "seven_index_list = [i for i in range(len(used_indices_list)) if len(used_indices_list[i]) == 7]\n",
    "benefit_list = []\n",
    "benefit_list.append([popu_list[i]*2 + of_list[i]*4 + ste_list[i] for i in one_index_list])\n",
    "benefit_list.append([popu_list[i]*2 + of_list[i]*4 + ste_list[i] for i in two_index_list])\n",
    "benefit_list.append([popu_list[i]*2 + of_list[i]*4 + ste_list[i] for i in three_index_list])\n",
    "benefit_list.append([popu_list[i]*2 + of_list[i]*4 + ste_list[i] for i in four_index_list])\n",
    "benefit_list.append([popu_list[i]*2 + of_list[i]*4 + ste_list[i] for i in five_index_list])\n",
    "benefit_list.append([popu_list[i]*2 + of_list[i]*4 + ste_list[i] for i in six_index_list])\n",
    "benefit_list.append([popu_list[i]*2 + of_list[i]*4 + ste_list[i] for i in seven_index_list])\n",
    "benefit_base = statistics.median(benefit_list[0])\n",
    "plt.title('Benefit score of different number of species')\n",
    "plt.xlabel('Combinations of species')\n",
    "plt.ylabel('Benefit score')\n",
    "for i in range(1,7):\n",
    "    plt.plot(np.arange(0, len(benefit_list[i]), 1), benefit_list[i], label = str(i+1) + ' species')\n",
    "plt.plot(np.arange(0, 30, 1), [benefit_base for i in range(30)])\n",
    "for i in range(0,7):\n",
    "    print(len([j for j in benefit_list[i] if j >= benefit_base])/len(benefit_list[i]))\n",
    "plt.legend()\n",
    "plt.show()\n",
    "print(statistics.median(benefit_list[0]))"
   ]
  },
  {
   "cell_type": "code",
   "execution_count": null,
   "metadata": {},
   "outputs": [
    {
     "name": "stdout",
     "output_type": "stream",
     "text": [
      "{1: 48, 2: 43, 4: 43, 3: 64, 6: 43, 0: 33, 5: 40}\n"
     ]
    }
   ],
   "source": [
    "below_base_indices_list = []\n",
    "\n",
    "\n",
    "for i in range(0, len(benefit_list[0])):\n",
    "    if(benefit_list[0][i] >= benefit_base):\n",
    "        below_base_indices_list.append(used_indices_list[one_index_list[i]])\n",
    "for i in range(0, len(benefit_list[1])):\n",
    "    if(benefit_list[1][i] >= benefit_base):\n",
    "        below_base_indices_list.append(used_indices_list[two_index_list[i]])\n",
    "for i in range(0, len(benefit_list[2])):\n",
    "    if(benefit_list[2][i] >= benefit_base):\n",
    "        below_base_indices_list.append(used_indices_list[three_index_list[i]])\n",
    "for i in range(0, len(benefit_list[3])):\n",
    "    if(benefit_list[3][i] >= benefit_base):\n",
    "        below_base_indices_list.append(used_indices_list[four_index_list[i]])\n",
    "for i in range(0, len(benefit_list[4])):\n",
    "    if(benefit_list[4][i] >= benefit_base):\n",
    "        below_base_indices_list.append(used_indices_list[five_index_list[i]])\n",
    "for i in range(0, len(benefit_list[5])):\n",
    "    if(benefit_list[5][i] >= benefit_base):\n",
    "        below_base_indices_list.append(used_indices_list[six_index_list[i]])\n",
    "for i in range(0, len(benefit_list[6])):\n",
    "    if(benefit_list[6][i] >= benefit_base):\n",
    "        below_base_indices_list.append(used_indices_list[seven_index_list[i]])\n",
    "below_base_specie_dict = {}\n",
    "for i in range(0, len(below_base_indices_list)):\n",
    "    for j in range(0, len(below_base_indices_list[i])):\n",
    "        if(below_base_indices_list[i][j] not in below_base_specie_dict):\n",
    "            below_base_specie_dict[below_base_indices_list[i][j]] = 1\n",
    "        else:\n",
    "            below_base_specie_dict[below_base_indices_list[i][j]] += 1\n",
    "print(below_base_specie_dict)"
   ]
  },
  {
   "cell_type": "code",
   "execution_count": 3,
   "metadata": {},
   "outputs": [],
   "source": [
    "import plotly\n",
    "import plotly.express as px\n",
    "import plotly.graph_objects as go\n",
    "import plotly.io as pio\n",
    "import pandas as pd\n",
    "import numpy as np\n"
   ]
  },
  {
   "cell_type": "code",
   "execution_count": 6,
   "metadata": {},
   "outputs": [
    {
     "name": "stdout",
     "output_type": "stream",
     "text": [
      "           num Species         x         y\n",
      "0     1.000000      CS -7.595168 -1.067431\n",
      "1    19.297194      CP -3.226535  2.707384\n",
      "2    10.792252       R -5.190742  4.355550\n",
      "3   121.000000      BG  1.137315 -3.124748\n",
      "4    10.792252      PR  2.441682  4.063641\n",
      "5     5.577188      DW -0.215075 -3.075716\n",
      "6     9.227370      RW -3.322154  8.222620\n",
      "7     1.000000      CS  5.708506  7.575444\n",
      "8    19.297194      CP -0.620508 -2.029589\n",
      "9    10.792252       R -2.807994 -6.021762\n",
      "10  121.000000      BG  0.259053 -7.418313\n",
      "11   10.792252      PR -3.653429  1.942563\n",
      "12    5.577188      DW -6.403655 -7.111980\n",
      "13    9.227370      RW -3.610598  4.009976\n",
      "14    1.000000      CS -0.377656  7.206097\n",
      "15   19.297194      CP  0.257662 -1.833360\n",
      "16   10.792252       R  0.673184 -1.321198\n",
      "17  121.000000      BG  5.150900 -7.931691\n",
      "18   10.792252      PR -2.605851 -2.265231\n",
      "19    5.577188      DW -8.629081  1.212738\n",
      "20    9.227370      RW  0.906879  2.633768\n",
      "21    1.000000      CS -2.078016  3.599230\n",
      "22   19.297194      CP  3.758010  0.131233\n",
      "23   10.792252       R  9.501336  0.664398\n",
      "24  121.000000      BG  1.129835 -1.499341\n",
      "25   10.792252      PR  3.397039  4.851474\n",
      "26    5.577188      DW  6.682844  6.017260\n",
      "27    9.227370      RW -2.728095  8.396213\n",
      "28    1.000000      CS  3.891738 -1.189824\n",
      "29   19.297194      CP  3.733354 -6.213344\n",
      "30   10.792252       R  4.191031  0.663794\n",
      "31  121.000000      BG  4.633918  8.715132\n",
      "32   10.792252      PR -4.575529 -2.432852\n",
      "33    5.577188      DW -0.614531 -3.485177\n",
      "34    9.227370      RW  1.707122  1.151469\n"
     ]
    }
   ],
   "source": [
    "\n",
    "def softmax(x):\n",
    "    return np.exp(np.array(x)) / np.sum(np.exp(x), axis=0).tolist()\n",
    "num=[32, 48, 44, 64, 44, 40, 43]\n",
    "# num2 = sorted(num)\n",
    "# num2 = [(num2[i+1]-num2[i])*10 for i in range(len(num2)-1)]\n",
    "# print(num)\n",
    "# num = [i+num2[i]]\n",
    "n=5\n",
    "num = [i*i*i for i in num]\n",
    "num = [(1+(i-min(num))/(max(num)-min(num))*10)**2 for i in num]*n\n",
    "species = ['CS', 'CP', 'R', 'BG', 'PR', 'DW', 'RW']*n\n",
    "r = np.random.uniform(10, size=n*7)\n",
    "theta = np.random.randint(360, size=(n*7))\n",
    "x = r*np.cos(theta/180*np.pi)\n",
    "y = r*np.sin(theta/180*np.pi)\n",
    "df=pd.DataFrame()\n",
    "df['num'] = num\n",
    "df['Species'] = species\n",
    "df['x'] = x\n",
    "df['y'] = y\n",
    "print(df)"
   ]
  },
  {
   "cell_type": "code",
   "execution_count": 7,
   "metadata": {},
   "outputs": [
    {
     "data": {
      "application/vnd.plotly.v1+json": {
       "config": {
        "plotlyServerURL": "https://plot.ly"
       },
       "data": [
        {
         "hovertemplate": "Species=CS<br>x=%{x}<br>y=%{y}<br>num=%{marker.size}<extra></extra>",
         "legendgroup": "CS",
         "marker": {
          "color": "#636efa",
          "size": [
           1,
           1,
           1,
           1,
           1
          ],
          "sizemode": "area",
          "sizeref": 0.0121,
          "symbol": "circle"
         },
         "mode": "markers",
         "name": "CS",
         "orientation": "v",
         "showlegend": true,
         "type": "scatter",
         "x": [
          -7.595167500410842,
          5.708506264877425,
          -0.37765555353543623,
          -2.078016417665179,
          3.8917376207681005
         ],
         "xaxis": "x",
         "y": [
          -1.0674311802122165,
          7.575443677993254,
          7.206097237889316,
          3.5992300143583607,
          -1.1898235948557387
         ],
         "yaxis": "y"
        },
        {
         "hovertemplate": "Species=CP<br>x=%{x}<br>y=%{y}<br>num=%{marker.size}<extra></extra>",
         "legendgroup": "CP",
         "marker": {
          "color": "#EF553B",
          "size": [
           19.297193877551024,
           19.297193877551024,
           19.297193877551024,
           19.297193877551024,
           19.297193877551024
          ],
          "sizemode": "area",
          "sizeref": 0.0121,
          "symbol": "circle"
         },
         "mode": "markers",
         "name": "CP",
         "orientation": "v",
         "showlegend": true,
         "type": "scatter",
         "x": [
          -3.2265349661859304,
          -0.6205076112951644,
          0.2576619167574264,
          3.7580101835674915,
          3.7333536835436676
         ],
         "xaxis": "x",
         "y": [
          2.7073843001072126,
          -2.0295889451941247,
          -1.8333598011072718,
          0.13123260736800094,
          -6.213343935879455
         ],
         "yaxis": "y"
        },
        {
         "hovertemplate": "Species=R<br>x=%{x}<br>y=%{y}<br>num=%{marker.size}<extra></extra>",
         "legendgroup": "R",
         "marker": {
          "color": "#00cc96",
          "size": [
           10.792251586914062,
           10.792251586914062,
           10.792251586914062,
           10.792251586914062,
           10.792251586914062
          ],
          "sizemode": "area",
          "sizeref": 0.0121,
          "symbol": "circle"
         },
         "mode": "markers",
         "name": "R",
         "orientation": "v",
         "showlegend": true,
         "type": "scatter",
         "x": [
          -5.190742180959362,
          -2.8079936411336517,
          0.6731840208802539,
          9.501335668848753,
          4.191030832539321
         ],
         "xaxis": "x",
         "y": [
          4.3555498495793525,
          -6.021761796157955,
          -1.3211980315177856,
          0.6643981125277546,
          0.6637940727946157
         ],
         "yaxis": "y"
        },
        {
         "hovertemplate": "Species=BG<br>x=%{x}<br>y=%{y}<br>num=%{marker.size}<extra></extra>",
         "legendgroup": "BG",
         "marker": {
          "color": "#ab63fa",
          "size": [
           121,
           121,
           121,
           121,
           121
          ],
          "sizemode": "area",
          "sizeref": 0.0121,
          "symbol": "circle"
         },
         "mode": "markers",
         "name": "BG",
         "orientation": "v",
         "showlegend": true,
         "type": "scatter",
         "x": [
          1.1373152346124744,
          0.2590531840867748,
          5.150900316657961,
          1.1298348088047316,
          4.633917627298639
         ],
         "xaxis": "x",
         "y": [
          -3.1247479258995066,
          -7.418312593254769,
          -7.931690929723044,
          -1.4993414323108063,
          8.71513151989543
         ],
         "yaxis": "y"
        },
        {
         "hovertemplate": "Species=PR<br>x=%{x}<br>y=%{y}<br>num=%{marker.size}<extra></extra>",
         "legendgroup": "PR",
         "marker": {
          "color": "#FFA15A",
          "size": [
           10.792251586914062,
           10.792251586914062,
           10.792251586914062,
           10.792251586914062,
           10.792251586914062
          ],
          "sizemode": "area",
          "sizeref": 0.0121,
          "symbol": "circle"
         },
         "mode": "markers",
         "name": "PR",
         "orientation": "v",
         "showlegend": true,
         "type": "scatter",
         "x": [
          2.4416818871716113,
          -3.6534292322325284,
          -2.6058506654589793,
          3.397038542841531,
          -4.575528804622989
         ],
         "xaxis": "x",
         "y": [
          4.063641067246604,
          1.94256278068579,
          -2.26523142421308,
          4.851473823785271,
          -2.4328518202568126
         ],
         "yaxis": "y"
        },
        {
         "hovertemplate": "Species=DW<br>x=%{x}<br>y=%{y}<br>num=%{marker.size}<extra></extra>",
         "legendgroup": "DW",
         "marker": {
          "color": "#19d3f3",
          "size": [
           5.577188297193877,
           5.577188297193877,
           5.577188297193877,
           5.577188297193877,
           5.577188297193877
          ],
          "sizemode": "area",
          "sizeref": 0.0121,
          "symbol": "circle"
         },
         "mode": "markers",
         "name": "DW",
         "orientation": "v",
         "showlegend": true,
         "type": "scatter",
         "x": [
          -0.21507498881015702,
          -6.403655392128097,
          -8.629081437386482,
          6.682844125140472,
          -0.6145308191858704
         ],
         "xaxis": "x",
         "y": [
          -3.0757156351400954,
          -7.1119798191509025,
          1.2127383079252068,
          6.0172598776885415,
          -3.485177462443605
         ],
         "yaxis": "y"
        },
        {
         "hovertemplate": "Species=RW<br>x=%{x}<br>y=%{y}<br>num=%{marker.size}<extra></extra>",
         "legendgroup": "RW",
         "marker": {
          "color": "#FF6692",
          "size": [
           9.227370325475931,
           9.227370325475931,
           9.227370325475931,
           9.227370325475931,
           9.227370325475931
          ],
          "sizemode": "area",
          "sizeref": 0.0121,
          "symbol": "circle"
         },
         "mode": "markers",
         "name": "RW",
         "orientation": "v",
         "showlegend": true,
         "type": "scatter",
         "x": [
          -3.3221542373272337,
          -3.610598159029066,
          0.906879214675357,
          -2.7280949353158954,
          1.707122261752324
         ],
         "xaxis": "x",
         "y": [
          8.222620277829876,
          4.009975501436927,
          2.633768479998279,
          8.39621287027292,
          1.151468504843249
         ],
         "yaxis": "y"
        }
       ],
       "layout": {
        "font": {
         "family": "Times New Roman",
         "size": 24
        },
        "height": 800,
        "legend": {
         "itemsizing": "constant",
         "title": {
          "text": "Species"
         },
         "tracegroupgap": 0
        },
        "margin": {
         "t": 60
        },
        "scene": {
         "aspectratio": {
          "x": 1,
          "y": 1
         },
         "xaxis": {
          "autorange": false,
          "nticks": 5,
          "range": [
           -5,
           5
          ],
          "tickmode": "auto"
         },
         "yaxis": {
          "autorange": false,
          "nticks": 5,
          "range": [
           -5,
           5
          ],
          "tickmode": "auto"
         }
        },
        "template": {
         "data": {
          "bar": [
           {
            "error_x": {
             "color": "#2a3f5f"
            },
            "error_y": {
             "color": "#2a3f5f"
            },
            "marker": {
             "line": {
              "color": "#E5ECF6",
              "width": 0.5
             },
             "pattern": {
              "fillmode": "overlay",
              "size": 10,
              "solidity": 0.2
             }
            },
            "type": "bar"
           }
          ],
          "barpolar": [
           {
            "marker": {
             "line": {
              "color": "#E5ECF6",
              "width": 0.5
             },
             "pattern": {
              "fillmode": "overlay",
              "size": 10,
              "solidity": 0.2
             }
            },
            "type": "barpolar"
           }
          ],
          "carpet": [
           {
            "aaxis": {
             "endlinecolor": "#2a3f5f",
             "gridcolor": "white",
             "linecolor": "white",
             "minorgridcolor": "white",
             "startlinecolor": "#2a3f5f"
            },
            "baxis": {
             "endlinecolor": "#2a3f5f",
             "gridcolor": "white",
             "linecolor": "white",
             "minorgridcolor": "white",
             "startlinecolor": "#2a3f5f"
            },
            "type": "carpet"
           }
          ],
          "choropleth": [
           {
            "colorbar": {
             "outlinewidth": 0,
             "ticks": ""
            },
            "type": "choropleth"
           }
          ],
          "contour": [
           {
            "colorbar": {
             "outlinewidth": 0,
             "ticks": ""
            },
            "colorscale": [
             [
              0,
              "#0d0887"
             ],
             [
              0.1111111111111111,
              "#46039f"
             ],
             [
              0.2222222222222222,
              "#7201a8"
             ],
             [
              0.3333333333333333,
              "#9c179e"
             ],
             [
              0.4444444444444444,
              "#bd3786"
             ],
             [
              0.5555555555555556,
              "#d8576b"
             ],
             [
              0.6666666666666666,
              "#ed7953"
             ],
             [
              0.7777777777777778,
              "#fb9f3a"
             ],
             [
              0.8888888888888888,
              "#fdca26"
             ],
             [
              1,
              "#f0f921"
             ]
            ],
            "type": "contour"
           }
          ],
          "contourcarpet": [
           {
            "colorbar": {
             "outlinewidth": 0,
             "ticks": ""
            },
            "type": "contourcarpet"
           }
          ],
          "heatmap": [
           {
            "colorbar": {
             "outlinewidth": 0,
             "ticks": ""
            },
            "colorscale": [
             [
              0,
              "#0d0887"
             ],
             [
              0.1111111111111111,
              "#46039f"
             ],
             [
              0.2222222222222222,
              "#7201a8"
             ],
             [
              0.3333333333333333,
              "#9c179e"
             ],
             [
              0.4444444444444444,
              "#bd3786"
             ],
             [
              0.5555555555555556,
              "#d8576b"
             ],
             [
              0.6666666666666666,
              "#ed7953"
             ],
             [
              0.7777777777777778,
              "#fb9f3a"
             ],
             [
              0.8888888888888888,
              "#fdca26"
             ],
             [
              1,
              "#f0f921"
             ]
            ],
            "type": "heatmap"
           }
          ],
          "heatmapgl": [
           {
            "colorbar": {
             "outlinewidth": 0,
             "ticks": ""
            },
            "colorscale": [
             [
              0,
              "#0d0887"
             ],
             [
              0.1111111111111111,
              "#46039f"
             ],
             [
              0.2222222222222222,
              "#7201a8"
             ],
             [
              0.3333333333333333,
              "#9c179e"
             ],
             [
              0.4444444444444444,
              "#bd3786"
             ],
             [
              0.5555555555555556,
              "#d8576b"
             ],
             [
              0.6666666666666666,
              "#ed7953"
             ],
             [
              0.7777777777777778,
              "#fb9f3a"
             ],
             [
              0.8888888888888888,
              "#fdca26"
             ],
             [
              1,
              "#f0f921"
             ]
            ],
            "type": "heatmapgl"
           }
          ],
          "histogram": [
           {
            "marker": {
             "pattern": {
              "fillmode": "overlay",
              "size": 10,
              "solidity": 0.2
             }
            },
            "type": "histogram"
           }
          ],
          "histogram2d": [
           {
            "colorbar": {
             "outlinewidth": 0,
             "ticks": ""
            },
            "colorscale": [
             [
              0,
              "#0d0887"
             ],
             [
              0.1111111111111111,
              "#46039f"
             ],
             [
              0.2222222222222222,
              "#7201a8"
             ],
             [
              0.3333333333333333,
              "#9c179e"
             ],
             [
              0.4444444444444444,
              "#bd3786"
             ],
             [
              0.5555555555555556,
              "#d8576b"
             ],
             [
              0.6666666666666666,
              "#ed7953"
             ],
             [
              0.7777777777777778,
              "#fb9f3a"
             ],
             [
              0.8888888888888888,
              "#fdca26"
             ],
             [
              1,
              "#f0f921"
             ]
            ],
            "type": "histogram2d"
           }
          ],
          "histogram2dcontour": [
           {
            "colorbar": {
             "outlinewidth": 0,
             "ticks": ""
            },
            "colorscale": [
             [
              0,
              "#0d0887"
             ],
             [
              0.1111111111111111,
              "#46039f"
             ],
             [
              0.2222222222222222,
              "#7201a8"
             ],
             [
              0.3333333333333333,
              "#9c179e"
             ],
             [
              0.4444444444444444,
              "#bd3786"
             ],
             [
              0.5555555555555556,
              "#d8576b"
             ],
             [
              0.6666666666666666,
              "#ed7953"
             ],
             [
              0.7777777777777778,
              "#fb9f3a"
             ],
             [
              0.8888888888888888,
              "#fdca26"
             ],
             [
              1,
              "#f0f921"
             ]
            ],
            "type": "histogram2dcontour"
           }
          ],
          "mesh3d": [
           {
            "colorbar": {
             "outlinewidth": 0,
             "ticks": ""
            },
            "type": "mesh3d"
           }
          ],
          "parcoords": [
           {
            "line": {
             "colorbar": {
              "outlinewidth": 0,
              "ticks": ""
             }
            },
            "type": "parcoords"
           }
          ],
          "pie": [
           {
            "automargin": true,
            "type": "pie"
           }
          ],
          "scatter": [
           {
            "fillpattern": {
             "fillmode": "overlay",
             "size": 10,
             "solidity": 0.2
            },
            "type": "scatter"
           }
          ],
          "scatter3d": [
           {
            "line": {
             "colorbar": {
              "outlinewidth": 0,
              "ticks": ""
             }
            },
            "marker": {
             "colorbar": {
              "outlinewidth": 0,
              "ticks": ""
             }
            },
            "type": "scatter3d"
           }
          ],
          "scattercarpet": [
           {
            "marker": {
             "colorbar": {
              "outlinewidth": 0,
              "ticks": ""
             }
            },
            "type": "scattercarpet"
           }
          ],
          "scattergeo": [
           {
            "marker": {
             "colorbar": {
              "outlinewidth": 0,
              "ticks": ""
             }
            },
            "type": "scattergeo"
           }
          ],
          "scattergl": [
           {
            "marker": {
             "colorbar": {
              "outlinewidth": 0,
              "ticks": ""
             }
            },
            "type": "scattergl"
           }
          ],
          "scattermapbox": [
           {
            "marker": {
             "colorbar": {
              "outlinewidth": 0,
              "ticks": ""
             }
            },
            "type": "scattermapbox"
           }
          ],
          "scatterpolar": [
           {
            "marker": {
             "colorbar": {
              "outlinewidth": 0,
              "ticks": ""
             }
            },
            "type": "scatterpolar"
           }
          ],
          "scatterpolargl": [
           {
            "marker": {
             "colorbar": {
              "outlinewidth": 0,
              "ticks": ""
             }
            },
            "type": "scatterpolargl"
           }
          ],
          "scatterternary": [
           {
            "marker": {
             "colorbar": {
              "outlinewidth": 0,
              "ticks": ""
             }
            },
            "type": "scatterternary"
           }
          ],
          "surface": [
           {
            "colorbar": {
             "outlinewidth": 0,
             "ticks": ""
            },
            "colorscale": [
             [
              0,
              "#0d0887"
             ],
             [
              0.1111111111111111,
              "#46039f"
             ],
             [
              0.2222222222222222,
              "#7201a8"
             ],
             [
              0.3333333333333333,
              "#9c179e"
             ],
             [
              0.4444444444444444,
              "#bd3786"
             ],
             [
              0.5555555555555556,
              "#d8576b"
             ],
             [
              0.6666666666666666,
              "#ed7953"
             ],
             [
              0.7777777777777778,
              "#fb9f3a"
             ],
             [
              0.8888888888888888,
              "#fdca26"
             ],
             [
              1,
              "#f0f921"
             ]
            ],
            "type": "surface"
           }
          ],
          "table": [
           {
            "cells": {
             "fill": {
              "color": "#EBF0F8"
             },
             "line": {
              "color": "white"
             }
            },
            "header": {
             "fill": {
              "color": "#C8D4E3"
             },
             "line": {
              "color": "white"
             }
            },
            "type": "table"
           }
          ]
         },
         "layout": {
          "annotationdefaults": {
           "arrowcolor": "#2a3f5f",
           "arrowhead": 0,
           "arrowwidth": 1
          },
          "autotypenumbers": "strict",
          "coloraxis": {
           "colorbar": {
            "outlinewidth": 0,
            "ticks": ""
           }
          },
          "colorscale": {
           "diverging": [
            [
             0,
             "#8e0152"
            ],
            [
             0.1,
             "#c51b7d"
            ],
            [
             0.2,
             "#de77ae"
            ],
            [
             0.3,
             "#f1b6da"
            ],
            [
             0.4,
             "#fde0ef"
            ],
            [
             0.5,
             "#f7f7f7"
            ],
            [
             0.6,
             "#e6f5d0"
            ],
            [
             0.7,
             "#b8e186"
            ],
            [
             0.8,
             "#7fbc41"
            ],
            [
             0.9,
             "#4d9221"
            ],
            [
             1,
             "#276419"
            ]
           ],
           "sequential": [
            [
             0,
             "#0d0887"
            ],
            [
             0.1111111111111111,
             "#46039f"
            ],
            [
             0.2222222222222222,
             "#7201a8"
            ],
            [
             0.3333333333333333,
             "#9c179e"
            ],
            [
             0.4444444444444444,
             "#bd3786"
            ],
            [
             0.5555555555555556,
             "#d8576b"
            ],
            [
             0.6666666666666666,
             "#ed7953"
            ],
            [
             0.7777777777777778,
             "#fb9f3a"
            ],
            [
             0.8888888888888888,
             "#fdca26"
            ],
            [
             1,
             "#f0f921"
            ]
           ],
           "sequentialminus": [
            [
             0,
             "#0d0887"
            ],
            [
             0.1111111111111111,
             "#46039f"
            ],
            [
             0.2222222222222222,
             "#7201a8"
            ],
            [
             0.3333333333333333,
             "#9c179e"
            ],
            [
             0.4444444444444444,
             "#bd3786"
            ],
            [
             0.5555555555555556,
             "#d8576b"
            ],
            [
             0.6666666666666666,
             "#ed7953"
            ],
            [
             0.7777777777777778,
             "#fb9f3a"
            ],
            [
             0.8888888888888888,
             "#fdca26"
            ],
            [
             1,
             "#f0f921"
            ]
           ]
          },
          "colorway": [
           "#636efa",
           "#EF553B",
           "#00cc96",
           "#ab63fa",
           "#FFA15A",
           "#19d3f3",
           "#FF6692",
           "#B6E880",
           "#FF97FF",
           "#FECB52"
          ],
          "font": {
           "color": "#2a3f5f"
          },
          "geo": {
           "bgcolor": "white",
           "lakecolor": "white",
           "landcolor": "#E5ECF6",
           "showlakes": true,
           "showland": true,
           "subunitcolor": "white"
          },
          "hoverlabel": {
           "align": "left"
          },
          "hovermode": "closest",
          "mapbox": {
           "style": "light"
          },
          "paper_bgcolor": "white",
          "plot_bgcolor": "#E5ECF6",
          "polar": {
           "angularaxis": {
            "gridcolor": "white",
            "linecolor": "white",
            "ticks": ""
           },
           "bgcolor": "#E5ECF6",
           "radialaxis": {
            "gridcolor": "white",
            "linecolor": "white",
            "ticks": ""
           }
          },
          "scene": {
           "xaxis": {
            "backgroundcolor": "#E5ECF6",
            "gridcolor": "white",
            "gridwidth": 2,
            "linecolor": "white",
            "showbackground": true,
            "ticks": "",
            "zerolinecolor": "white"
           },
           "yaxis": {
            "backgroundcolor": "#E5ECF6",
            "gridcolor": "white",
            "gridwidth": 2,
            "linecolor": "white",
            "showbackground": true,
            "ticks": "",
            "zerolinecolor": "white"
           },
           "zaxis": {
            "backgroundcolor": "#E5ECF6",
            "gridcolor": "white",
            "gridwidth": 2,
            "linecolor": "white",
            "showbackground": true,
            "ticks": "",
            "zerolinecolor": "white"
           }
          },
          "shapedefaults": {
           "line": {
            "color": "#2a3f5f"
           }
          },
          "ternary": {
           "aaxis": {
            "gridcolor": "white",
            "linecolor": "white",
            "ticks": ""
           },
           "baxis": {
            "gridcolor": "white",
            "linecolor": "white",
            "ticks": ""
           },
           "bgcolor": "#E5ECF6",
           "caxis": {
            "gridcolor": "white",
            "linecolor": "white",
            "ticks": ""
           }
          },
          "title": {
           "x": 0.05
          },
          "xaxis": {
           "automargin": true,
           "gridcolor": "white",
           "linecolor": "white",
           "ticks": "",
           "title": {
            "standoff": 15
           },
           "zerolinecolor": "white",
           "zerolinewidth": 2
          },
          "yaxis": {
           "automargin": true,
           "gridcolor": "white",
           "linecolor": "white",
           "ticks": "",
           "title": {
            "standoff": 15
           },
           "zerolinecolor": "white",
           "zerolinewidth": 2
          }
         }
        },
        "width": 1050,
        "xaxis": {
         "anchor": "y",
         "domain": [
          0,
          1
         ],
         "title": {
          "text": "x"
         }
        },
        "yaxis": {
         "anchor": "x",
         "domain": [
          0,
          1
         ],
         "title": {
          "text": "y"
         }
        }
       }
      }
     },
     "metadata": {},
     "output_type": "display_data"
    }
   ],
   "source": [
    "\n",
    "# 冒泡散点图\n",
    "fig = px.scatter(df,\n",
    "        x=\"x\",  # 横坐标\n",
    "        y=\"y\",  # 纵坐标\n",
    "        color=\"Species\",  # 区分颜色\n",
    "        size=\"num\",  # 区分圆的大小\n",
    "        size_max=100,  # 散点/大小\n",
    "        )\n",
    "fig.update_layout(\n",
    "    height=1000,\n",
    "    width=1000,\n",
    "    scene=dict(\n",
    "        xaxis=dict(tickmode='auto',nticks=5, range=[-5, 5],autorange=False,),\n",
    "        yaxis=dict(tickmode='auto',nticks=5, range=[-5, 5],autorange=False,),\n",
    "        aspectratio=dict(x=1, y=1)\n",
    "        ),)\n",
    "fig.update_layout(font=dict(family='Times New Roman',\n",
    "                        size=24), width=1050, height=800)\n",
    "#     margin=dict(r=0, l=0, b=0, t=0))\n"
   ]
  }
 ],
 "metadata": {
  "kernelspec": {
   "display_name": "base",
   "language": "python",
   "name": "python3"
  },
  "language_info": {
   "codemirror_mode": {
    "name": "ipython",
    "version": 3
   },
   "file_extension": ".py",
   "mimetype": "text/x-python",
   "name": "python",
   "nbconvert_exporter": "python",
   "pygments_lexer": "ipython3",
   "version": "3.9.13"
  },
  "orig_nbformat": 4,
  "vscode": {
   "interpreter": {
    "hash": "19f09cf2eddec64482a34667392e5f7909b14c50127e00aaec2a5f5b7afabf58"
   }
  }
 },
 "nbformat": 4,
 "nbformat_minor": 2
}
